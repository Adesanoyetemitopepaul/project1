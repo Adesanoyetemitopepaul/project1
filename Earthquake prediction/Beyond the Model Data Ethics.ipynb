{
 "cells": [
  {
   "cell_type": "code",
   "execution_count": 2,
   "id": "8cab8d5c-9438-4dee-8332-5ea60a861068",
   "metadata": {},
   "outputs": [],
   "source": [
    "import sqlite3\n",
    "import warnings\n",
    "\n",
    "import matplotlib.pyplot as plt\n",
    "import numpy as np\n",
    "import pandas as pd\n",
    "from category_encoders import OneHotEncoder\n",
    "from IPython.display import VimeoVideo\n",
    "from sklearn.linear_model import LogisticRegression\n",
    "from sklearn.metrics import accuracy_score\n",
    "from sklearn.model_selection import train_test_split\n",
    "from sklearn.pipeline import Pipeline, make_pipeline\n",
    "from sklearn.utils.validation import check_is_fitted\n",
    "\n",
    "warnings.simplefilter(action=\"ignore\", category=FutureWarning)"
   ]
  },
  {
   "cell_type": "code",
   "execution_count": 4,
   "id": "6e79761b-ada4-4c80-946e-bb314e409766",
   "metadata": {},
   "outputs": [],
   "source": [
    "#Task 4.4.1: Run the cell below to connect to the nepal.sqlite database.\n",
    "\n",
    " #code\n",
    "#%load_ext sql\n",
    "#%sql sqlite:////home/jovyan/nepal.sqlite"
   ]
  },
  {
   "cell_type": "code",
   "execution_count": 5,
   "id": "7eee79d3-a5d6-4bb9-8418-d272ace44ef7",
   "metadata": {},
   "outputs": [],
   "source": [
    "#Task 4.4.2: Select all columns from the household_demographics table, limiting your results to the first five rows.\n",
    "\n",
    " #code\n",
    "#%%sql\n",
    "#select*\n",
    "#from household_demographics\n",
    "#limit 5"
   ]
  },
  {
   "cell_type": "code",
   "execution_count": 6,
   "id": "022df5eb-bd4f-4ba3-b9e8-a61bdaa48cf7",
   "metadata": {},
   "outputs": [],
   "source": [
    "#Task 4.4.3: How many observations are in the household_demographics table? Use the count command to find out.\n",
    "#%%sql\n",
    "\n",
    "#code\n",
    "#select count(*) from household_demographics"
   ]
  },
  {
   "cell_type": "code",
   "execution_count": 8,
   "id": "6429c5aa-9772-4f62-9cbb-f33ba51ead8a",
   "metadata": {},
   "outputs": [],
   "source": [
    "#Task 4.4.4: Select all columns from the id_map table, limiting your results to the first five rows.\n",
    "\n",
    "#code\n",
    "#%%sql\n",
    "#select*\n",
    "#from id_map\n",
    "#limit 5\n"
   ]
  },
  {
   "cell_type": "code",
   "execution_count": 10,
   "id": "a4b7c694-01e9-4da4-ae4a-8832a1df2487",
   "metadata": {},
   "outputs": [],
   "source": [
    "#Task 4.4.5: Create a table with all the columns from household_demographics, all the columns from building_structure, \n",
    "#the vdcmun_id column from id_map, and the damage_grade column from building_damage. \n",
    "#Your results should show only rows where the district_id is 4 and limit your results to the first five rows.\n",
    "\n",
    "\n",
    "#code\n",
    "#%%sql\n",
    "#select h.*,\n",
    "       #s.*,\n",
    "       #i.vdcmun_id,\n",
    "       #d.damage_grade\n",
    "##from household_demographics as h\n",
    "#join id_map as i on i.household_id = h.household_id\n",
    "#join building_structure as s on i.building_id =s.building_id\n",
    "#join building_damage as d on i.building_id=d.building_id\n",
    "#where \n",
    "#district_id = 4\n",
    "#limit 5\n"
   ]
  },
  {
   "cell_type": "code",
   "execution_count": 11,
   "id": "ec80383b-7dfb-4536-90cc-1b24de31f902",
   "metadata": {},
   "outputs": [],
   "source": [
    "#Task 4.4.7: Combine the select_dtypes and nunique methods to see if there are any high- or low-cardinality categorical features in the dataset.\n",
    "#df.select_dtypes(\"object\").nunique()"
   ]
  },
  {
   "cell_type": "code",
   "execution_count": 12,
   "id": "a1250cf5-f2ac-44f9-8771-131d86522deb",
   "metadata": {},
   "outputs": [],
   "source": [
    "#Task 4.4.8: Add to your wrangle function so that the \"caste_household\" contains only the 10 largest caste groups. \n",
    "#For the rows that are not in those groups, \"caste_household\" should be changed to \"Other\".\n",
    "#note cast household(c) has 63 unique value\n",
    "\n",
    "\n",
    "\n",
    "#top_10=df[\"caste_household\"].value_counts().head(10).index\n",
    "#df[\"caste_household\"].apply(lambda c: c if c in top_10 else \"other\").value_counts()\n",
    "\n",
    "\n",
    "#top_10\n",
    "\n",
    "#df.select_dtypes(\"object\").nunique()\n"
   ]
  },
  {
   "cell_type": "code",
   "execution_count": 13,
   "id": "cf66b3fc-fc10-46da-92fe-07fc1491f63f",
   "metadata": {},
   "outputs": [],
   "source": [
    "#Task 4.4.17: Which municipalities saw the highest proportion of severely damaged buildings?\n",
    "#Create a DataFrame damage_by_vdcmun by grouping df by \"vdcmun_id\" and then calculating the mean of the \"severe_damage\" column. \n",
    "#Be sure to sort damage_by_vdcmun from highest to lowest proportion.\n",
    "\n",
    "#damage_by_vdcmun =(\n",
    "    #df.groupby(\"vdcmun_id\")[\"severe_damage\"].mean().sort_values(ascending=False)\n",
    "#). to_frame()\n",
    "#damage_by_vdcmun\n"
   ]
  },
  {
   "cell_type": "code",
   "execution_count": 14,
   "id": "e0a2729e-3f3c-4062-b9a9-1af8b42db7a2",
   "metadata": {},
   "outputs": [],
   "source": [
    "#Task 4.4.18:Create a line plot of damage_by_vdcmun. \n",
    "#Label your x-axis \"Municipality ID\", your y-axis \"% of Total Households\", and give your plot the title \"Household Damage by Municipality\".\n",
    "\n",
    "\n",
    "\n",
    "# Plot line\n",
    "#damage_by_vdcmun.plot(kind=\"bar\")\n",
    "#plt.plot(damage_by_vdcmun.values, color=\"grey\")\n",
    "#plt.xticks(range(len(damage_by_vdcmun)), labels= damage_by_vdcmun.index)\n",
    "#plt.yticks(np.arange(0.0,1.1,0.2))\n",
    "\n",
    "#plt.xlabel(\"Municipality ID\")\n",
    "#plt.ylabel(\"% of Total Households\")\n",
    "#plt.title(\"Severe Damage by Municipality\");"
   ]
  },
  {
   "cell_type": "code",
   "execution_count": 19,
   "id": "30fb94af-55c0-4c62-b359-9cb6f69ca518",
   "metadata": {},
   "outputs": [],
   "source": [
    "#Task 4.4.19Create a new column in damage_by_vdcmun that contains the the proportion of Gurung households in each municipality.\n",
    "\n",
    "\n",
    "\n",
    "\n",
    "\n",
    "#damage_by_vdcmun[\"Gurung\"] = (\n",
    "     #df[df[\"caste_household\"]==\"Gurung\"].groupby(\"vdcmun_id\")[\"severe_damage\"].count()\n",
    "     #/df.groupby(\"vdcmun_id\")[\"severe_damage\"].count()\n",
    " #)\n",
    "#damage_by_vdcmun"
   ]
  },
  {
   "cell_type": "code",
   "execution_count": 17,
   "id": "0e5f54a0-2d72-4764-abf4-b1aa4fbaf315",
   "metadata": {},
   "outputs": [],
   "source": [
    "#Task 4.4.20: Create a new column in damage_by_vdcmun that contains the the proportion of Kumal households in each municipality. \n",
    "#Replace any NaN values in the column with 0.\n",
    "\n",
    "#damage_by_vdcmun[\"Kumal\"] = (\n",
    "    #df[df[\"caste_household\"]==\"Kumal\"].groupby(\"vdcmun_id\")[\"severe_damage\"].count()\n",
    "    # /df.groupby(\"vdcmun_id\")[\"severe_damage\"].count()\n",
    "#).fillna(0)\n",
    "\n",
    "\n",
    "#damage_by_vdcmun"
   ]
  },
  {
   "cell_type": "code",
   "execution_count": null,
   "id": "b3fb56d3-865b-4d11-a7dd-c7d86955152b",
   "metadata": {},
   "outputs": [],
   "source": [
    "#Create a visualization that combines the line plot of severely damaged households you made above with a stacked bar chart showing the proportion of Gurung and Kumal households in each district.\n",
    "#Label your x-axis \"Municipality ID\", your y-axis \"% of Total Households\".\n",
    "\n",
    "#damage_by_vdcmun.drop(columns=\"severe_damage\").plot(\n",
    "   kind=\"bar\", stacked=True\n",
    "#)\n",
    "#plt.plot(damage_by_vdcmun[\"severe_damage\"].values, color=\"grey\")\n",
    "#plt.xticks(range(len(damage_by_vdcmun)), labels= damage_by_vdcmun.index)\n",
    "#plt.yticks(np.arange(0.0,1.1,0.2))\n",
    "#plt.xlabel(\"Municipality ID\")\n",
    "#plt.ylabel(\"% of Total Households\")\n",
    "#plt.title(\"Severe Damage by Municipality\");"
   ]
  }
 ],
 "metadata": {
  "kernelspec": {
   "display_name": "Python 3 (ipykernel)",
   "language": "python",
   "name": "python3"
  },
  "language_info": {
   "codemirror_mode": {
    "name": "ipython",
    "version": 3
   },
   "file_extension": ".py",
   "mimetype": "text/x-python",
   "name": "python",
   "nbconvert_exporter": "python",
   "pygments_lexer": "ipython3",
   "version": "3.10.9"
  }
 },
 "nbformat": 4,
 "nbformat_minor": 5
}
