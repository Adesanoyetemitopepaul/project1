{
 "cells": [
  {
   "cell_type": "code",
   "execution_count": 1,
   "id": "7c5a0d17-dcdb-49a8-a332-e792e35dfbb8",
   "metadata": {},
   "outputs": [],
   "source": [
    "import matplotlib.pyplot as plt\n",
    "import pandas as pd\n",
    "import seaborn as sns"
   ]
  },
  {
   "cell_type": "code",
   "execution_count": 6,
   "id": "37e561af-7e64-403d-932b-554572e225fd",
   "metadata": {},
   "outputs": [],
   "source": [
    "#we are looking at household that are credit fearful meaning they have been rejected or have faer they can be rejected\n",
    "# social stratification is dividing different group based on different quality\n",
    "# method chaining is used to do multiple transformation including comman, full stop etc"
   ]
  },
  {
   "cell_type": "code",
   "execution_count": 7,
   "id": "5f2c357e-2500-4549-8ef0-35535ff6c58e",
   "metadata": {},
   "outputs": [],
   "source": [
    "#Prepare Data\n",
    "#Import\n",
    "#First, we need to load the data, which is stored in a compressed CSV file: SCFP2019.csv.gz. \n",
    "#In the last project, you learned how to decompress files using gzip and the command line. However, pandas read_csv function can work with compressed files directly."
   ]
  },
  {
   "cell_type": "code",
   "execution_count": 2,
   "id": "94fb31f1-3a91-4bbf-9638-afd5f6c6faa1",
   "metadata": {},
   "outputs": [],
   "source": [
    "df = pd.read_csv(\"\\\\Users\\\\User\\\\survey of consumer finace 2022/survey of consumer finance.csv\")"
   ]
  },
  {
   "cell_type": "code",
   "execution_count": 3,
   "id": "75dbea0b-f609-4b81-bd9d-db3f2f7b728b",
   "metadata": {},
   "outputs": [
    {
     "name": "stdout",
     "output_type": "stream",
     "text": [
      "df shape: (22975, 357)\n"
     ]
    },
    {
     "data": {
      "text/html": [
       "<div>\n",
       "<style scoped>\n",
       "    .dataframe tbody tr th:only-of-type {\n",
       "        vertical-align: middle;\n",
       "    }\n",
       "\n",
       "    .dataframe tbody tr th {\n",
       "        vertical-align: top;\n",
       "    }\n",
       "\n",
       "    .dataframe thead th {\n",
       "        text-align: right;\n",
       "    }\n",
       "</style>\n",
       "<table border=\"1\" class=\"dataframe\">\n",
       "  <thead>\n",
       "    <tr style=\"text-align: right;\">\n",
       "      <th></th>\n",
       "      <th>YY1</th>\n",
       "      <th>Y1</th>\n",
       "      <th>WGT</th>\n",
       "      <th>HHSEX</th>\n",
       "      <th>AGE</th>\n",
       "      <th>AGECL</th>\n",
       "      <th>EDUC</th>\n",
       "      <th>EDCL</th>\n",
       "      <th>MARRIED</th>\n",
       "      <th>KIDS</th>\n",
       "      <th>...</th>\n",
       "      <th>NWCAT</th>\n",
       "      <th>INCCAT</th>\n",
       "      <th>ASSETCAT</th>\n",
       "      <th>NINCCAT</th>\n",
       "      <th>NINC2CAT</th>\n",
       "      <th>NWPCTLECAT</th>\n",
       "      <th>INCPCTLECAT</th>\n",
       "      <th>NINCPCTLECAT</th>\n",
       "      <th>INCQRTCAT</th>\n",
       "      <th>NINCQRTCAT</th>\n",
       "    </tr>\n",
       "  </thead>\n",
       "  <tbody>\n",
       "    <tr>\n",
       "      <th>0</th>\n",
       "      <td>1</td>\n",
       "      <td>11</td>\n",
       "      <td>3027.956121</td>\n",
       "      <td>2</td>\n",
       "      <td>70</td>\n",
       "      <td>5</td>\n",
       "      <td>9</td>\n",
       "      <td>3</td>\n",
       "      <td>2</td>\n",
       "      <td>2</td>\n",
       "      <td>...</td>\n",
       "      <td>4</td>\n",
       "      <td>2</td>\n",
       "      <td>4</td>\n",
       "      <td>2</td>\n",
       "      <td>1</td>\n",
       "      <td>8</td>\n",
       "      <td>3</td>\n",
       "      <td>3</td>\n",
       "      <td>2</td>\n",
       "      <td>1</td>\n",
       "    </tr>\n",
       "    <tr>\n",
       "      <th>1</th>\n",
       "      <td>1</td>\n",
       "      <td>12</td>\n",
       "      <td>3054.900065</td>\n",
       "      <td>2</td>\n",
       "      <td>70</td>\n",
       "      <td>5</td>\n",
       "      <td>9</td>\n",
       "      <td>3</td>\n",
       "      <td>2</td>\n",
       "      <td>2</td>\n",
       "      <td>...</td>\n",
       "      <td>4</td>\n",
       "      <td>2</td>\n",
       "      <td>5</td>\n",
       "      <td>2</td>\n",
       "      <td>1</td>\n",
       "      <td>8</td>\n",
       "      <td>3</td>\n",
       "      <td>3</td>\n",
       "      <td>2</td>\n",
       "      <td>1</td>\n",
       "    </tr>\n",
       "    <tr>\n",
       "      <th>2</th>\n",
       "      <td>1</td>\n",
       "      <td>13</td>\n",
       "      <td>3163.637766</td>\n",
       "      <td>2</td>\n",
       "      <td>70</td>\n",
       "      <td>5</td>\n",
       "      <td>9</td>\n",
       "      <td>3</td>\n",
       "      <td>2</td>\n",
       "      <td>2</td>\n",
       "      <td>...</td>\n",
       "      <td>4</td>\n",
       "      <td>2</td>\n",
       "      <td>4</td>\n",
       "      <td>2</td>\n",
       "      <td>1</td>\n",
       "      <td>8</td>\n",
       "      <td>3</td>\n",
       "      <td>3</td>\n",
       "      <td>1</td>\n",
       "      <td>1</td>\n",
       "    </tr>\n",
       "    <tr>\n",
       "      <th>3</th>\n",
       "      <td>1</td>\n",
       "      <td>14</td>\n",
       "      <td>3166.228463</td>\n",
       "      <td>2</td>\n",
       "      <td>70</td>\n",
       "      <td>5</td>\n",
       "      <td>9</td>\n",
       "      <td>3</td>\n",
       "      <td>2</td>\n",
       "      <td>2</td>\n",
       "      <td>...</td>\n",
       "      <td>3</td>\n",
       "      <td>2</td>\n",
       "      <td>4</td>\n",
       "      <td>1</td>\n",
       "      <td>1</td>\n",
       "      <td>6</td>\n",
       "      <td>3</td>\n",
       "      <td>2</td>\n",
       "      <td>1</td>\n",
       "      <td>1</td>\n",
       "    </tr>\n",
       "    <tr>\n",
       "      <th>4</th>\n",
       "      <td>1</td>\n",
       "      <td>15</td>\n",
       "      <td>3235.624715</td>\n",
       "      <td>2</td>\n",
       "      <td>70</td>\n",
       "      <td>5</td>\n",
       "      <td>9</td>\n",
       "      <td>3</td>\n",
       "      <td>2</td>\n",
       "      <td>2</td>\n",
       "      <td>...</td>\n",
       "      <td>3</td>\n",
       "      <td>2</td>\n",
       "      <td>4</td>\n",
       "      <td>2</td>\n",
       "      <td>1</td>\n",
       "      <td>8</td>\n",
       "      <td>3</td>\n",
       "      <td>3</td>\n",
       "      <td>1</td>\n",
       "      <td>1</td>\n",
       "    </tr>\n",
       "  </tbody>\n",
       "</table>\n",
       "<p>5 rows × 357 columns</p>\n",
       "</div>"
      ],
      "text/plain": [
       "   YY1  Y1          WGT  HHSEX  AGE  AGECL  EDUC  EDCL  MARRIED  KIDS  ...  \\\n",
       "0    1  11  3027.956121      2   70      5     9     3        2     2  ...   \n",
       "1    1  12  3054.900065      2   70      5     9     3        2     2  ...   \n",
       "2    1  13  3163.637766      2   70      5     9     3        2     2  ...   \n",
       "3    1  14  3166.228463      2   70      5     9     3        2     2  ...   \n",
       "4    1  15  3235.624715      2   70      5     9     3        2     2  ...   \n",
       "\n",
       "   NWCAT  INCCAT  ASSETCAT  NINCCAT  NINC2CAT  NWPCTLECAT  INCPCTLECAT  \\\n",
       "0      4       2         4        2         1           8            3   \n",
       "1      4       2         5        2         1           8            3   \n",
       "2      4       2         4        2         1           8            3   \n",
       "3      3       2         4        1         1           6            3   \n",
       "4      3       2         4        2         1           8            3   \n",
       "\n",
       "   NINCPCTLECAT  INCQRTCAT  NINCQRTCAT  \n",
       "0             3          2           1  \n",
       "1             3          2           1  \n",
       "2             3          1           1  \n",
       "3             2          1           1  \n",
       "4             3          1           1  \n",
       "\n",
       "[5 rows x 357 columns]"
      ]
     },
     "execution_count": 3,
     "metadata": {},
     "output_type": "execute_result"
    }
   ],
   "source": [
    "df.head()\n",
    "print(\"df shape:\", df.shape)\n",
    "df.head()"
   ]
  },
  {
   "cell_type": "code",
   "execution_count": 21,
   "id": "03adc465-f1f5-4191-83db-820b339f00c2",
   "metadata": {},
   "outputs": [],
   "source": [
    "#One of the first things you might notice here is that this dataset is HUGE — over 20,000 rows and 351 columns! SO MUCH DATA!!! \n",
    "#We won't have time to explore all of the features in this dataset, but you can look in the data dictionary for this project for details and links to the official Code Book. \n",
    "#For now, let's just say that this dataset tracks all sorts of behaviors relating to the ways households earn, save, and spend money in the United States.\n",
    "#For this project, we're going to focus on households that have \"been turned down for credit or feared being denied credit in the past 5 years.\n",
    "#\"These households are identified in the \"TURNFEAR\" column."
   ]
  },
  {
   "cell_type": "code",
   "execution_count": 4,
   "id": "a43e6e70-821a-4d5c-8b36-3571a0adf7dc",
   "metadata": {},
   "outputs": [
    {
     "name": "stdout",
     "output_type": "stream",
     "text": [
      "df_fear shape: (3839, 357)\n"
     ]
    },
    {
     "data": {
      "text/html": [
       "<div>\n",
       "<style scoped>\n",
       "    .dataframe tbody tr th:only-of-type {\n",
       "        vertical-align: middle;\n",
       "    }\n",
       "\n",
       "    .dataframe tbody tr th {\n",
       "        vertical-align: top;\n",
       "    }\n",
       "\n",
       "    .dataframe thead th {\n",
       "        text-align: right;\n",
       "    }\n",
       "</style>\n",
       "<table border=\"1\" class=\"dataframe\">\n",
       "  <thead>\n",
       "    <tr style=\"text-align: right;\">\n",
       "      <th></th>\n",
       "      <th>YY1</th>\n",
       "      <th>Y1</th>\n",
       "      <th>WGT</th>\n",
       "      <th>HHSEX</th>\n",
       "      <th>AGE</th>\n",
       "      <th>AGECL</th>\n",
       "      <th>EDUC</th>\n",
       "      <th>EDCL</th>\n",
       "      <th>MARRIED</th>\n",
       "      <th>KIDS</th>\n",
       "      <th>...</th>\n",
       "      <th>NWCAT</th>\n",
       "      <th>INCCAT</th>\n",
       "      <th>ASSETCAT</th>\n",
       "      <th>NINCCAT</th>\n",
       "      <th>NINC2CAT</th>\n",
       "      <th>NWPCTLECAT</th>\n",
       "      <th>INCPCTLECAT</th>\n",
       "      <th>NINCPCTLECAT</th>\n",
       "      <th>INCQRTCAT</th>\n",
       "      <th>NINCQRTCAT</th>\n",
       "    </tr>\n",
       "  </thead>\n",
       "  <tbody>\n",
       "    <tr>\n",
       "      <th>20</th>\n",
       "      <td>5</td>\n",
       "      <td>51</td>\n",
       "      <td>7191.481109</td>\n",
       "      <td>2</td>\n",
       "      <td>19</td>\n",
       "      <td>1</td>\n",
       "      <td>8</td>\n",
       "      <td>2</td>\n",
       "      <td>1</td>\n",
       "      <td>0</td>\n",
       "      <td>...</td>\n",
       "      <td>1</td>\n",
       "      <td>3</td>\n",
       "      <td>1</td>\n",
       "      <td>2</td>\n",
       "      <td>1</td>\n",
       "      <td>2</td>\n",
       "      <td>5</td>\n",
       "      <td>4</td>\n",
       "      <td>2</td>\n",
       "      <td>2</td>\n",
       "    </tr>\n",
       "    <tr>\n",
       "      <th>21</th>\n",
       "      <td>5</td>\n",
       "      <td>52</td>\n",
       "      <td>7352.487205</td>\n",
       "      <td>2</td>\n",
       "      <td>19</td>\n",
       "      <td>1</td>\n",
       "      <td>8</td>\n",
       "      <td>2</td>\n",
       "      <td>1</td>\n",
       "      <td>0</td>\n",
       "      <td>...</td>\n",
       "      <td>1</td>\n",
       "      <td>3</td>\n",
       "      <td>1</td>\n",
       "      <td>2</td>\n",
       "      <td>1</td>\n",
       "      <td>2</td>\n",
       "      <td>5</td>\n",
       "      <td>4</td>\n",
       "      <td>2</td>\n",
       "      <td>2</td>\n",
       "    </tr>\n",
       "    <tr>\n",
       "      <th>22</th>\n",
       "      <td>5</td>\n",
       "      <td>53</td>\n",
       "      <td>7270.703541</td>\n",
       "      <td>2</td>\n",
       "      <td>19</td>\n",
       "      <td>1</td>\n",
       "      <td>8</td>\n",
       "      <td>2</td>\n",
       "      <td>1</td>\n",
       "      <td>0</td>\n",
       "      <td>...</td>\n",
       "      <td>1</td>\n",
       "      <td>3</td>\n",
       "      <td>1</td>\n",
       "      <td>3</td>\n",
       "      <td>1</td>\n",
       "      <td>2</td>\n",
       "      <td>5</td>\n",
       "      <td>5</td>\n",
       "      <td>2</td>\n",
       "      <td>2</td>\n",
       "    </tr>\n",
       "    <tr>\n",
       "      <th>23</th>\n",
       "      <td>5</td>\n",
       "      <td>54</td>\n",
       "      <td>7383.866597</td>\n",
       "      <td>2</td>\n",
       "      <td>19</td>\n",
       "      <td>1</td>\n",
       "      <td>8</td>\n",
       "      <td>2</td>\n",
       "      <td>1</td>\n",
       "      <td>0</td>\n",
       "      <td>...</td>\n",
       "      <td>1</td>\n",
       "      <td>3</td>\n",
       "      <td>1</td>\n",
       "      <td>3</td>\n",
       "      <td>1</td>\n",
       "      <td>2</td>\n",
       "      <td>5</td>\n",
       "      <td>5</td>\n",
       "      <td>2</td>\n",
       "      <td>2</td>\n",
       "    </tr>\n",
       "    <tr>\n",
       "      <th>24</th>\n",
       "      <td>5</td>\n",
       "      <td>55</td>\n",
       "      <td>7330.537669</td>\n",
       "      <td>2</td>\n",
       "      <td>19</td>\n",
       "      <td>1</td>\n",
       "      <td>8</td>\n",
       "      <td>2</td>\n",
       "      <td>1</td>\n",
       "      <td>0</td>\n",
       "      <td>...</td>\n",
       "      <td>1</td>\n",
       "      <td>3</td>\n",
       "      <td>1</td>\n",
       "      <td>2</td>\n",
       "      <td>1</td>\n",
       "      <td>2</td>\n",
       "      <td>5</td>\n",
       "      <td>4</td>\n",
       "      <td>2</td>\n",
       "      <td>2</td>\n",
       "    </tr>\n",
       "  </tbody>\n",
       "</table>\n",
       "<p>5 rows × 357 columns</p>\n",
       "</div>"
      ],
      "text/plain": [
       "    YY1  Y1          WGT  HHSEX  AGE  AGECL  EDUC  EDCL  MARRIED  KIDS  ...  \\\n",
       "20    5  51  7191.481109      2   19      1     8     2        1     0  ...   \n",
       "21    5  52  7352.487205      2   19      1     8     2        1     0  ...   \n",
       "22    5  53  7270.703541      2   19      1     8     2        1     0  ...   \n",
       "23    5  54  7383.866597      2   19      1     8     2        1     0  ...   \n",
       "24    5  55  7330.537669      2   19      1     8     2        1     0  ...   \n",
       "\n",
       "    NWCAT  INCCAT  ASSETCAT  NINCCAT  NINC2CAT  NWPCTLECAT  INCPCTLECAT  \\\n",
       "20      1       3         1        2         1           2            5   \n",
       "21      1       3         1        2         1           2            5   \n",
       "22      1       3         1        3         1           2            5   \n",
       "23      1       3         1        3         1           2            5   \n",
       "24      1       3         1        2         1           2            5   \n",
       "\n",
       "    NINCPCTLECAT  INCQRTCAT  NINCQRTCAT  \n",
       "20             4          2           2  \n",
       "21             4          2           2  \n",
       "22             5          2           2  \n",
       "23             5          2           2  \n",
       "24             4          2           2  \n",
       "\n",
       "[5 rows x 357 columns]"
      ]
     },
     "execution_count": 4,
     "metadata": {},
     "output_type": "execute_result"
    }
   ],
   "source": [
    "#Task 6.1.2: Use amask to subset create df to only households that have been turned down or feared being turned down for credit (\"TURNFEAR\" == 1). \n",
    "#Assign this subset to the variable name df_fear.\n",
    "mask = df[\"TURNFEAR\"]==1\n",
    "df_fear = df[mask]\n",
    "print(\"df_fear shape:\", df_fear.shape)\n",
    "df_fear.head()"
   ]
  },
  {
   "cell_type": "code",
   "execution_count": 6,
   "id": "ff760a25-954d-4e29-a592-c79b4bf12ed9",
   "metadata": {},
   "outputs": [
    {
     "data": {
      "text/plain": [
       "3839"
      ]
     },
     "execution_count": 6,
     "metadata": {},
     "output_type": "execute_result"
    }
   ],
   "source": [
    "mask.sum() # for confirmation"
   ]
  },
  {
   "cell_type": "code",
   "execution_count": 5,
   "id": "bf51bc3f-99e5-4d3b-bc12-5de3fd22c238",
   "metadata": {},
   "outputs": [
    {
     "name": "stdout",
     "output_type": "stream",
     "text": [
      "Age Groups: [1 4 2 3 5 6]\n"
     ]
    }
   ],
   "source": [
    "#Age\n",
    "#Now that we have our subset, let's explore the characteristics of this group. One of the features is age group (\"AGECL\").\n",
    "\n",
    "\n",
    "#Task 6.1.3: Create a list age_groups with the unique values in the \"AGECL\" column. \n",
    "#Then review the entry for \"AGECL\" in the Code Book to determine what the values represent.\n",
    "\n",
    "age_groups =df_fear[\"AGECL\"].unique()\n",
    "print(\"Age Groups:\", age_groups)"
   ]
  },
  {
   "cell_type": "code",
   "execution_count": 25,
   "id": "6073867b-c80c-40a0-9556-13665e214d03",
   "metadata": {},
   "outputs": [],
   "source": [
    "# num   age\n",
    "#1   <35\n",
    "#2   35-44\n",
    "#3   45-54\n",
    "#4   55-64\n",
    "#5    65-75\n",
    "#6   >=75\n",
    "\n",
    "#This simplifies data storage, but it's not very human-readable. So before we create a visualization, \n",
    "#let's create a version of this column that uses the actual group names."
   ]
  },
  {
   "cell_type": "code",
   "execution_count": 6,
   "id": "2bbdb938-3d6f-4110-97e0-03a81b7e8f36",
   "metadata": {},
   "outputs": [
    {
     "data": {
      "text/plain": [
       "20     1\n",
       "21     1\n",
       "22     1\n",
       "23     1\n",
       "24     1\n",
       "110    4\n",
       "111    4\n",
       "112    4\n",
       "113    4\n",
       "114    4\n",
       "Name: AGECL, dtype: int64"
      ]
     },
     "execution_count": 6,
     "metadata": {},
     "output_type": "execute_result"
    }
   ],
   "source": [
    "#let see\n",
    "age_cl =df_fear[\"AGECL\"]\n",
    "age_cl. head(10)\n"
   ]
  },
  {
   "cell_type": "code",
   "execution_count": 7,
   "id": "f55ec899-b7e0-4e8d-9c72-c9aca4569c30",
   "metadata": {},
   "outputs": [
    {
     "data": {
      "text/plain": [
       "20     Under 35\n",
       "21     Under 35\n",
       "22     Under 35\n",
       "23     Under 35\n",
       "24     Under 35\n",
       "110       55-64\n",
       "111       55-64\n",
       "112       55-64\n",
       "113       55-64\n",
       "114       55-64\n",
       "Name: AGECL, dtype: object"
      ]
     },
     "execution_count": 7,
     "metadata": {},
     "output_type": "execute_result"
    }
   ],
   "source": [
    "#Task 6.1.4: Create a Series agecl that contains the observations from \"AGECL\" using the true group names.\n",
    "agecl_dict = {\n",
    "    1: \"Under 35\",\n",
    "    2: \"35-44\",\n",
    "    3: \"45-54\",\n",
    "    4: \"55-64\",\n",
    "    5: \"65-74\",\n",
    "    6: \"75 or Older\",\n",
    "}\n",
    "\n",
    "age_cl =df_fear[\"AGECL\"].replace(agecl_dict)\n",
    "age_cl.head(10)"
   ]
  },
  {
   "cell_type": "code",
   "execution_count": 31,
   "id": "0de6b5e8-254b-4c8d-b939-1353e84914b0",
   "metadata": {},
   "outputs": [],
   "source": [
    "#Now that we have better labels, let's make a bar chart and see the age distribution of our group."
   ]
  },
  {
   "cell_type": "code",
   "execution_count": 33,
   "id": "53dc13c8-1789-4694-8927-13a2798c8945",
   "metadata": {},
   "outputs": [],
   "source": [
    "#Task 6.1.5: Create a bar chart showing the value counts from age_cl.\n",
    "#Be sure to label the x-axis \"Age Group\", the y-axis \"Frequency (count)\", and use the title \"Credit Fearful: Age Groups\"."
   ]
  },
  {
   "cell_type": "code",
   "execution_count": 8,
   "id": "5cc818b2-a8b0-44f4-87a0-1992c93f0266",
   "metadata": {},
   "outputs": [
    {
     "data": {
      "image/png": "[encoded data removed]",
      "text/plain": [
       "<Figure size 640x480 with 1 Axes>"
      ]
     },
     "metadata": {},
     "output_type": "display_data"
    }
   ],
   "source": [
    "age_cl_value_counts = age_cl.value_counts()\n",
    "\n",
    "age_cl_value_counts.plot(\n",
    "    kind=\"bar\",\n",
    "    xlabel=\"Age Group\",\n",
    "    ylabel=\"frequency (count)\",\n",
    "    title=\"Credit Fearful: Age Groups\"\n",
    ");"
   ]
  },
  {
   "cell_type": "code",
   "execution_count": 11,
   "id": "1a6f35f3-7dfd-4612-a5ba-8016f81aaadb",
   "metadata": {},
   "outputs": [
    {
     "data": {
      "text/plain": [
       "35-44          936\n",
       "Under 35       917\n",
       "45-54          802\n",
       "55-64          682\n",
       "65-74          398\n",
       "75 or Older    104\n",
       "Name: AGECL, dtype: int64"
      ]
     },
     "execution_count": 11,
     "metadata": {},
     "output_type": "execute_result"
    }
   ],
   "source": [
    "age_cl.value_counts()\n",
    "#it support the bar chat"
   ]
  },
  {
   "cell_type": "code",
   "execution_count": 37,
   "id": "9690f41c-049f-42fd-a3ca-80231855c6a5",
   "metadata": {},
   "outputs": [],
   "source": [
    "#You might have noticed that by creating their own age groups, the authors of the survey have basically made a histogram for us comprised of 6 bins. \n",
    "#Our chart is telling us that many of the people who fear being denied credit are younger. \n",
    "#But the first two age groups cover a wider range than the other four. \n",
    "#So it might be useful to look inside those values to get a more granular understanding of the data.\n",
    "\n",
    "#To do that, we'll need to look at a different variable: \"AGE\". Whereas \"AGECL\" was a categorical variable, \"AGE\" is continuous, so we can use it to make a histogram of our own.\n",
    "\n",
    "#To be sure let make our histogram from the raw ages not the age categories"
   ]
  },
  {
   "cell_type": "code",
   "execution_count": 12,
   "id": "1a8390f0-620c-4011-b140-d9c24da382ef",
   "metadata": {},
   "outputs": [
    {
     "data": {
      "image/png": "[encoded data removed]",
      "text/plain": [
       "<Figure size 640x480 with 1 Axes>"
      ]
     },
     "metadata": {},
     "output_type": "display_data"
    }
   ],
   "source": [
    "#Task 6.1.6: Create a histogram of the \"AGE\" column with 10 bins.\n",
    "#Be sure to label the x-axis \"Age\", the y-axis \"Frequency (count)\", and use the title \"Credit Fearful: Age Distribution\".\n",
    "\n",
    "# Plot histogram of \"AGE\"\n",
    "df_fear[\"AGE\"].hist(bins=10)\n",
    "plt.xlabel(\"Age\")\n",
    "plt.ylabel(\"frequency(count)\")\n",
    "plt.title(\"Credit Fearful: Age Distribution\");"
   ]
  },
  {
   "cell_type": "code",
   "execution_count": 40,
   "id": "d260175b-2910-4829-a5ed-1ad956c94722",
   "metadata": {},
   "outputs": [],
   "source": [
    "#frrom the rraw data we see that\n",
    "\n",
    "#most of the fearful household was between 30 t0 60. this give us real perspective"
   ]
  },
  {
   "cell_type": "code",
   "execution_count": null,
   "id": "83892fe1-f79d-4781-8e61-4e1624fa0621",
   "metadata": {},
   "outputs": [],
   "source": [
    "#for race\n",
    "\n",
    "#1 represent \"White/Non-Hispanic\",\n",
    "#2...... \"Black/African-American\",\n",
    "#3....\"Hispanic\",\n",
    "#5..... \"Other\","
   ]
  },
  {
   "cell_type": "code",
   "execution_count": 13,
   "id": "28c80f76-0846-43d9-8698-211432d5b16d",
   "metadata": {},
   "outputs": [
    {
     "data": {
      "image/png": "[encoded data removed]",
      "text/plain": [
       "<Figure size 640x480 with 1 Axes>"
      ]
     },
     "metadata": {},
     "output_type": "display_data"
    }
   ],
   "source": [
    "#Task 6.1.7: Create a horizontal bar chart showing the normalized value counts for \"RACE\". In your chart, you should replace the numerical values with the true group names. \n",
    "#Be sure to label the x-axis \"Frequency (%)\", the y-axis \"Race\", and use the title \"Credit Fearful: Racial Groups\".\n",
    "#Finally, set the xlim for this plot to (0,1).\n",
    "race_dict = {\n",
    "    1: \"White/Non-Hispanic\",\n",
    "    2: \"Black/African-American\",\n",
    "    3: \"Hispanic\",\n",
    "    5: \"Other\",\n",
    "}\n",
    "race =df_fear[\"RACE\"].replace(race_dict)\n",
    "race_value_counts = race.value_counts(normalize= True)\n",
    "race_value_counts.plot(kind=\"barh\")\n",
    "# Create bar chart of race_value_counts\n",
    "plt.xlim((0,1))\n",
    "\n",
    "plt.xlim((0, 1)) \n",
    "plt.xlabel(\"Frequency (%)\")\n",
    "plt.ylabel(\"Race\")\n",
    "plt.title(\"Credit Fearful: Racial Groups\");"
   ]
  },
  {
   "cell_type": "code",
   "execution_count": 53,
   "id": "7c19ad01-44c4-4268-bfbc-3cfb3a3b95c8",
   "metadata": {},
   "outputs": [],
   "source": [
    "#This suggests that White/Non-Hispanic people worry more about being denied credit, \n",
    "#but thinking critically about what we're seeing, that might be because there are more White/Non-Hispanic in the population of the United States than there are other racial groups, and the sample for this survey was specifically drawn to be representative of the population as a whole."
   ]
  },
  {
   "cell_type": "code",
   "execution_count": 14,
   "id": "b14cad0f-fedd-406e-950e-f15b6b4b6f0a",
   "metadata": {},
   "outputs": [
    {
     "data": {
      "image/png": "[encoded data removed]",
      "text/plain": [
       "<Figure size 640x480 with 1 Axes>"
      ]
     },
     "metadata": {},
     "output_type": "display_data"
    }
   ],
   "source": [
    "\n",
    "\n",
    "#RACE\n",
    "#Task 6.1.8: Recreate the horizontal bar chart you just made, but this time use the entire dataset df instead of the subset df_fear. \n",
    "#The title of this plot should be \"SCF Respondents: Racial Groups\"\n",
    "\n",
    "race = df[\"RACE\"].replace(race_dict)\n",
    "race_value_counts = race.value_counts(normalize=True)\n",
    "# Create bar chart of race_value_counts\n",
    "race_value_counts.plot(kind=\"barh\")\n",
    "plt.xlim((0, 1))\n",
    "plt.xlabel(\"Frequency (%)\")\n",
    "plt.ylabel(\"Race\")\n",
    "plt.title(\"SCF Respondents: Racial Groups\");"
   ]
  },
  {
   "cell_type": "code",
   "execution_count": 55,
   "id": "a64faa34-d17f-448d-9fd0-b79b4e28d11a",
   "metadata": {},
   "outputs": [],
   "source": [
    "#How does this second bar chart change our perception of the first one? \n",
    "#On the one hand, we can see that White Non-Hispanics account for around 60% of whole dataset, but only 43% of credit fearful respondents. \n",
    "#On the other hand, Black and Hispanic respondents represent 20% of the whole dataset but 39% of credit fearful respondents. \n",
    "#In other words, Black and Hispanic households are actually more likely to be in the credit fearful group.\n",
    "\n",
    "\n",
    "\n",
    "\n",
    "#Data Ethics: It's important to note that segmenting customers by race (or any other demographic group) for the purpose of lending is illegal in the United States. \n",
    "#The same thing might be legal elsewhere, but even if it is, making decisions for things like lending based on racial categories is clearly unethical. \n",
    "#This is a great example of how easy it can be to use data science tools to support and propagate systems of inequality. \n",
    "#Even though we're \"just\" using numbers, statistical analysis is never neutral, so we always need to be thinking critically about how our work will be interpreted by the end-user."
   ]
  },
  {
   "cell_type": "code",
   "execution_count": 15,
   "id": "1bbb0e98-95dc-4e31-b8bd-a707a73a25be",
   "metadata": {},
   "outputs": [],
   "source": [
    "#INCOME\n",
    "#we have something like this in the data dictionary\n",
    "#1 represent\"0-20\",\n",
    "#2: \"21-39.9\",\n",
    "#3: \"40-59.9\",\n",
    "#4: \"60-79.9\",\n",
    "#5: \"80-89.9\",\n",
    "#6: \"90-100\",\n",
    "\n",
    "\n",
    "\n",
    "\n",
    "\n",
    "#Task 6.1.9: Create a DataFrame df_inccat that shows the normalized frequency for income categories for both the credit fearful and non-credit fearful households in the dataset. Your final DataFrame should look something like this:\n",
    "\n",
    "    #TURNFEAR   INCCAT  frequency\n",
    "#0          0   90-100   0.297296\n",
    "#1          0  60-79.9   0.174841\n",
    "#2          0  40-59.9   0.143146\n",
    "#3          0     0-20   0.140343\n",
    "#4          0  21-39.9   0.135933\n",
    "#5          0  80-89.9   0.108441\n",
    "#6          1     0-20   0.288125\n",
    "#7          1  21-39.9   0.256327\n",
    "#8          1  40-59.9   0.228856\n",
    "#9          1  60-79.9   0.132598\n",
    "#10         1   90-100   0.048886\n",
    "#11         1  80-89.9   0.045209\n",
    "\n",
    "#inccat( income category)"
   ]
  },
  {
   "cell_type": "code",
   "execution_count": 19,
   "id": "3128ba87-142c-4bf1-96ed-a80056f72472",
   "metadata": {},
   "outputs": [
    {
     "data": {
      "text/html": [
       "<div>\n",
       "<style scoped>\n",
       "    .dataframe tbody tr th:only-of-type {\n",
       "        vertical-align: middle;\n",
       "    }\n",
       "\n",
       "    .dataframe tbody tr th {\n",
       "        vertical-align: top;\n",
       "    }\n",
       "\n",
       "    .dataframe thead th {\n",
       "        text-align: right;\n",
       "    }\n",
       "</style>\n",
       "<table border=\"1\" class=\"dataframe\">\n",
       "  <thead>\n",
       "    <tr style=\"text-align: right;\">\n",
       "      <th></th>\n",
       "      <th>TURNFEAR</th>\n",
       "      <th>INCCAT</th>\n",
       "      <th>frequency</th>\n",
       "    </tr>\n",
       "  </thead>\n",
       "  <tbody>\n",
       "    <tr>\n",
       "      <th>0</th>\n",
       "      <td>0</td>\n",
       "      <td>90-100</td>\n",
       "      <td>0.303982</td>\n",
       "    </tr>\n",
       "    <tr>\n",
       "      <th>1</th>\n",
       "      <td>0</td>\n",
       "      <td>60-79.9</td>\n",
       "      <td>0.162312</td>\n",
       "    </tr>\n",
       "    <tr>\n",
       "      <th>2</th>\n",
       "      <td>0</td>\n",
       "      <td>40-59.9</td>\n",
       "      <td>0.144492</td>\n",
       "    </tr>\n",
       "    <tr>\n",
       "      <th>3</th>\n",
       "      <td>0</td>\n",
       "      <td>0-20</td>\n",
       "      <td>0.140050</td>\n",
       "    </tr>\n",
       "    <tr>\n",
       "      <th>4</th>\n",
       "      <td>0</td>\n",
       "      <td>21-39.9</td>\n",
       "      <td>0.139162</td>\n",
       "    </tr>\n",
       "    <tr>\n",
       "      <th>5</th>\n",
       "      <td>0</td>\n",
       "      <td>80-89.9</td>\n",
       "      <td>0.110002</td>\n",
       "    </tr>\n",
       "    <tr>\n",
       "      <th>6</th>\n",
       "      <td>1</td>\n",
       "      <td>0-20</td>\n",
       "      <td>0.340714</td>\n",
       "    </tr>\n",
       "    <tr>\n",
       "      <th>7</th>\n",
       "      <td>1</td>\n",
       "      <td>21-39.9</td>\n",
       "      <td>0.266476</td>\n",
       "    </tr>\n",
       "    <tr>\n",
       "      <th>8</th>\n",
       "      <td>1</td>\n",
       "      <td>40-59.9</td>\n",
       "      <td>0.205001</td>\n",
       "    </tr>\n",
       "    <tr>\n",
       "      <th>9</th>\n",
       "      <td>1</td>\n",
       "      <td>60-79.9</td>\n",
       "      <td>0.112529</td>\n",
       "    </tr>\n",
       "    <tr>\n",
       "      <th>10</th>\n",
       "      <td>1</td>\n",
       "      <td>80-89.9</td>\n",
       "      <td>0.041417</td>\n",
       "    </tr>\n",
       "    <tr>\n",
       "      <th>11</th>\n",
       "      <td>1</td>\n",
       "      <td>90-100</td>\n",
       "      <td>0.033863</td>\n",
       "    </tr>\n",
       "  </tbody>\n",
       "</table>\n",
       "</div>"
      ],
      "text/plain": [
       "    TURNFEAR   INCCAT  frequency\n",
       "0          0   90-100   0.303982\n",
       "1          0  60-79.9   0.162312\n",
       "2          0  40-59.9   0.144492\n",
       "3          0     0-20   0.140050\n",
       "4          0  21-39.9   0.139162\n",
       "5          0  80-89.9   0.110002\n",
       "6          1     0-20   0.340714\n",
       "7          1  21-39.9   0.266476\n",
       "8          1  40-59.9   0.205001\n",
       "9          1  60-79.9   0.112529\n",
       "10         1  80-89.9   0.041417\n",
       "11         1   90-100   0.033863"
      ]
     },
     "execution_count": 19,
     "metadata": {},
     "output_type": "execute_result"
    }
   ],
   "source": [
    "inccat_dict = {\n",
    "    1: \"0-20\",\n",
    "    2: \"21-39.9\",\n",
    "    3: \"40-59.9\",\n",
    "    4: \"60-79.9\",\n",
    "    5: \"80-89.9\",\n",
    "    6: \"90-100\",\n",
    "}\n",
    "\n",
    "df_inccat = ( \n",
    "    df[\"INCCAT\"]\n",
    "    .replace(inccat_dict)\n",
    "    .groupby(df[\"TURNFEAR\"])\n",
    "    .value_counts(normalize=True)\n",
    "    . rename(\"frequency\")\n",
    "    . to_frame()\n",
    "    .reset_index()\n",
    "                                        \n",
    ")\n",
    "\n",
    "df_inccat"
   ]
  },
  {
   "cell_type": "code",
   "execution_count": 20,
   "id": "de6c66e8-9c99-4963-bbf3-49b3eb1165ee",
   "metadata": {},
   "outputs": [],
   "source": [
    "#Task 6.1.10: Using seaborn, create a side-by-side bar chart of df_inccat. Set hue to \"TURNFEAR\", and make sure that the income categories are in the correct order along the x-axis. \n",
    "#Label to the x-axis \"Income Category\", the y-axis \"Frequency (%)\", and use the title \"Income Distribution: Credit Fearful vs. Non-fearful\"."
   ]
  },
  {
   "cell_type": "code",
   "execution_count": 21,
   "id": "f09b102d-6aff-4756-aaa6-168cda5564f4",
   "metadata": {},
   "outputs": [
    {
     "data": {
      "image/png": "[encoded data removed]",
      "text/plain": [
       "<Figure size 640x480 with 1 Axes>"
      ]
     },
     "metadata": {},
     "output_type": "display_data"
    }
   ],
   "source": [
    "# Create bar chart of `df_inccat`\n",
    "sns.barplot(\n",
    "   x=\"INCCAT\",\n",
    "   y=\"frequency\",\n",
    "   hue=\"TURNFEAR\", # hue means colour code according to the information in turnfear\n",
    "   data=df_inccat, # the source of the data\n",
    "   order=inccat_dict.values()# order by dictionary\n",
    ")\n",
    "plt.xlabel(\"Income Category\")\n",
    "plt.ylabel(\"Frequency (%)\")\n",
    "plt.title(\"Income Distribution: Credit Fearful vs. Non-fearful\");"
   ]
  },
  {
   "cell_type": "code",
   "execution_count": 22,
   "id": "32f98454-2222-41ab-bcf9-af4a68bc3a43",
   "metadata": {},
   "outputs": [],
   "source": [
    "#Comparing the income categories across the fearful and non-fearful groups, we can see that credit fearful households are much more common in the lower income categories. \n",
    "#In other words, the credit fearful have lower incomes.\n",
    "\n",
    "#So, based on all this, what do we know? \n",
    "#Among the people who responded that they were indeed worried about being approved for credit after having been denied in the past five years, a plurality of the young and low-income had the highest number of respondents. \n",
    "#That makes sense, right? Young people tend to make less money and rely more heavily on credit to get their lives off the ground, so having been denied credit makes them more anxious about the future."
   ]
  },
  {
   "cell_type": "code",
   "execution_count": 24,
   "id": "e2c71ca2-d5eb-4081-bf0e-df334d62b366",
   "metadata": {},
   "outputs": [],
   "source": [
    "#Assets\n",
    "#Not all the data is demographic, though. \n",
    "#If you were working for a bank, you would probably care less about how old the people are, and more about their ability to carry more debt.\n",
    "#If we were going to build a model for that, we'd want to establish some relationships among the variables, and making some correlation matrices is a good place to start.\n",
    "#First, let's zoom out a little bit. We've been looking at only the people who answered \"yes\" when the survey asked about \"TURNFEAR\", \n",
    "#but what if we looked at everyone instead? To begin with, let's bring in a clear dataset and run a single correlation."
   ]
  },
  {
   "cell_type": "code",
   "execution_count": 25,
   "id": "2f8e386d-71ee-441c-b784-4fb71722b4a5",
   "metadata": {},
   "outputs": [
    {
     "name": "stdout",
     "output_type": "stream",
     "text": [
      "SCF: Asset Houses Correlation: 0.5617763110086197\n"
     ]
    }
   ],
   "source": [
    "#Task 6.1.11: Calculate the correlation coefficient for \"ASSET\" and \"HOUSES\" in the whole dataset df.\n",
    "asset_house_corr = df[\"ASSET\"].corr(df[\"HOUSES\"])\n",
    "print(\"SCF: Asset Houses Correlation:\", asset_house_corr)"
   ]
  },
  {
   "cell_type": "code",
   "execution_count": 26,
   "id": "bbbd0ffd-668d-4b37-ba7b-fc5044e8c3f3",
   "metadata": {},
   "outputs": [],
   "source": [
    "#that's a moderate positive correlation, which we would probably expect, right? For many Americans, the value of their primary residence makes up most of the value of their total assets. \n",
    "#What about the people in our TURNFEAR subset, though? Let's run that correlation to see if there's a difference."
   ]
  },
  {
   "cell_type": "code",
   "execution_count": 27,
   "id": "a1e904e8-8760-4df9-b8ba-9b26234db16b",
   "metadata": {},
   "outputs": [
    {
     "name": "stdout",
     "output_type": "stream",
     "text": [
      "Credit Fearful: Asset Houses Correlation: 0.36494838615588243\n"
     ]
    }
   ],
   "source": [
    "#Task 6.1.12: Calculate the correlation coefficient for \"ASSET\" and \"HOUSES\" in the whole credit-fearful subset df_fear.\n",
    "asset_house_corr = df_fear[\"ASSET\"].corr(df_fear[\"HOUSES\"])\n",
    "print(\"Credit Fearful: Asset Houses Correlation:\", asset_house_corr)"
   ]
  },
  {
   "cell_type": "code",
   "execution_count": 28,
   "id": "3fd6cc83-f236-4133-a581-eaf53617f720",
   "metadata": {},
   "outputs": [],
   "source": [
    "# A lower correlation, for credit fearful population their home are a lower % of their  total asset"
   ]
  },
  {
   "cell_type": "code",
   "execution_count": 29,
   "id": "9940b68f-7d82-424a-88f0-963ae1c3e896",
   "metadata": {},
   "outputs": [],
   "source": [
    "#Aha! They're different! i \n",
    "#but the relationship between the total value of assets and the value of the primary residence is lower for our TURNFEAR group than it is for the population as a whole.\n",
    "#Let's make correlation matrices using the rest of the data for both df and df_fear and see if the differences persist. \n",
    "#Here, we'll look at only 5 features: \"ASSET\", \"HOUSES\", \"INCOME\", \"DEBT\", and \"EDUC\""
   ]
  },
  {
   "cell_type": "code",
   "execution_count": 31,
   "id": "3252c418-f0ef-4b8c-93ca-68ea181c48bc",
   "metadata": {},
   "outputs": [
    {
     "data": {
      "text/html": [
       "<style type=\"text/css\">\n",
       "#T_12c4e_row0_col0, #T_12c4e_row1_col1, #T_12c4e_row2_col2, #T_12c4e_row3_col3, #T_12c4e_row4_col4 {\n",
       "  background-color: #023858;\n",
       "  color: #f1f1f1;\n",
       "}\n",
       "#T_12c4e_row0_col1, #T_12c4e_row1_col0 {\n",
       "  background-color: #69a5cc;\n",
       "  color: #f1f1f1;\n",
       "}\n",
       "#T_12c4e_row0_col2, #T_12c4e_row2_col0 {\n",
       "  background-color: #2182b9;\n",
       "  color: #f1f1f1;\n",
       "}\n",
       "#T_12c4e_row0_col3, #T_12c4e_row2_col3, #T_12c4e_row3_col0, #T_12c4e_row3_col2 {\n",
       "  background-color: #d2d3e7;\n",
       "  color: #000000;\n",
       "}\n",
       "#T_12c4e_row0_col4, #T_12c4e_row4_col0 {\n",
       "  background-color: #faf2f8;\n",
       "  color: #000000;\n",
       "}\n",
       "#T_12c4e_row1_col2, #T_12c4e_row2_col1 {\n",
       "  background-color: #b7c5df;\n",
       "  color: #000000;\n",
       "}\n",
       "#T_12c4e_row1_col3, #T_12c4e_row3_col1 {\n",
       "  background-color: #e0dded;\n",
       "  color: #000000;\n",
       "}\n",
       "#T_12c4e_row1_col4, #T_12c4e_row4_col1 {\n",
       "  background-color: #efe9f3;\n",
       "  color: #000000;\n",
       "}\n",
       "#T_12c4e_row2_col4, #T_12c4e_row4_col2 {\n",
       "  background-color: #fef6fa;\n",
       "  color: #000000;\n",
       "}\n",
       "#T_12c4e_row3_col4, #T_12c4e_row4_col3 {\n",
       "  background-color: #fff7fb;\n",
       "  color: #000000;\n",
       "}\n",
       "</style>\n",
       "<table id=\"T_12c4e\">\n",
       "  <thead>\n",
       "    <tr>\n",
       "      <th class=\"blank level0\" >&nbsp;</th>\n",
       "      <th id=\"T_12c4e_level0_col0\" class=\"col_heading level0 col0\" >ASSET</th>\n",
       "      <th id=\"T_12c4e_level0_col1\" class=\"col_heading level0 col1\" >HOUSES</th>\n",
       "      <th id=\"T_12c4e_level0_col2\" class=\"col_heading level0 col2\" >INCOME</th>\n",
       "      <th id=\"T_12c4e_level0_col3\" class=\"col_heading level0 col3\" >DEBT</th>\n",
       "      <th id=\"T_12c4e_level0_col4\" class=\"col_heading level0 col4\" >EDUC</th>\n",
       "    </tr>\n",
       "  </thead>\n",
       "  <tbody>\n",
       "    <tr>\n",
       "      <th id=\"T_12c4e_level0_row0\" class=\"row_heading level0 row0\" >ASSET</th>\n",
       "      <td id=\"T_12c4e_row0_col0\" class=\"data row0 col0\" >1.000000</td>\n",
       "      <td id=\"T_12c4e_row0_col1\" class=\"data row0 col1\" >0.561776</td>\n",
       "      <td id=\"T_12c4e_row0_col2\" class=\"data row0 col2\" >0.706685</td>\n",
       "      <td id=\"T_12c4e_row0_col3\" class=\"data row0 col3\" >0.307137</td>\n",
       "      <td id=\"T_12c4e_row0_col4\" class=\"data row0 col4\" >0.120137</td>\n",
       "    </tr>\n",
       "    <tr>\n",
       "      <th id=\"T_12c4e_level0_row1\" class=\"row_heading level0 row1\" >HOUSES</th>\n",
       "      <td id=\"T_12c4e_row1_col0\" class=\"data row1 col0\" >0.561776</td>\n",
       "      <td id=\"T_12c4e_row1_col1\" class=\"data row1 col1\" >1.000000</td>\n",
       "      <td id=\"T_12c4e_row1_col2\" class=\"data row1 col2\" >0.384699</td>\n",
       "      <td id=\"T_12c4e_row1_col3\" class=\"data row1 col3\" >0.251876</td>\n",
       "      <td id=\"T_12c4e_row1_col4\" class=\"data row1 col4\" >0.186120</td>\n",
       "    </tr>\n",
       "    <tr>\n",
       "      <th id=\"T_12c4e_level0_row2\" class=\"row_heading level0 row2\" >INCOME</th>\n",
       "      <td id=\"T_12c4e_row2_col0\" class=\"data row2 col0\" >0.706685</td>\n",
       "      <td id=\"T_12c4e_row2_col1\" class=\"data row2 col1\" >0.384699</td>\n",
       "      <td id=\"T_12c4e_row2_col2\" class=\"data row2 col2\" >1.000000</td>\n",
       "      <td id=\"T_12c4e_row2_col3\" class=\"data row2 col3\" >0.306534</td>\n",
       "      <td id=\"T_12c4e_row2_col4\" class=\"data row2 col4\" >0.096549</td>\n",
       "    </tr>\n",
       "    <tr>\n",
       "      <th id=\"T_12c4e_level0_row3\" class=\"row_heading level0 row3\" >DEBT</th>\n",
       "      <td id=\"T_12c4e_row3_col0\" class=\"data row3 col0\" >0.307137</td>\n",
       "      <td id=\"T_12c4e_row3_col1\" class=\"data row3 col1\" >0.251876</td>\n",
       "      <td id=\"T_12c4e_row3_col2\" class=\"data row3 col2\" >0.306534</td>\n",
       "      <td id=\"T_12c4e_row3_col3\" class=\"data row3 col3\" >1.000000</td>\n",
       "      <td id=\"T_12c4e_row3_col4\" class=\"data row3 col4\" >0.086561</td>\n",
       "    </tr>\n",
       "    <tr>\n",
       "      <th id=\"T_12c4e_level0_row4\" class=\"row_heading level0 row4\" >EDUC</th>\n",
       "      <td id=\"T_12c4e_row4_col0\" class=\"data row4 col0\" >0.120137</td>\n",
       "      <td id=\"T_12c4e_row4_col1\" class=\"data row4 col1\" >0.186120</td>\n",
       "      <td id=\"T_12c4e_row4_col2\" class=\"data row4 col2\" >0.096549</td>\n",
       "      <td id=\"T_12c4e_row4_col3\" class=\"data row4 col3\" >0.086561</td>\n",
       "      <td id=\"T_12c4e_row4_col4\" class=\"data row4 col4\" >1.000000</td>\n",
       "    </tr>\n",
       "  </tbody>\n",
       "</table>\n"
      ],
      "text/plain": [
       "<pandas.io.formats.style.Styler at 0x1f5b10b6860>"
      ]
     },
     "execution_count": 31,
     "metadata": {},
     "output_type": "execute_result"
    }
   ],
   "source": [
    "#Task 6.1.13: Make a correlation matrix using df, considering only the columns \"ASSET\", \"HOUSES\", \"INCOME\", \"DEBT\", and \"EDUC\".\n",
    "cols = [\"ASSET\", \"HOUSES\", \"INCOME\", \"DEBT\", \"EDUC\"]\n",
    "corr = df[cols].corr()\n",
    "corr.style.background_gradient(axis=None)"
   ]
  },
  {
   "cell_type": "code",
   "execution_count": 32,
   "id": "eada4983-0f70-4db5-a204-87cf126eba1e",
   "metadata": {},
   "outputs": [
    {
     "data": {
      "text/html": [
       "<style type=\"text/css\">\n",
       "#T_885b1_row0_col0, #T_885b1_row1_col1, #T_885b1_row2_col2, #T_885b1_row3_col3, #T_885b1_row4_col4 {\n",
       "  background-color: #023858;\n",
       "  color: #f1f1f1;\n",
       "}\n",
       "#T_885b1_row0_col1, #T_885b1_row1_col0 {\n",
       "  background-color: #c4cbe3;\n",
       "  color: #000000;\n",
       "}\n",
       "#T_885b1_row0_col2, #T_885b1_row2_col0 {\n",
       "  background-color: #04588a;\n",
       "  color: #f1f1f1;\n",
       "}\n",
       "#T_885b1_row0_col3, #T_885b1_row3_col0 {\n",
       "  background-color: #97b7d7;\n",
       "  color: #000000;\n",
       "}\n",
       "#T_885b1_row0_col4, #T_885b1_row2_col4, #T_885b1_row4_col0, #T_885b1_row4_col2 {\n",
       "  background-color: #fff7fb;\n",
       "  color: #000000;\n",
       "}\n",
       "#T_885b1_row1_col2, #T_885b1_row2_col1 {\n",
       "  background-color: #d4d4e8;\n",
       "  color: #000000;\n",
       "}\n",
       "#T_885b1_row1_col3, #T_885b1_row3_col1 {\n",
       "  background-color: #308cbe;\n",
       "  color: #f1f1f1;\n",
       "}\n",
       "#T_885b1_row1_col4, #T_885b1_row4_col1 {\n",
       "  background-color: #f1ebf4;\n",
       "  color: #000000;\n",
       "}\n",
       "#T_885b1_row2_col3, #T_885b1_row3_col2 {\n",
       "  background-color: #a1bbda;\n",
       "  color: #000000;\n",
       "}\n",
       "#T_885b1_row3_col4, #T_885b1_row4_col3 {\n",
       "  background-color: #f2ecf5;\n",
       "  color: #000000;\n",
       "}\n",
       "</style>\n",
       "<table id=\"T_885b1\">\n",
       "  <thead>\n",
       "    <tr>\n",
       "      <th class=\"blank level0\" >&nbsp;</th>\n",
       "      <th id=\"T_885b1_level0_col0\" class=\"col_heading level0 col0\" >ASSET</th>\n",
       "      <th id=\"T_885b1_level0_col1\" class=\"col_heading level0 col1\" >HOUSES</th>\n",
       "      <th id=\"T_885b1_level0_col2\" class=\"col_heading level0 col2\" >INCOME</th>\n",
       "      <th id=\"T_885b1_level0_col3\" class=\"col_heading level0 col3\" >DEBT</th>\n",
       "      <th id=\"T_885b1_level0_col4\" class=\"col_heading level0 col4\" >EDUC</th>\n",
       "    </tr>\n",
       "  </thead>\n",
       "  <tbody>\n",
       "    <tr>\n",
       "      <th id=\"T_885b1_level0_row0\" class=\"row_heading level0 row0\" >ASSET</th>\n",
       "      <td id=\"T_885b1_row0_col0\" class=\"data row0 col0\" >1.000000</td>\n",
       "      <td id=\"T_885b1_row0_col1\" class=\"data row0 col1\" >0.364948</td>\n",
       "      <td id=\"T_885b1_row0_col2\" class=\"data row0 col2\" >0.893282</td>\n",
       "      <td id=\"T_885b1_row0_col3\" class=\"data row0 col3\" >0.477171</td>\n",
       "      <td id=\"T_885b1_row0_col4\" class=\"data row0 col4\" >0.110655</td>\n",
       "    </tr>\n",
       "    <tr>\n",
       "      <th id=\"T_885b1_level0_row1\" class=\"row_heading level0 row1\" >HOUSES</th>\n",
       "      <td id=\"T_885b1_row1_col0\" class=\"data row1 col0\" >0.364948</td>\n",
       "      <td id=\"T_885b1_row1_col1\" class=\"data row1 col1\" >1.000000</td>\n",
       "      <td id=\"T_885b1_row1_col2\" class=\"data row1 col2\" >0.314501</td>\n",
       "      <td id=\"T_885b1_row1_col3\" class=\"data row1 col3\" >0.676984</td>\n",
       "      <td id=\"T_885b1_row1_col4\" class=\"data row1 col4\" >0.195174</td>\n",
       "    </tr>\n",
       "    <tr>\n",
       "      <th id=\"T_885b1_level0_row2\" class=\"row_heading level0 row2\" >INCOME</th>\n",
       "      <td id=\"T_885b1_row2_col0\" class=\"data row2 col0\" >0.893282</td>\n",
       "      <td id=\"T_885b1_row2_col1\" class=\"data row2 col1\" >0.314501</td>\n",
       "      <td id=\"T_885b1_row2_col2\" class=\"data row2 col2\" >1.000000</td>\n",
       "      <td id=\"T_885b1_row2_col3\" class=\"data row2 col3\" >0.456622</td>\n",
       "      <td id=\"T_885b1_row2_col4\" class=\"data row2 col4\" >0.108845</td>\n",
       "    </tr>\n",
       "    <tr>\n",
       "      <th id=\"T_885b1_level0_row3\" class=\"row_heading level0 row3\" >DEBT</th>\n",
       "      <td id=\"T_885b1_row3_col0\" class=\"data row3 col0\" >0.477171</td>\n",
       "      <td id=\"T_885b1_row3_col1\" class=\"data row3 col1\" >0.676984</td>\n",
       "      <td id=\"T_885b1_row3_col2\" class=\"data row3 col2\" >0.456622</td>\n",
       "      <td id=\"T_885b1_row3_col3\" class=\"data row3 col3\" >1.000000</td>\n",
       "      <td id=\"T_885b1_row3_col4\" class=\"data row3 col4\" >0.182570</td>\n",
       "    </tr>\n",
       "    <tr>\n",
       "      <th id=\"T_885b1_level0_row4\" class=\"row_heading level0 row4\" >EDUC</th>\n",
       "      <td id=\"T_885b1_row4_col0\" class=\"data row4 col0\" >0.110655</td>\n",
       "      <td id=\"T_885b1_row4_col1\" class=\"data row4 col1\" >0.195174</td>\n",
       "      <td id=\"T_885b1_row4_col2\" class=\"data row4 col2\" >0.108845</td>\n",
       "      <td id=\"T_885b1_row4_col3\" class=\"data row4 col3\" >0.182570</td>\n",
       "      <td id=\"T_885b1_row4_col4\" class=\"data row4 col4\" >1.000000</td>\n",
       "    </tr>\n",
       "  </tbody>\n",
       "</table>\n"
      ],
      "text/plain": [
       "<pandas.io.formats.style.Styler at 0x1f5b10b6110>"
      ]
     },
     "execution_count": 32,
     "metadata": {},
     "output_type": "execute_result"
    }
   ],
   "source": [
    " #Task 6.1.14: Make a correlation matrix using df_fear.\n",
    "corr = df_fear[cols].corr()\n",
    "corr.style.background_gradient(axis=None)"
   ]
  },
  {
   "cell_type": "code",
   "execution_count": 33,
   "id": "c7089e2e-6399-420b-9030-1646f1d0d771",
   "metadata": {},
   "outputs": [],
   "source": [
    "#Whoa! There are some pretty important differences here! The relationship between \"DEBT\" and \"HOUSES\" is positive for both datasets, but while the coefficient for df is fairly weak at 0.26, the same number for df_fear is 0.67.\n",
    "\n",
    "#Remember, the closer a correlation coefficient is to 1.0, the more exactly they correspond. In this case, that means the value of the primary residence and the total debt held by the household is getting pretty close to being the same. This suggests that the main source of debt being carried by our \"TURNFEAR\" folks is their primary residence, which, again, is an intuitive finding.\n",
    "\n",
    "#\"DEBT\" and \"ASSET\" share a similarly striking difference, as do \"EDUC\" and \"DEBT\" which, while not as extreme a contrast as the other, is still big enough to catch the interest of our hypothetical banker.\n",
    "\n",
    "#Let's make some visualizations to show these relationships graphically."
   ]
  },
  {
   "cell_type": "code",
   "execution_count": 34,
   "id": "373a564e-2ead-4764-b423-10e58420a03f",
   "metadata": {},
   "outputs": [
    {
     "data": {
      "text/plain": [
       "Ellipsis"
      ]
     },
     "execution_count": 34,
     "metadata": {},
     "output_type": "execute_result"
    }
   ],
   "source": [
    "\n",
    "#Education\n",
    "First, let's start with education levels \"EDUC\", comparing credit fearful and non-credit fearful groups.\n",
    "\n",
    "\n",
    "\n",
    "\n",
    "\n",
    "#Task 6.1.15: Create a DataFrame df_educ that shows the normalized frequency for education categories for both the credit fearful and non-credit fearful households in the dataset. This will be similar in format to df_inccat, but focus on education. Note that you don't need to replace the numerical values in \"EDUC\" with the true labels.\n",
    "\n",
    " #   TURNFEAR  EDUC  frequency\n",
    "#0          0    12   0.257481\n",
    "#1          0     8   0.192029\n",
    "#2          0    13   0.149823\n",
    "#3          0     9   0.129833\n",
    "#4          0    14   0.096117\n",
    "#5          0    10   0.051150\n",
    "...\n",
    "#25         1     5   0.015358\n",
    "#26         1     2   0.012979\n",
    "#27         1     3   0.011897\n",
    "#28         1     1   0.005408\n",
    "#29         1    -1   0.003245"
   ]
  },
  {
   "cell_type": "code",
   "execution_count": 9,
   "id": "2bc69306-0b7a-49de-9139-f49dfc77abda",
   "metadata": {},
   "outputs": [
    {
     "data": {
      "text/html": [
       "<div>\n",
       "<style scoped>\n",
       "    .dataframe tbody tr th:only-of-type {\n",
       "        vertical-align: middle;\n",
       "    }\n",
       "\n",
       "    .dataframe tbody tr th {\n",
       "        vertical-align: top;\n",
       "    }\n",
       "\n",
       "    .dataframe thead th {\n",
       "        text-align: right;\n",
       "    }\n",
       "</style>\n",
       "<table border=\"1\" class=\"dataframe\">\n",
       "  <thead>\n",
       "    <tr style=\"text-align: right;\">\n",
       "      <th></th>\n",
       "      <th>TURNFEAR</th>\n",
       "      <th>EDUC</th>\n",
       "      <th>frequency</th>\n",
       "    </tr>\n",
       "  </thead>\n",
       "  <tbody>\n",
       "    <tr>\n",
       "      <th>0</th>\n",
       "      <td>0</td>\n",
       "      <td>12</td>\n",
       "      <td>0.278689</td>\n",
       "    </tr>\n",
       "    <tr>\n",
       "      <th>1</th>\n",
       "      <td>0</td>\n",
       "      <td>8</td>\n",
       "      <td>0.174383</td>\n",
       "    </tr>\n",
       "    <tr>\n",
       "      <th>2</th>\n",
       "      <td>0</td>\n",
       "      <td>13</td>\n",
       "      <td>0.158967</td>\n",
       "    </tr>\n",
       "    <tr>\n",
       "      <th>3</th>\n",
       "      <td>0</td>\n",
       "      <td>9</td>\n",
       "      <td>0.111727</td>\n",
       "    </tr>\n",
       "    <tr>\n",
       "      <th>4</th>\n",
       "      <td>0</td>\n",
       "      <td>14</td>\n",
       "      <td>0.108539</td>\n",
       "    </tr>\n",
       "  </tbody>\n",
       "</table>\n",
       "</div>"
      ],
      "text/plain": [
       "   TURNFEAR  EDUC  frequency\n",
       "0         0    12   0.278689\n",
       "1         0     8   0.174383\n",
       "2         0    13   0.158967\n",
       "3         0     9   0.111727\n",
       "4         0    14   0.108539"
      ]
     },
     "execution_count": 9,
     "metadata": {},
     "output_type": "execute_result"
    }
   ],
   "source": [
    "df_educ = (\n",
    "    df[\"EDUC\"]\n",
    "    .groupby(df[\"TURNFEAR\"])\n",
    "    .value_counts(normalize=True)\n",
    "    . rename(\"frequency\")\n",
    "    . to_frame()\n",
    "    .reset_index()\n",
    ")\n",
    "df_educ.head()\n"
   ]
  },
  {
   "cell_type": "code",
   "execution_count": 11,
   "id": "633a439d-d8d9-4d7a-8672-e3a54219aaea",
   "metadata": {},
   "outputs": [
    {
     "data": {
      "image/png": "[encoded data removed]",
      "text/plain": [
       "<Figure size 640x480 with 1 Axes>"
      ]
     },
     "metadata": {},
     "output_type": "display_data"
    }
   ],
   "source": [
    "#Task 6.1.16: Using seaborn, create a side-by-side bar chart of df_educ. Set hue to \"TURNFEAR\", and make sure that the education categories are in the correct order along the x-axis. \n",
    "#Label to the x-axis \"Education Level\", the y-axis \"Frequency (%)\", and use the title \"Educational Attainment: Credit Fearful vs. Non-fearful\".\n",
    "\n",
    "\n",
    " #Create bar chart of `df_educ`\n",
    "\n",
    "sns.barplot(\n",
    "   x=\"EDUC\",\n",
    "   y=\"frequency\",\n",
    "   hue=\"TURNFEAR\",\n",
    "   data=df_educ,\n",
    "  \n",
    ")\n",
    "plt.xlabel(\"Education Level\")\n",
    "plt.ylabel(\"Frequency (%)\")\n",
    "plt.title(\"Educational Attainment: Credit Fearful vs. Non-fearful\");"
   ]
  },
  {
   "cell_type": "code",
   "execution_count": 13,
   "id": "2049c3f8-fb38-4142-9817-1298b3c6082d",
   "metadata": {},
   "outputs": [],
   "source": [
    "#In this plot, we can see that a much higher proportion of credit-fearful respondents have only a high school diploma, while university degrees are more common among the non-credit fearful.\n"
   ]
  },
  {
   "cell_type": "code",
   "execution_count": 14,
   "id": "a5ce3d5e-6561-4f65-9e74-c90dcc3ed675",
   "metadata": {},
   "outputs": [
    {
     "data": {
      "text/plain": [
       "<Axes: xlabel='DEBT', ylabel='ASSET'>"
      ]
     },
     "execution_count": 14,
     "metadata": {},
     "output_type": "execute_result"
    },
    {
     "data": {
      "image/png": "[encoded data removed]",
      "text/plain": [
       "<Figure size 640x480 with 1 Axes>"
      ]
     },
     "metadata": {},
     "output_type": "display_data"
    }
   ],
   "source": [
    "#Task 6.1.17Use df to make a scatter plot showing the relationship between DEBT and ASSET.\n",
    "# Create scatter plot of ASSET vs DEBT, df\n",
    "df.plot.scatter(x=\"DEBT\", y=(\"ASSET\"))"
   ]
  },
  {
   "cell_type": "code",
   "execution_count": 16,
   "id": "ea96ac37-ce16-4137-ad51-24abdc5f0eae",
   "metadata": {},
   "outputs": [
    {
     "data": {
      "text/plain": [
       "<Axes: xlabel='DEBT', ylabel='ASSET'>"
      ]
     },
     "execution_count": 16,
     "metadata": {},
     "output_type": "execute_result"
    },
    {
     "data": {
      "image/png": "[encoded data removed]",
      "text/plain": [
       "<Figure size 640x480 with 1 Axes>"
      ]
     },
     "metadata": {},
     "output_type": "display_data"
    }
   ],
   "source": [
    "#Task 6.1.18: Use df_fear to make a scatter plot showing the relationship between DEBT and ASSET.\n",
    "#Create scatter plot of ASSET vs DEBT, df_fear\n",
    "df_fear.plot.scatter(x=\"DEBT\", y=(\"ASSET\"))"
   ]
  },
  {
   "cell_type": "code",
   "execution_count": 17,
   "id": "66b538be-5974-4040-8f56-a9f4d1ef707b",
   "metadata": {},
   "outputs": [],
   "source": [
    "#You can see relationship in our df_fear graph is flatter than the one in our df graph, but they clearly are different.\n",
    "\n",
    "#Let's end with the most striking difference from our matrices, and make some scatter plots showing the difference between HOUSES and DEBT."
   ]
  },
  {
   "cell_type": "code",
   "execution_count": 18,
   "id": "c5150d02-3193-4e7a-99f5-cfc46f23a7bf",
   "metadata": {},
   "outputs": [
    {
     "data": {
      "text/plain": [
       "<Axes: xlabel='DEBT', ylabel='HOUSES'>"
      ]
     },
     "execution_count": 18,
     "metadata": {},
     "output_type": "execute_result"
    },
    {
     "data": {
      "image/png": "[encoded data removed]",
      "text/plain": [
       "<Figure size 640x480 with 1 Axes>"
      ]
     },
     "metadata": {},
     "output_type": "display_data"
    }
   ],
   "source": [
    "#Task 6.1.19: Use df to make a scatter plot showing the relationship between HOUSES and DEBT.\n",
    "\n",
    "# Create scatter plot of HOUSES vs DEBT, df\n",
    "df.plot.scatter(x=\"DEBT\", y=(\"HOUSES\"))"
   ]
  },
  {
   "cell_type": "code",
   "execution_count": 19,
   "id": "94a5805f-6b00-4930-ade5-33f418e5c4b9",
   "metadata": {},
   "outputs": [
    {
     "data": {
      "text/plain": [
       "<Axes: xlabel='DEBT', ylabel='HOUSES'>"
      ]
     },
     "execution_count": 19,
     "metadata": {},
     "output_type": "execute_result"
    },
    {
     "data": {
      "image/png": "[encoded data removed]",
      "text/plain": [
       "<Figure size 640x480 with 1 Axes>"
      ]
     },
     "metadata": {},
     "output_type": "display_data"
    }
   ],
   "source": [
    "#task 6.1.20: Use df_fear to make a scatter plot showing the relationship between HOUSES and DEBT.\n",
    "# Create scatter plot of HOUSES vs DEBT, df_fear\n",
    "df_fear.plot.scatter(x=\"DEBT\", y=(\"HOUSES\"))\n"
   ]
  },
  {
   "cell_type": "code",
   "execution_count": null,
   "id": "b675a7f2-8f88-4955-88d3-5fa0ebd7e920",
   "metadata": {},
   "outputs": [],
   "source": [
    "#The outliers make it a little difficult to see the difference between these two plots, but the relationship is clear enough: our df_fear graph shows an almost perfect linear relationship, while our df graph shows something a little more muddled. You might also notice that the datapoints on the df_fear graph form several little groups. \n",
    "#Those are called \"clusters,\" and we'll be talking more about how to analyze clustered data in the next lesson."
   ]
  }
 ],
 "metadata": {
  "kernelspec": {
   "display_name": "Python 3 (ipykernel)",
   "language": "python",
   "name": "python3"
  },
  "language_info": {
   "codemirror_mode": {
    "name": "ipython",
    "version": 3
   },
   "file_extension": ".py",
   "mimetype": "text/x-python",
   "name": "python",
   "nbconvert_exporter": "python",
   "pygments_lexer": "ipython3",
   "version": "3.10.9"
  }
 },
 "nbformat": 4,
 "nbformat_minor": 5
}
