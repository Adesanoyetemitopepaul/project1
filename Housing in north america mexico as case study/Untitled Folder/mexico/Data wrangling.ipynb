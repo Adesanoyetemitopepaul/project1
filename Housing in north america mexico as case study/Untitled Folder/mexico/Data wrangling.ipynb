{
 "cells": [
  {
   "cell_type": "code",
   "execution_count": 1,
   "id": "9cf540c2-cdec-4509-979d-47a7c91932ae",
   "metadata": {},
   "outputs": [],
   "source": [
    "import matplotlib.pyplot as plt\n",
    "import pandas as pd"
   ]
  },
  {
   "cell_type": "code",
   "execution_count": 10,
   "id": "257cc42b-a1ce-4df7-b828-63565232ef1c",
   "metadata": {},
   "outputs": [],
   "source": [
    "#for csv\n",
    "#df1 = pd.read_csv(\\\"data/mexico-real-estate-1.csv\\\")\n",
    "#df2 = pd.read_csv(\\\"data/mexico-real-estate-2.csv\\\")\n",
    "#df3 = pd.read_csv(\\\"data/mexico-real-estate-3.csv\\\")"
   ]
  },
  {
   "cell_type": "code",
   "execution_count": 2,
   "id": "083d3675-c632-45e7-b824-333f3da00c23",
   "metadata": {},
   "outputs": [],
   "source": [
    "df1 = pd.read_excel(r\"C:\\Users\\User\\anaconda3\\Lib\\site-packages\\sklearn\\datasets\\data\\mexico folder\\mexico 1.xlsx\")\n",
    "df2 = pd.read_excel(r\"C:\\Users\\User\\anaconda3\\Lib\\site-packages\\sklearn\\datasets\\data\\mexico folder\\mexico 2.xlsx\")\n",
    "df3 = pd.read_excel(r\"C:\\Users\\User\\anaconda3\\Lib\\site-packages\\sklearn\\datasets\\data\\mexico folder\\mexico 3.xlsx\")"
   ]
  },
  {
   "cell_type": "code",
   "execution_count": 3,
   "id": "e9478337-4688-4d22-82c4-f1deeab482ab",
   "metadata": {},
   "outputs": [
    {
     "name": "stdout",
     "output_type": "stream",
     "text": [
      "<class 'pandas.core.frame.DataFrame'>\n",
      "RangeIndex: 700 entries, 0 to 699\n",
      "Data columns (total 7 columns):\n",
      " #   Column         Non-Null Count  Dtype  \n",
      "---  ------         --------------  -----  \n",
      " 0   Unnamed: 0     700 non-null    int64  \n",
      " 1   property_type  700 non-null    object \n",
      " 2   state          700 non-null    object \n",
      " 3   lat            583 non-null    float64\n",
      " 4   lon            583 non-null    float64\n",
      " 5   area_m2        700 non-null    int64  \n",
      " 6   price_usd      700 non-null    float64\n",
      "dtypes: float64(3), int64(2), object(2)\n",
      "memory usage: 38.4+ KB\n"
     ]
    }
   ],
   "source": [
    "df1.info()"
   ]
  },
  {
   "cell_type": "code",
   "execution_count": 9,
   "id": "a06c83b7-2910-4208-8994-0002e3bf4d5e",
   "metadata": {},
   "outputs": [
    {
     "name": "stdout",
     "output_type": "stream",
     "text": [
      "<class 'pandas.core.frame.DataFrame'>\n",
      "RangeIndex: 700 entries, 0 to 699\n",
      "Data columns (total 7 columns):\n",
      " #   Column         Non-Null Count  Dtype  \n",
      "---  ------         --------------  -----  \n",
      " 0   Unnamed: 0     700 non-null    int64  \n",
      " 1   property_type  700 non-null    object \n",
      " 2   state          700 non-null    object \n",
      " 3   lat            571 non-null    float64\n",
      " 4   lon            571 non-null    float64\n",
      " 5   area_m2        700 non-null    int64  \n",
      " 6   price_mxn      700 non-null    int64  \n",
      "dtypes: float64(2), int64(3), object(2)\n",
      "memory usage: 38.4+ KB\n"
     ]
    }
   ],
   "source": [
    "df2.info()"
   ]
  },
  {
   "cell_type": "code",
   "execution_count": 10,
   "id": "cec2a8a3-490e-4239-84b7-718692311598",
   "metadata": {},
   "outputs": [
    {
     "name": "stdout",
     "output_type": "stream",
     "text": [
      "<class 'pandas.core.frame.DataFrame'>\n",
      "RangeIndex: 700 entries, 0 to 699\n",
      "Data columns (total 6 columns):\n",
      " #   Column                   Non-Null Count  Dtype  \n",
      "---  ------                   --------------  -----  \n",
      " 0   Unnamed: 0               700 non-null    int64  \n",
      " 1   property_type            700 non-null    object \n",
      " 2   place_with_parent_names  700 non-null    object \n",
      " 3   lat-lon                  582 non-null    object \n",
      " 4   area_m2                  700 non-null    int64  \n",
      " 5   price_usd                700 non-null    float64\n",
      "dtypes: float64(1), int64(2), object(3)\n",
      "memory usage: 32.9+ KB\n"
     ]
    }
   ],
   "source": [
    "df3.info()"
   ]
  },
  {
   "cell_type": "code",
   "execution_count": 12,
   "id": "46853641-f1f0-4647-8361-e7908017eb98",
   "metadata": {},
   "outputs": [],
   "source": [
    "#in df1 (1)drop rows with NAN, (2) replace $ with nothing and replace , with nothing, because its excel file it dosent show the comman and $ but its there in csv file\\n\",\n",
    "df1.dropna(inplace=True)\n",
    "#df1[\"price_usd\"] = (df1[\"price_usd\"].str.replace(\"$\", \"\", regex=False).str.replace(\",\", \"\").astype(float))"
   ]
  },
  {
   "cell_type": "code",
   "execution_count": 14,
   "id": "a4c4e481-f8a8-4078-bf8f-c1607674b84f",
   "metadata": {},
   "outputs": [
    {
     "name": "stdout",
     "output_type": "stream",
     "text": [
      "<class 'pandas.core.frame.DataFrame'>\n",
      "Int64Index: 583 entries, 0 to 699\n",
      "Data columns (total 7 columns):\n",
      " #   Column         Non-Null Count  Dtype  \n",
      "---  ------         --------------  -----  \n",
      " 0   Unnamed: 0     583 non-null    int64  \n",
      " 1   property_type  583 non-null    object \n",
      " 2   state          583 non-null    object \n",
      " 3   lat            583 non-null    float64\n",
      " 4   lon            583 non-null    float64\n",
      " 5   area_m2        583 non-null    int64  \n",
      " 6   price_usd      583 non-null    float64\n",
      "dtypes: float64(3), int64(2), object(2)\n",
      "memory usage: 36.4+ KB\n"
     ]
    }
   ],
   "source": [
    "df1.info()"
   ]
  },
  {
   "cell_type": "code",
   "execution_count": 16,
   "id": "3df70a15-1761-432b-a2d7-4a7c7380f479",
   "metadata": {},
   "outputs": [
    {
     "data": {
      "text/html": [
       "<div>\n",
       "<style scoped>\n",
       "    .dataframe tbody tr th:only-of-type {\n",
       "        vertical-align: middle;\n",
       "    }\n",
       "\n",
       "    .dataframe tbody tr th {\n",
       "        vertical-align: top;\n",
       "    }\n",
       "\n",
       "    .dataframe thead th {\n",
       "        text-align: right;\n",
       "    }\n",
       "</style>\n",
       "<table border=\"1\" class=\"dataframe\">\n",
       "  <thead>\n",
       "    <tr style=\"text-align: right;\">\n",
       "      <th></th>\n",
       "      <th>Unnamed: 0</th>\n",
       "      <th>property_type</th>\n",
       "      <th>state</th>\n",
       "      <th>lat</th>\n",
       "      <th>lon</th>\n",
       "      <th>area_m2</th>\n",
       "      <th>price_usd</th>\n",
       "    </tr>\n",
       "  </thead>\n",
       "  <tbody>\n",
       "    <tr>\n",
       "      <th>0</th>\n",
       "      <td>1</td>\n",
       "      <td>apartment</td>\n",
       "      <td>Nuevo León</td>\n",
       "      <td>25.721081</td>\n",
       "      <td>-100.345581</td>\n",
       "      <td>72</td>\n",
       "      <td>1300000</td>\n",
       "    </tr>\n",
       "    <tr>\n",
       "      <th>2</th>\n",
       "      <td>3</td>\n",
       "      <td>house</td>\n",
       "      <td>Morelos</td>\n",
       "      <td>23.634501</td>\n",
       "      <td>-102.552788</td>\n",
       "      <td>360</td>\n",
       "      <td>5300000</td>\n",
       "    </tr>\n",
       "    <tr>\n",
       "      <th>6</th>\n",
       "      <td>7</td>\n",
       "      <td>apartment</td>\n",
       "      <td>Estado de México</td>\n",
       "      <td>19.272040</td>\n",
       "      <td>-99.572013</td>\n",
       "      <td>85</td>\n",
       "      <td>1250000</td>\n",
       "    </tr>\n",
       "    <tr>\n",
       "      <th>7</th>\n",
       "      <td>8</td>\n",
       "      <td>house</td>\n",
       "      <td>San Luis Potosí</td>\n",
       "      <td>22.138882</td>\n",
       "      <td>-100.996510</td>\n",
       "      <td>158</td>\n",
       "      <td>2120000</td>\n",
       "    </tr>\n",
       "    <tr>\n",
       "      <th>8</th>\n",
       "      <td>9</td>\n",
       "      <td>apartment</td>\n",
       "      <td>Distrito Federal</td>\n",
       "      <td>19.394558</td>\n",
       "      <td>-99.129707</td>\n",
       "      <td>65</td>\n",
       "      <td>758190</td>\n",
       "    </tr>\n",
       "  </tbody>\n",
       "</table>\n",
       "</div>"
      ],
      "text/plain": [
       "   Unnamed: 0 property_type             state        lat         lon  area_m2  \\\n",
       "0           1     apartment        Nuevo León  25.721081 -100.345581       72   \n",
       "2           3         house           Morelos  23.634501 -102.552788      360   \n",
       "6           7     apartment  Estado de México  19.272040  -99.572013       85   \n",
       "7           8         house   San Luis Potosí  22.138882 -100.996510      158   \n",
       "8           9     apartment  Distrito Federal  19.394558  -99.129707       65   \n",
       "\n",
       "   price_usd  \n",
       "0    1300000  \n",
       "2    5300000  \n",
       "6    1250000  \n",
       "7    2120000  \n",
       "8     758190  "
      ]
     },
     "execution_count": 16,
     "metadata": {},
     "output_type": "execute_result"
    }
   ],
   "source": [
    "#First, drop rows with NaN values in df2. Next, use the \\\"price_mxn\\\" column to create a new column named \\\"price_usd\\\". (Keep in mind that, when this data was collected in 2014, a dollar cost 19 pesos.) Finally, drop the \\\"price_mxn\\\" from the DataFrame.\\n\",\n",
    "\n",
    "df2.dropna(inplace=True)\n",
    "df2[\"price_usd\"]=(df2[\"price_mxn\"])\n",
    "#df2[\"price_usd\"]=(df2[\"price_mxn\\\"])/19).round(2) [ it didnt work maybe because the excel file dosent show the comma at the back of the filemxn\\n\",\n",
    "df2.drop(columns=[\"price_mxn\"], inplace=True)\n",
    "df2.head()"
   ]
  },
  {
   "cell_type": "code",
   "execution_count": 21,
   "id": "d0a37332-8bbc-43c5-b071-268a4d796fef",
   "metadata": {},
   "outputs": [
    {
     "name": "stdout",
     "output_type": "stream",
     "text": [
      "<class 'pandas.core.frame.DataFrame'>\n",
      "RangeIndex: 700 entries, 0 to 699\n",
      "Data columns (total 8 columns):\n",
      " #   Column                   Non-Null Count  Dtype  \n",
      "---  ------                   --------------  -----  \n",
      " 0   Unnamed: 0               700 non-null    int64  \n",
      " 1   property_type            700 non-null    object \n",
      " 2   place_with_parent_names  700 non-null    object \n",
      " 3   area_m2                  700 non-null    int64  \n",
      " 4   price_usd                700 non-null    float64\n",
      " 5   lat                      582 non-null    object \n",
      " 6   lon                      582 non-null    object \n",
      " 7   state                    700 non-null    object \n",
      "dtypes: float64(1), int64(2), object(5)\n",
      "memory usage: 43.9+ KB\n"
     ]
    }
   ],
   "source": [
    "#split latitude in df 3 and drop lat-lon\n",
    "df3[[\"lat\",\"lon\"]]=df3[\"lat-lon\"].str.split(\",\", expand= True)\n",
    "df3.drop(columns=[\"lat-lon\"], inplace= True)\n",
    "df3.info()"
   ]
  },
  {
   "cell_type": "code",
   "execution_count": 22,
   "id": "d737583e-88d4-422f-b260-d49e2b9f9fa1",
   "metadata": {},
   "outputs": [
    {
     "data": {
      "text/html": [
       "<div>\n",
       "<style scoped>\n",
       "    .dataframe tbody tr th:only-of-type {\n",
       "        vertical-align: middle;\n",
       "    }\n",
       "\n",
       "    .dataframe tbody tr th {\n",
       "        vertical-align: top;\n",
       "    }\n",
       "\n",
       "    .dataframe thead th {\n",
       "        text-align: right;\n",
       "    }\n",
       "</style>\n",
       "<table border=\"1\" class=\"dataframe\">\n",
       "  <thead>\n",
       "    <tr style=\"text-align: right;\">\n",
       "      <th></th>\n",
       "      <th>Unnamed: 0</th>\n",
       "      <th>property_type</th>\n",
       "      <th>area_m2</th>\n",
       "      <th>price_usd</th>\n",
       "      <th>lat</th>\n",
       "      <th>lon</th>\n",
       "      <th>state</th>\n",
       "    </tr>\n",
       "  </thead>\n",
       "  <tbody>\n",
       "    <tr>\n",
       "      <th>0</th>\n",
       "      <td>1</td>\n",
       "      <td>apartment</td>\n",
       "      <td>71</td>\n",
       "      <td>48550.59</td>\n",
       "      <td>19.52589</td>\n",
       "      <td>-99.151703</td>\n",
       "      <td>Distrito Federal</td>\n",
       "    </tr>\n",
       "    <tr>\n",
       "      <th>1</th>\n",
       "      <td>2</td>\n",
       "      <td>house</td>\n",
       "      <td>233</td>\n",
       "      <td>168636.73</td>\n",
       "      <td>19.2640539</td>\n",
       "      <td>-99.5727534</td>\n",
       "      <td>Estado de México</td>\n",
       "    </tr>\n",
       "    <tr>\n",
       "      <th>2</th>\n",
       "      <td>3</td>\n",
       "      <td>house</td>\n",
       "      <td>300</td>\n",
       "      <td>86932.69</td>\n",
       "      <td>19.268629</td>\n",
       "      <td>-99.671722</td>\n",
       "      <td>Estado de México</td>\n",
       "    </tr>\n",
       "    <tr>\n",
       "      <th>3</th>\n",
       "      <td>4</td>\n",
       "      <td>house</td>\n",
       "      <td>275</td>\n",
       "      <td>263432.41</td>\n",
       "      <td>NaN</td>\n",
       "      <td>NaN</td>\n",
       "      <td>Morelos</td>\n",
       "    </tr>\n",
       "    <tr>\n",
       "      <th>4</th>\n",
       "      <td>5</td>\n",
       "      <td>apartment</td>\n",
       "      <td>84</td>\n",
       "      <td>68508.67</td>\n",
       "      <td>19.511938</td>\n",
       "      <td>-96.871956</td>\n",
       "      <td>Veracruz de Ignacio de la Llave</td>\n",
       "    </tr>\n",
       "  </tbody>\n",
       "</table>\n",
       "</div>"
      ],
      "text/plain": [
       "   Unnamed: 0 property_type  area_m2  price_usd         lat          lon  \\\n",
       "0           1     apartment       71   48550.59    19.52589   -99.151703   \n",
       "1           2         house      233  168636.73  19.2640539  -99.5727534   \n",
       "2           3         house      300   86932.69   19.268629   -99.671722   \n",
       "3           4         house      275  263432.41         NaN          NaN   \n",
       "4           5     apartment       84   68508.67   19.511938   -96.871956   \n",
       "\n",
       "                             state  \n",
       "0                 Distrito Federal  \n",
       "1                 Estado de México  \n",
       "2                 Estado de México  \n",
       "3                          Morelos  \n",
       "4  Veracruz de Ignacio de la Llave  "
      ]
     },
     "execution_count": 22,
     "metadata": {},
     "output_type": "execute_result"
    }
   ],
   "source": [
    "df3[\"state\"]=df3[\"place_with_parent_names\"].str.split(\"|\", expand=True)[2]\n",
    "df3.drop(columns=[\"place_with_parent_names\"], inplace= True)\n",
    "df3.head()"
   ]
  },
  {
   "cell_type": "code",
   "execution_count": 27,
   "id": "870669e3-7bb3-4e54-9234-5e43f810f28f",
   "metadata": {},
   "outputs": [
    {
     "name": "stdout",
     "output_type": "stream",
     "text": [
      "(1854, 7)\n"
     ]
    },
    {
     "data": {
      "text/html": [
       "<div>\n",
       "<style scoped>\n",
       "    .dataframe tbody tr th:only-of-type {\n",
       "        vertical-align: middle;\n",
       "    }\n",
       "\n",
       "    .dataframe tbody tr th {\n",
       "        vertical-align: top;\n",
       "    }\n",
       "\n",
       "    .dataframe thead th {\n",
       "        text-align: right;\n",
       "    }\n",
       "</style>\n",
       "<table border=\"1\" class=\"dataframe\">\n",
       "  <thead>\n",
       "    <tr style=\"text-align: right;\">\n",
       "      <th></th>\n",
       "      <th>Unnamed: 0</th>\n",
       "      <th>property_type</th>\n",
       "      <th>state</th>\n",
       "      <th>lat</th>\n",
       "      <th>lon</th>\n",
       "      <th>area_m2</th>\n",
       "      <th>price_usd</th>\n",
       "    </tr>\n",
       "  </thead>\n",
       "  <tbody>\n",
       "    <tr>\n",
       "      <th>0</th>\n",
       "      <td>1</td>\n",
       "      <td>house</td>\n",
       "      <td>Estado de México</td>\n",
       "      <td>19.560181</td>\n",
       "      <td>-99.233528</td>\n",
       "      <td>150</td>\n",
       "      <td>67965.56</td>\n",
       "    </tr>\n",
       "    <tr>\n",
       "      <th>1</th>\n",
       "      <td>2</td>\n",
       "      <td>house</td>\n",
       "      <td>Nuevo León</td>\n",
       "      <td>25.688436</td>\n",
       "      <td>-100.198807</td>\n",
       "      <td>186</td>\n",
       "      <td>63223.78</td>\n",
       "    </tr>\n",
       "    <tr>\n",
       "      <th>2</th>\n",
       "      <td>3</td>\n",
       "      <td>apartment</td>\n",
       "      <td>Guerrero</td>\n",
       "      <td>16.767704</td>\n",
       "      <td>-99.764383</td>\n",
       "      <td>82</td>\n",
       "      <td>84298.37</td>\n",
       "    </tr>\n",
       "    <tr>\n",
       "      <th>3</th>\n",
       "      <td>4</td>\n",
       "      <td>apartment</td>\n",
       "      <td>Guerrero</td>\n",
       "      <td>16.829782</td>\n",
       "      <td>-99.911012</td>\n",
       "      <td>150</td>\n",
       "      <td>94308.80</td>\n",
       "    </tr>\n",
       "    <tr>\n",
       "      <th>5</th>\n",
       "      <td>6</td>\n",
       "      <td>house</td>\n",
       "      <td>Yucatán</td>\n",
       "      <td>21.052583</td>\n",
       "      <td>-89.538639</td>\n",
       "      <td>205</td>\n",
       "      <td>105191.37</td>\n",
       "    </tr>\n",
       "  </tbody>\n",
       "</table>\n",
       "</div>"
      ],
      "text/plain": [
       "   Unnamed: 0 property_type             state        lat         lon  area_m2  \\\n",
       "0           1         house  Estado de México  19.560181  -99.233528      150   \n",
       "1           2         house        Nuevo León  25.688436 -100.198807      186   \n",
       "2           3     apartment          Guerrero  16.767704  -99.764383       82   \n",
       "3           4     apartment          Guerrero  16.829782  -99.911012      150   \n",
       "5           6         house           Yucatán  21.052583  -89.538639      205   \n",
       "\n",
       "   price_usd  \n",
       "0   67965.56  \n",
       "1   63223.78  \n",
       "2   84298.37  \n",
       "3   94308.80  \n",
       "5  105191.37  "
      ]
     },
     "execution_count": 27,
     "metadata": {},
     "output_type": "execute_result"
    }
   ],
   "source": [
    "df = pd.concat([df1,df2,df3])\n",
    "print(df.shape)\n",
    "df.head()"
   ]
  },
  {
   "cell_type": "code",
   "execution_count": 28,
   "id": "b40129c9-2a77-405d-85e9-4277655121db",
   "metadata": {},
   "outputs": [],
   "source": [
    "df.to_excel(r\"C:\\Users\\User\\anaconda3\\Lib\\site-packages\\sklearn\\datasets\\data\\mexico folder\\mexicocleanfinal.xlsx\", index=False)"
   ]
  },
  {
   "cell_type": "code",
   "execution_count": null,
   "id": "27590df9-54e4-4498-b0f4-d200cd0ab9e7",
   "metadata": {},
   "outputs": [],
   "source": []
  }
 ],
 "metadata": {
  "kernelspec": {
   "display_name": "Python 3 (ipykernel)",
   "language": "python",
   "name": "python3"
  },
  "language_info": {
   "codemirror_mode": {
    "name": "ipython",
    "version": 3
   },
   "file_extension": ".py",
   "mimetype": "text/x-python",
   "name": "python",
   "nbconvert_exporter": "python",
   "pygments_lexer": "ipython3",
   "version": "3.10.9"
  }
 },
 "nbformat": 4,
 "nbformat_minor": 5
}
