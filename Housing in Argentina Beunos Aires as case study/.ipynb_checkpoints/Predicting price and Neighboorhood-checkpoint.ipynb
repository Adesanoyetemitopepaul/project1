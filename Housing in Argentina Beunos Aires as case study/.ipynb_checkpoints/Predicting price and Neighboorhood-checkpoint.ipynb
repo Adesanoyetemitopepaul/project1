{
 "cells": [
  {
   "cell_type": "code",
   "execution_count": 38,
   "id": "54b15b2d-fc97-47a4-8f8d-8e95dc6e9ad0",
   "metadata": {},
   "outputs": [],
   "source": [
    "import warnings\n",
    "from glob import glob\n",
    "\n",
    "import matplotlib.pyplot as plt\n",
    "import numpy as np\n",
    "import pandas as pd\n",
    "from category_encoders import OneHotEncoder\n",
    "from IPython.display import VimeoVideo\n",
    "from sklearn.linear_model import LinearRegression, Ridge  # noqa F401\n",
    "from sklearn.metrics import mean_absolute_error\n",
    "from sklearn.pipeline import make_pipeline\n",
    "from sklearn.utils.validation import check_is_fitted\n",
    "\n",
    "warnings.simplefilter(action=\"ignore\", category=FutureWarning)"
   ]
  },
  {
   "cell_type": "code",
   "execution_count": 40,
   "id": "e07b8a5a-c390-4587-820b-58929c6c88f0",
   "metadata": {},
   "outputs": [],
   "source": [
    "def wrangle(filepath):\n",
    "    # Read CSV file\n",
    "    df=pd.read_excel(filepath)\n",
    "\n",
    "    # Subset data: Apartments in \"Capital Federal\", less than 400,000\n",
    "    mask_ba = df[\"place_with_parent_names\"].str.contains(\"Capital Federal\")\n",
    "    mask_apt = df[\"property_type\"] == \"apartment\"\n",
    "    mask_price = df[\"price_aprox_usd\"] < 400_000\n",
    "    df = df[mask_ba & mask_apt & mask_price]\n",
    "\n",
    "    # Subset data: Remove outliers for \"surface_covered_in_m2\"\n",
    "    low, high = df[\"surface_covered_in_m2\"].quantile([0.1, 0.9])\n",
    "    mask_area = df[\"surface_covered_in_m2\"].between(low, high)\n",
    "    df = df[mask_area]\n",
    "\n",
    "    # Split \"lat-lon\" column\n",
    "    df[[\"lat\", \"lon\"]] = df[\"lat-lon\"].str.split(\",\", expand=True).astype(float)\n",
    "    df.drop(columns=\"lat-lon\", inplace=True)\n",
    "    \n",
    "    df[\"neighborhood\"]= df[\"place_with_parent_names\"].str.split(\"|\", expand=True)[3]\n",
    "    df.drop(columns=\"place_with_parent_names\",inplace=True)\n",
    "    \n",
    "\n",
    "    \n",
    "\n",
    "    return df"
   ]
  },
  {
   "cell_type": "code",
   "execution_count": 41,
   "id": "e4e44e16-75c1-40f0-875c-4054225970e7",
   "metadata": {},
   "outputs": [
    {
     "data": {
      "text/plain": [
       "['C:\\\\Users\\\\User\\\\anaconda3\\\\Lib\\\\site-packages\\\\sklearn\\\\datasets\\\\data\\\\mexico folder\\\\housing-in-buenos-aires1.xlsx',\n",
       " 'C:\\\\Users\\\\User\\\\anaconda3\\\\Lib\\\\site-packages\\\\sklearn\\\\datasets\\\\data\\\\mexico folder\\\\housing-in-buenos-aires2.xlsx',\n",
       " 'C:\\\\Users\\\\User\\\\anaconda3\\\\Lib\\\\site-packages\\\\sklearn\\\\datasets\\\\data\\\\mexico folder\\\\housing-in-buenos-aires3.xlsx',\n",
       " 'C:\\\\Users\\\\User\\\\anaconda3\\\\Lib\\\\site-packages\\\\sklearn\\\\datasets\\\\data\\\\mexico folder\\\\housing-in-buenos-aires4.xlsx',\n",
       " 'C:\\\\Users\\\\User\\\\anaconda3\\\\Lib\\\\site-packages\\\\sklearn\\\\datasets\\\\data\\\\mexico folder\\\\housing-in-buenos-aires5.xlsx']"
      ]
     },
     "execution_count": 41,
     "metadata": {},
     "output_type": "execute_result"
    }
   ],
   "source": [
    "files = glob(r\"C:\\Users\\User\\anaconda3\\Lib\\site-packages\\sklearn\\datasets\\data\\mexico folder\\housing-in-buenos-aires*.xlsx\")\n",
    "files"
   ]
  },
  {
   "cell_type": "code",
   "execution_count": 30,
   "id": "d6acb924-6e3f-4a21-81eb-1d1bdbb49ad7",
   "metadata": {},
   "outputs": [],
   "source": [
    "#Use your wrangle function in a for loop to create a list named frames. \n",
    "#The list should the cleaned DataFrames created from the CSV filenames your collected in files.\n"
   ]
  },
  {
   "cell_type": "code",
   "execution_count": 42,
   "id": "419e156a-4294-4aa4-8127-77c712b69463",
   "metadata": {},
   "outputs": [],
   "source": [
    "frames = []\n",
    "for file in files:\n",
    "    df= wrangle(file)\n",
    "    frames.append(df)"
   ]
  },
  {
   "cell_type": "code",
   "execution_count": 33,
   "id": "13c5bd68-1185-49f7-b126-9ef4b1a2f95f",
   "metadata": {},
   "outputs": [],
   "source": [
    "#Use pd.concat to concatenate the items in frames into a single DataFrame df. Make sure you set the ignore_index argument to True"
   ]
  },
  {
   "cell_type": "code",
   "execution_count": 44,
   "id": "a02dcaf0-a695-4e65-876d-dd6f451500c2",
   "metadata": {},
   "outputs": [
    {
     "data": {
      "text/html": [
       "<div>\n",
       "<style scoped>\n",
       "    .dataframe tbody tr th:only-of-type {\n",
       "        vertical-align: middle;\n",
       "    }\n",
       "\n",
       "    .dataframe tbody tr th {\n",
       "        vertical-align: top;\n",
       "    }\n",
       "\n",
       "    .dataframe thead th {\n",
       "        text-align: right;\n",
       "    }\n",
       "</style>\n",
       "<table border=\"1\" class=\"dataframe\">\n",
       "  <thead>\n",
       "    <tr style=\"text-align: right;\">\n",
       "      <th></th>\n",
       "      <th>z</th>\n",
       "      <th>operation</th>\n",
       "      <th>property_type</th>\n",
       "      <th>price</th>\n",
       "      <th>currency</th>\n",
       "      <th>price_aprox_local_currency</th>\n",
       "      <th>price_aprox_usd</th>\n",
       "      <th>surface_total_in_m2</th>\n",
       "      <th>surface_covered_in_m2</th>\n",
       "      <th>price_usd_per_m2</th>\n",
       "      <th>price_per_m2</th>\n",
       "      <th>floor</th>\n",
       "      <th>rooms</th>\n",
       "      <th>expenses</th>\n",
       "      <th>properati_url</th>\n",
       "      <th>lat</th>\n",
       "      <th>lon</th>\n",
       "      <th>neighborhood</th>\n",
       "      <th>Unnamed: 0</th>\n",
       "    </tr>\n",
       "  </thead>\n",
       "  <tbody>\n",
       "    <tr>\n",
       "      <th>0</th>\n",
       "      <td>NaN</td>\n",
       "      <td>sell</td>\n",
       "      <td>apartment</td>\n",
       "      <td>129000.0</td>\n",
       "      <td>USD</td>\n",
       "      <td>1955949.6</td>\n",
       "      <td>129000.0</td>\n",
       "      <td>76.0</td>\n",
       "      <td>70.0</td>\n",
       "      <td>1697.368421</td>\n",
       "      <td>1842.857143</td>\n",
       "      <td>NaN</td>\n",
       "      <td>NaN</td>\n",
       "      <td>NaN</td>\n",
       "      <td>http://chacarita.properati.com.ar/10qlv_venta_...</td>\n",
       "      <td>-34.584651</td>\n",
       "      <td>-58.454693</td>\n",
       "      <td>Chacarita</td>\n",
       "      <td>NaN</td>\n",
       "    </tr>\n",
       "    <tr>\n",
       "      <th>1</th>\n",
       "      <td>NaN</td>\n",
       "      <td>sell</td>\n",
       "      <td>apartment</td>\n",
       "      <td>87000.0</td>\n",
       "      <td>USD</td>\n",
       "      <td>1319128.8</td>\n",
       "      <td>87000.0</td>\n",
       "      <td>48.0</td>\n",
       "      <td>42.0</td>\n",
       "      <td>1812.500000</td>\n",
       "      <td>2071.428571</td>\n",
       "      <td>NaN</td>\n",
       "      <td>NaN</td>\n",
       "      <td>NaN</td>\n",
       "      <td>http://villa-luro.properati.com.ar/12m82_venta...</td>\n",
       "      <td>-34.638979</td>\n",
       "      <td>-58.500115</td>\n",
       "      <td>Villa Luro</td>\n",
       "      <td>NaN</td>\n",
       "    </tr>\n",
       "    <tr>\n",
       "      <th>2</th>\n",
       "      <td>NaN</td>\n",
       "      <td>sell</td>\n",
       "      <td>apartment</td>\n",
       "      <td>118000.0</td>\n",
       "      <td>USD</td>\n",
       "      <td>1789163.2</td>\n",
       "      <td>118000.0</td>\n",
       "      <td>NaN</td>\n",
       "      <td>54.0</td>\n",
       "      <td>NaN</td>\n",
       "      <td>2185.185185</td>\n",
       "      <td>NaN</td>\n",
       "      <td>2.0</td>\n",
       "      <td>NaN</td>\n",
       "      <td>http://caballito.properati.com.ar/11wqh_venta_...</td>\n",
       "      <td>-34.615847</td>\n",
       "      <td>-58.459957</td>\n",
       "      <td>Caballito</td>\n",
       "      <td>NaN</td>\n",
       "    </tr>\n",
       "    <tr>\n",
       "      <th>3</th>\n",
       "      <td>NaN</td>\n",
       "      <td>sell</td>\n",
       "      <td>apartment</td>\n",
       "      <td>57000.0</td>\n",
       "      <td>USD</td>\n",
       "      <td>864256.8</td>\n",
       "      <td>57000.0</td>\n",
       "      <td>42.0</td>\n",
       "      <td>42.0</td>\n",
       "      <td>1357.142857</td>\n",
       "      <td>1357.142857</td>\n",
       "      <td>5.0</td>\n",
       "      <td>2.0</td>\n",
       "      <td>364.0</td>\n",
       "      <td>http://constitucion.properati.com.ar/k2f0_vent...</td>\n",
       "      <td>-34.625222</td>\n",
       "      <td>-58.382382</td>\n",
       "      <td>Constitución</td>\n",
       "      <td>NaN</td>\n",
       "    </tr>\n",
       "    <tr>\n",
       "      <th>4</th>\n",
       "      <td>NaN</td>\n",
       "      <td>sell</td>\n",
       "      <td>apartment</td>\n",
       "      <td>90000.0</td>\n",
       "      <td>USD</td>\n",
       "      <td>1364616.0</td>\n",
       "      <td>90000.0</td>\n",
       "      <td>57.0</td>\n",
       "      <td>50.0</td>\n",
       "      <td>1578.947368</td>\n",
       "      <td>1800.000000</td>\n",
       "      <td>NaN</td>\n",
       "      <td>3.0</td>\n",
       "      <td>450.0</td>\n",
       "      <td>http://once.properati.com.ar/suwa_venta_depart...</td>\n",
       "      <td>-34.610610</td>\n",
       "      <td>-58.412511</td>\n",
       "      <td>Once</td>\n",
       "      <td>NaN</td>\n",
       "    </tr>\n",
       "  </tbody>\n",
       "</table>\n",
       "</div>"
      ],
      "text/plain": [
       "    z operation property_type     price currency  price_aprox_local_currency  \\\n",
       "0 NaN      sell     apartment  129000.0      USD                   1955949.6   \n",
       "1 NaN      sell     apartment   87000.0      USD                   1319128.8   \n",
       "2 NaN      sell     apartment  118000.0      USD                   1789163.2   \n",
       "3 NaN      sell     apartment   57000.0      USD                    864256.8   \n",
       "4 NaN      sell     apartment   90000.0      USD                   1364616.0   \n",
       "\n",
       "   price_aprox_usd  surface_total_in_m2  surface_covered_in_m2  \\\n",
       "0         129000.0                 76.0                   70.0   \n",
       "1          87000.0                 48.0                   42.0   \n",
       "2         118000.0                  NaN                   54.0   \n",
       "3          57000.0                 42.0                   42.0   \n",
       "4          90000.0                 57.0                   50.0   \n",
       "\n",
       "   price_usd_per_m2  price_per_m2  floor  rooms  expenses  \\\n",
       "0       1697.368421   1842.857143    NaN    NaN       NaN   \n",
       "1       1812.500000   2071.428571    NaN    NaN       NaN   \n",
       "2               NaN   2185.185185    NaN    2.0       NaN   \n",
       "3       1357.142857   1357.142857    5.0    2.0     364.0   \n",
       "4       1578.947368   1800.000000    NaN    3.0     450.0   \n",
       "\n",
       "                                       properati_url        lat        lon  \\\n",
       "0  http://chacarita.properati.com.ar/10qlv_venta_... -34.584651 -58.454693   \n",
       "1  http://villa-luro.properati.com.ar/12m82_venta... -34.638979 -58.500115   \n",
       "2  http://caballito.properati.com.ar/11wqh_venta_... -34.615847 -58.459957   \n",
       "3  http://constitucion.properati.com.ar/k2f0_vent... -34.625222 -58.382382   \n",
       "4  http://once.properati.com.ar/suwa_venta_depart... -34.610610 -58.412511   \n",
       "\n",
       "   neighborhood  Unnamed: 0  \n",
       "0     Chacarita         NaN  \n",
       "1    Villa Luro         NaN  \n",
       "2     Caballito         NaN  \n",
       "3  Constitución         NaN  \n",
       "4          Once         NaN  "
      ]
     },
     "execution_count": 44,
     "metadata": {},
     "output_type": "execute_result"
    }
   ],
   "source": [
    "df =pd.concat(frames, ignore_index=True)\n",
    "df.head()"
   ]
  },
  {
   "cell_type": "code",
   "execution_count": 45,
   "id": "6d0f0f30-626c-4045-a03e-ffe9badd8e97",
   "metadata": {},
   "outputs": [],
   "source": [
    "#Modify your wrangle function to create a new feature \"neighborhood\". \n",
    "#You can find the neighborhood for each property in the \"place_with_parent_names\" column. \n",
    "#For example, a property with the place name \"|Argentina|Capital Federal|Palermo|\" is located in the neighborhood is \"Palermo\".\n",
    "#Also, your function should drop the \"place_with_parent_names\" column."
   ]
  },
  {
   "cell_type": "code",
   "execution_count": 46,
   "id": "36a8a5ac-e5f9-46d0-a68d-e2e452cda694",
   "metadata": {},
   "outputs": [],
   "source": [
    "#split\n",
    "\n",
    "target = \"price_aprox_usd\"\n",
    "features = [\"neighborhood\"]\n",
    "y_train = df[target]\n",
    "X_train = df[features]"
   ]
  },
  {
   "cell_type": "code",
   "execution_count": 82,
   "id": "48cc7e8f-6377-4129-925b-67ad3183b451",
   "metadata": {},
   "outputs": [
    {
     "name": "stdout",
     "output_type": "stream",
     "text": [
      "Mean apt price: 132383.83701458524\n",
      "Baseline MAE: 44860.10834274133\n"
     ]
    }
   ],
   "source": [
    "y_mean = y_train.mean()\n",
    "y_pred_baseline = [y_mean]*len(y_train)\n",
    "print(\"Mean apt price:\", y_mean)\n",
    "\n",
    "\n",
    "print(\"Baseline MAE:\", mean_absolute_error(y_train, y_pred_baseline))"
   ]
  },
  {
   "cell_type": "code",
   "execution_count": 49,
   "id": "f381d444-e476-454c-bbe2-050ab0a8efd2",
   "metadata": {},
   "outputs": [],
   "source": [
    "#First, instantiate a OneHotEncoder named ohe. Make sure to set the use_cat_names argument to True.\n",
    "#Next, fit your transformer to the feature matrix X_train. \n",
    "#Finally, use your encoder to transform the feature matrix X_train, and assign the transformed data to the variable XT_train."
   ]
  },
  {
   "cell_type": "code",
   "execution_count": 50,
   "id": "61a0d6b1-601f-45fa-9014-bfa033408329",
   "metadata": {},
   "outputs": [
    {
     "name": "stdout",
     "output_type": "stream",
     "text": [
      "(6582, 57)\n"
     ]
    },
    {
     "data": {
      "text/html": [
       "<div>\n",
       "<style scoped>\n",
       "    .dataframe tbody tr th:only-of-type {\n",
       "        vertical-align: middle;\n",
       "    }\n",
       "\n",
       "    .dataframe tbody tr th {\n",
       "        vertical-align: top;\n",
       "    }\n",
       "\n",
       "    .dataframe thead th {\n",
       "        text-align: right;\n",
       "    }\n",
       "</style>\n",
       "<table border=\"1\" class=\"dataframe\">\n",
       "  <thead>\n",
       "    <tr style=\"text-align: right;\">\n",
       "      <th></th>\n",
       "      <th>neighborhood_Chacarita</th>\n",
       "      <th>neighborhood_Villa Luro</th>\n",
       "      <th>neighborhood_Caballito</th>\n",
       "      <th>neighborhood_Constitución</th>\n",
       "      <th>neighborhood_Once</th>\n",
       "      <th>neighborhood_Almagro</th>\n",
       "      <th>neighborhood_Palermo</th>\n",
       "      <th>neighborhood_Flores</th>\n",
       "      <th>neighborhood_Belgrano</th>\n",
       "      <th>neighborhood_Liniers</th>\n",
       "      <th>...</th>\n",
       "      <th>neighborhood_Puerto Madero</th>\n",
       "      <th>neighborhood_Agronomía</th>\n",
       "      <th>neighborhood_Monte Castro</th>\n",
       "      <th>neighborhood_Tribunales</th>\n",
       "      <th>neighborhood_Villa Santa Rita</th>\n",
       "      <th>neighborhood_Velez Sarsfield</th>\n",
       "      <th>neighborhood_Villa Soldati</th>\n",
       "      <th>neighborhood_Villa Real</th>\n",
       "      <th>neighborhood_Pompeya</th>\n",
       "      <th>neighborhood_Catalinas</th>\n",
       "    </tr>\n",
       "  </thead>\n",
       "  <tbody>\n",
       "    <tr>\n",
       "      <th>0</th>\n",
       "      <td>1</td>\n",
       "      <td>0</td>\n",
       "      <td>0</td>\n",
       "      <td>0</td>\n",
       "      <td>0</td>\n",
       "      <td>0</td>\n",
       "      <td>0</td>\n",
       "      <td>0</td>\n",
       "      <td>0</td>\n",
       "      <td>0</td>\n",
       "      <td>...</td>\n",
       "      <td>0</td>\n",
       "      <td>0</td>\n",
       "      <td>0</td>\n",
       "      <td>0</td>\n",
       "      <td>0</td>\n",
       "      <td>0</td>\n",
       "      <td>0</td>\n",
       "      <td>0</td>\n",
       "      <td>0</td>\n",
       "      <td>0</td>\n",
       "    </tr>\n",
       "    <tr>\n",
       "      <th>1</th>\n",
       "      <td>0</td>\n",
       "      <td>1</td>\n",
       "      <td>0</td>\n",
       "      <td>0</td>\n",
       "      <td>0</td>\n",
       "      <td>0</td>\n",
       "      <td>0</td>\n",
       "      <td>0</td>\n",
       "      <td>0</td>\n",
       "      <td>0</td>\n",
       "      <td>...</td>\n",
       "      <td>0</td>\n",
       "      <td>0</td>\n",
       "      <td>0</td>\n",
       "      <td>0</td>\n",
       "      <td>0</td>\n",
       "      <td>0</td>\n",
       "      <td>0</td>\n",
       "      <td>0</td>\n",
       "      <td>0</td>\n",
       "      <td>0</td>\n",
       "    </tr>\n",
       "    <tr>\n",
       "      <th>2</th>\n",
       "      <td>0</td>\n",
       "      <td>0</td>\n",
       "      <td>1</td>\n",
       "      <td>0</td>\n",
       "      <td>0</td>\n",
       "      <td>0</td>\n",
       "      <td>0</td>\n",
       "      <td>0</td>\n",
       "      <td>0</td>\n",
       "      <td>0</td>\n",
       "      <td>...</td>\n",
       "      <td>0</td>\n",
       "      <td>0</td>\n",
       "      <td>0</td>\n",
       "      <td>0</td>\n",
       "      <td>0</td>\n",
       "      <td>0</td>\n",
       "      <td>0</td>\n",
       "      <td>0</td>\n",
       "      <td>0</td>\n",
       "      <td>0</td>\n",
       "    </tr>\n",
       "    <tr>\n",
       "      <th>3</th>\n",
       "      <td>0</td>\n",
       "      <td>0</td>\n",
       "      <td>0</td>\n",
       "      <td>1</td>\n",
       "      <td>0</td>\n",
       "      <td>0</td>\n",
       "      <td>0</td>\n",
       "      <td>0</td>\n",
       "      <td>0</td>\n",
       "      <td>0</td>\n",
       "      <td>...</td>\n",
       "      <td>0</td>\n",
       "      <td>0</td>\n",
       "      <td>0</td>\n",
       "      <td>0</td>\n",
       "      <td>0</td>\n",
       "      <td>0</td>\n",
       "      <td>0</td>\n",
       "      <td>0</td>\n",
       "      <td>0</td>\n",
       "      <td>0</td>\n",
       "    </tr>\n",
       "    <tr>\n",
       "      <th>4</th>\n",
       "      <td>0</td>\n",
       "      <td>0</td>\n",
       "      <td>0</td>\n",
       "      <td>0</td>\n",
       "      <td>1</td>\n",
       "      <td>0</td>\n",
       "      <td>0</td>\n",
       "      <td>0</td>\n",
       "      <td>0</td>\n",
       "      <td>0</td>\n",
       "      <td>...</td>\n",
       "      <td>0</td>\n",
       "      <td>0</td>\n",
       "      <td>0</td>\n",
       "      <td>0</td>\n",
       "      <td>0</td>\n",
       "      <td>0</td>\n",
       "      <td>0</td>\n",
       "      <td>0</td>\n",
       "      <td>0</td>\n",
       "      <td>0</td>\n",
       "    </tr>\n",
       "  </tbody>\n",
       "</table>\n",
       "<p>5 rows × 57 columns</p>\n",
       "</div>"
      ],
      "text/plain": [
       "   neighborhood_Chacarita  neighborhood_Villa Luro  neighborhood_Caballito  \\\n",
       "0                       1                        0                       0   \n",
       "1                       0                        1                       0   \n",
       "2                       0                        0                       1   \n",
       "3                       0                        0                       0   \n",
       "4                       0                        0                       0   \n",
       "\n",
       "   neighborhood_Constitución  neighborhood_Once  neighborhood_Almagro  \\\n",
       "0                          0                  0                     0   \n",
       "1                          0                  0                     0   \n",
       "2                          0                  0                     0   \n",
       "3                          1                  0                     0   \n",
       "4                          0                  1                     0   \n",
       "\n",
       "   neighborhood_Palermo  neighborhood_Flores  neighborhood_Belgrano  \\\n",
       "0                     0                    0                      0   \n",
       "1                     0                    0                      0   \n",
       "2                     0                    0                      0   \n",
       "3                     0                    0                      0   \n",
       "4                     0                    0                      0   \n",
       "\n",
       "   neighborhood_Liniers  ...  neighborhood_Puerto Madero  \\\n",
       "0                     0  ...                           0   \n",
       "1                     0  ...                           0   \n",
       "2                     0  ...                           0   \n",
       "3                     0  ...                           0   \n",
       "4                     0  ...                           0   \n",
       "\n",
       "   neighborhood_Agronomía  neighborhood_Monte Castro  neighborhood_Tribunales  \\\n",
       "0                       0                          0                        0   \n",
       "1                       0                          0                        0   \n",
       "2                       0                          0                        0   \n",
       "3                       0                          0                        0   \n",
       "4                       0                          0                        0   \n",
       "\n",
       "   neighborhood_Villa Santa Rita  neighborhood_Velez Sarsfield  \\\n",
       "0                              0                             0   \n",
       "1                              0                             0   \n",
       "2                              0                             0   \n",
       "3                              0                             0   \n",
       "4                              0                             0   \n",
       "\n",
       "   neighborhood_Villa Soldati  neighborhood_Villa Real  neighborhood_Pompeya  \\\n",
       "0                           0                        0                     0   \n",
       "1                           0                        0                     0   \n",
       "2                           0                        0                     0   \n",
       "3                           0                        0                     0   \n",
       "4                           0                        0                     0   \n",
       "\n",
       "   neighborhood_Catalinas  \n",
       "0                       0  \n",
       "1                       0  \n",
       "2                       0  \n",
       "3                       0  \n",
       "4                       0  \n",
       "\n",
       "[5 rows x 57 columns]"
      ]
     },
     "execution_count": 50,
     "metadata": {},
     "output_type": "execute_result"
    }
   ],
   "source": [
    "ohe = OneHotEncoder(use_cat_names=True)\n",
    "ohe.fit(X_train)\n",
    "XT_train = ohe.transform(X_train)\n",
    "print(XT_train.shape)\n",
    "XT_train.head()"
   ]
  },
  {
   "cell_type": "code",
   "execution_count": 51,
   "id": "3c6e10c2-b5e2-4128-9624-a1c3cb521ea8",
   "metadata": {},
   "outputs": [],
   "source": [
    "#Create a pipeline named model that contains a OneHotEncoder transformer and a LinearRegression predictor.\n",
    "#Then fit your model to the training data."
   ]
  },
  {
   "cell_type": "code",
   "execution_count": 84,
   "id": "c23142fa-7e19-4458-a386-639fe9d82c47",
   "metadata": {},
   "outputs": [
    {
     "data": {
      "text/html": [
       "<style>#sk-container-id-6 {color: black;background-color: white;}#sk-container-id-6 pre{padding: 0;}#sk-container-id-6 div.sk-toggleable {background-color: white;}#sk-container-id-6 label.sk-toggleable__label {cursor: pointer;display: block;width: 100%;margin-bottom: 0;padding: 0.3em;box-sizing: border-box;text-align: center;}#sk-container-id-6 label.sk-toggleable__label-arrow:before {content: \"▸\";float: left;margin-right: 0.25em;color: #696969;}#sk-container-id-6 label.sk-toggleable__label-arrow:hover:before {color: black;}#sk-container-id-6 div.sk-estimator:hover label.sk-toggleable__label-arrow:before {color: black;}#sk-container-id-6 div.sk-toggleable__content {max-height: 0;max-width: 0;overflow: hidden;text-align: left;background-color: #f0f8ff;}#sk-container-id-6 div.sk-toggleable__content pre {margin: 0.2em;color: black;border-radius: 0.25em;background-color: #f0f8ff;}#sk-container-id-6 input.sk-toggleable__control:checked~div.sk-toggleable__content {max-height: 200px;max-width: 100%;overflow: auto;}#sk-container-id-6 input.sk-toggleable__control:checked~label.sk-toggleable__label-arrow:before {content: \"▾\";}#sk-container-id-6 div.sk-estimator input.sk-toggleable__control:checked~label.sk-toggleable__label {background-color: #d4ebff;}#sk-container-id-6 div.sk-label input.sk-toggleable__control:checked~label.sk-toggleable__label {background-color: #d4ebff;}#sk-container-id-6 input.sk-hidden--visually {border: 0;clip: rect(1px 1px 1px 1px);clip: rect(1px, 1px, 1px, 1px);height: 1px;margin: -1px;overflow: hidden;padding: 0;position: absolute;width: 1px;}#sk-container-id-6 div.sk-estimator {font-family: monospace;background-color: #f0f8ff;border: 1px dotted black;border-radius: 0.25em;box-sizing: border-box;margin-bottom: 0.5em;}#sk-container-id-6 div.sk-estimator:hover {background-color: #d4ebff;}#sk-container-id-6 div.sk-parallel-item::after {content: \"\";width: 100%;border-bottom: 1px solid gray;flex-grow: 1;}#sk-container-id-6 div.sk-label:hover label.sk-toggleable__label {background-color: #d4ebff;}#sk-container-id-6 div.sk-serial::before {content: \"\";position: absolute;border-left: 1px solid gray;box-sizing: border-box;top: 0;bottom: 0;left: 50%;z-index: 0;}#sk-container-id-6 div.sk-serial {display: flex;flex-direction: column;align-items: center;background-color: white;padding-right: 0.2em;padding-left: 0.2em;position: relative;}#sk-container-id-6 div.sk-item {position: relative;z-index: 1;}#sk-container-id-6 div.sk-parallel {display: flex;align-items: stretch;justify-content: center;background-color: white;position: relative;}#sk-container-id-6 div.sk-item::before, #sk-container-id-6 div.sk-parallel-item::before {content: \"\";position: absolute;border-left: 1px solid gray;box-sizing: border-box;top: 0;bottom: 0;left: 50%;z-index: -1;}#sk-container-id-6 div.sk-parallel-item {display: flex;flex-direction: column;z-index: 1;position: relative;background-color: white;}#sk-container-id-6 div.sk-parallel-item:first-child::after {align-self: flex-end;width: 50%;}#sk-container-id-6 div.sk-parallel-item:last-child::after {align-self: flex-start;width: 50%;}#sk-container-id-6 div.sk-parallel-item:only-child::after {width: 0;}#sk-container-id-6 div.sk-dashed-wrapped {border: 1px dashed gray;margin: 0 0.4em 0.5em 0.4em;box-sizing: border-box;padding-bottom: 0.4em;background-color: white;}#sk-container-id-6 div.sk-label label {font-family: monospace;font-weight: bold;display: inline-block;line-height: 1.2em;}#sk-container-id-6 div.sk-label-container {text-align: center;}#sk-container-id-6 div.sk-container {/* jupyter's `normalize.less` sets `[hidden] { display: none; }` but bootstrap.min.css set `[hidden] { display: none !important; }` so we also need the `!important` here to be able to override the default hidden behavior on the sphinx rendered scikit-learn.org. See: https://github.com/scikit-learn/scikit-learn/issues/21755 */display: inline-block !important;position: relative;}#sk-container-id-6 div.sk-text-repr-fallback {display: none;}</style><div id=\"sk-container-id-6\" class=\"sk-top-container\"><div class=\"sk-text-repr-fallback\"><pre>Pipeline(steps=[(&#x27;onehotencoder&#x27;,\n",
       "                 OneHotEncoder(cols=[&#x27;neighborhood&#x27;], use_cat_names=True)),\n",
       "                (&#x27;ridge&#x27;, Ridge())])</pre><b>In a Jupyter environment, please rerun this cell to show the HTML representation or trust the notebook. <br />On GitHub, the HTML representation is unable to render, please try loading this page with nbviewer.org.</b></div><div class=\"sk-container\" hidden><div class=\"sk-item sk-dashed-wrapped\"><div class=\"sk-label-container\"><div class=\"sk-label sk-toggleable\"><input class=\"sk-toggleable__control sk-hidden--visually\" id=\"sk-estimator-id-16\" type=\"checkbox\" ><label for=\"sk-estimator-id-16\" class=\"sk-toggleable__label sk-toggleable__label-arrow\">Pipeline</label><div class=\"sk-toggleable__content\"><pre>Pipeline(steps=[(&#x27;onehotencoder&#x27;,\n",
       "                 OneHotEncoder(cols=[&#x27;neighborhood&#x27;], use_cat_names=True)),\n",
       "                (&#x27;ridge&#x27;, Ridge())])</pre></div></div></div><div class=\"sk-serial\"><div class=\"sk-item\"><div class=\"sk-estimator sk-toggleable\"><input class=\"sk-toggleable__control sk-hidden--visually\" id=\"sk-estimator-id-17\" type=\"checkbox\" ><label for=\"sk-estimator-id-17\" class=\"sk-toggleable__label sk-toggleable__label-arrow\">OneHotEncoder</label><div class=\"sk-toggleable__content\"><pre>OneHotEncoder(cols=[&#x27;neighborhood&#x27;], use_cat_names=True)</pre></div></div></div><div class=\"sk-item\"><div class=\"sk-estimator sk-toggleable\"><input class=\"sk-toggleable__control sk-hidden--visually\" id=\"sk-estimator-id-18\" type=\"checkbox\" ><label for=\"sk-estimator-id-18\" class=\"sk-toggleable__label sk-toggleable__label-arrow\">Ridge</label><div class=\"sk-toggleable__content\"><pre>Ridge()</pre></div></div></div></div></div></div></div>"
      ],
      "text/plain": [
       "Pipeline(steps=[('onehotencoder',\n",
       "                 OneHotEncoder(cols=['neighborhood'], use_cat_names=True)),\n",
       "                ('ridge', Ridge())])"
      ]
     },
     "execution_count": 84,
     "metadata": {},
     "output_type": "execute_result"
    }
   ],
   "source": [
    "\n",
    "\n",
    "\n",
    "\n",
    "model = make_pipeline(\n",
    "    OneHotEncoder(use_cat_names= True),\n",
    "    Ridge()\n",
    "    \n",
    ")\n",
    "model.fit(X_train, y_train)\n",
    "\n",
    "\n",
    "\n",
    "\n",
    "\n",
    "\n",
    "\n",
    "\n",
    "\n",
    "#(a)#model = make_pipeline(\n",
    "      #OneHotEncoder(use_cat_names= True),\n",
    "      #LinearRegression(),\n",
    "      #Ridge()\n",
    "    \n",
    "#)\n",
    "#model.fit(X_train, y_train)"
   ]
  },
  {
   "cell_type": "code",
   "execution_count": 53,
   "id": "4cd8bb2e-20d8-4267-864d-e5be2017b338",
   "metadata": {},
   "outputs": [],
   "source": [
    "#first, create a list of predictions for the observations in your feature matrix X_train. Name this list y_pred_training. \n",
    "#Then calculate the training mean absolute error for your predictions in y_pred_training as compared to the true targets in y_train."
   ]
  },
  {
   "cell_type": "code",
   "execution_count": 81,
   "id": "9e42e0da-81ab-414a-a7a9-a86e08b6a346",
   "metadata": {},
   "outputs": [
    {
     "name": "stdout",
     "output_type": "stream",
     "text": [
      "Training MAE: 39350.22\n"
     ]
    }
   ],
   "source": [
    "y_pred_training = model.predict(X_train)\n",
    "mae_training = mean_absolute_error(y_train, y_pred_training)\n",
    "print(\"Training MAE:\", round(mae_training, 2))"
   ]
  },
  {
   "cell_type": "code",
   "execution_count": 55,
   "id": "0320dcfb-ad88-4b48-ac9d-4ae2555cb1ff",
   "metadata": {},
   "outputs": [],
   "source": [
    "#Run the code below to import your test data buenos-aires-test-features.csv into a DataFrame and generate a Series of predictions using your model. \n",
    "#Then run the following cell to submit your predictions to the grader.\n",
    "\n",
    "#Generalization\n",
    "\n",
    "#ntice that we tested the model with a dataset that's different from the one we used to train the model. \n",
    "#achine learning models are useful if they allow you to make predictions about data other than what you used to train your model.\n",
    "#e call this concept generalization. By testing your model with different data than you used to train it, you're checking to see if your model can generalize.\n",
    "#ost machine learning models do not generalize to all possible types of input data, so they should be used with care. \n",
    "#n the other hand, machine learning models that don't generalize to make predictions for at least a restricted set of data aren't very useful.\n",
    "\n"
   ]
  },
  {
   "cell_type": "code",
   "execution_count": 85,
   "id": "d850f7e7-5f3c-41b5-8c25-630b03c93ac0",
   "metadata": {},
   "outputs": [
    {
     "data": {
      "text/plain": [
       "0    246624.694624\n",
       "1    161355.968734\n",
       "2     98232.051308\n",
       "3    110846.030377\n",
       "4    127777.538197\n",
       "dtype: float64"
      ]
     },
     "execution_count": 85,
     "metadata": {},
     "output_type": "execute_result"
    }
   ],
   "source": [
    "X_test = X_test = pd.read_excel(r\"C:\\Users\\User\\anaconda3\\Lib\\site-packages\\sklearn\\datasets\\data\\mexico folder\\housing-in-buenos-irestestfeautures.xlsx\")[features]\n",
    "y_pred_test = pd.Series(model.predict(X_test))\n",
    "y_pred_test.head()"
   ]
  },
  {
   "cell_type": "code",
   "execution_count": 89,
   "id": "7bdf73ae-4355-46e5-b08e-d9d1a5606a2a",
   "metadata": {},
   "outputs": [
    {
     "name": "stdout",
     "output_type": "stream",
     "text": [
      "coefficients len: 57\n",
      "[-2.89895934e+03 -6.29555347e+00  9.25289088e+03 -4.17487330e+04\n",
      " -3.23037446e+03]\n"
     ]
    }
   ],
   "source": [
    "\n",
    "#communication\n",
    "\n",
    "#grt your intercept and coeff from linear regression\n",
    "\n",
    "\n",
    "\n",
    "#intercept= model.named_steps[\"linearregression\"].intercept_\n",
    "#coefficients = model.named_steps[\"linearregression\"].coef_\n",
    "#print(\"coefficients len:\", len(coefficients))\n",
    "#print(coefficients[:5])  # First five coefficients\n",
    "\n",
    "\n",
    "\n",
    "\n",
    "\n",
    "\n",
    "intercept= model.named_steps[\"ridge\"].intercept_\n",
    "coefficients = model.named_steps[\"ridge\"].coef_\n",
    "print(\"coefficients len:\", len(coefficients))\n",
    "print(coefficients[:5])  # First five coefficients"
   ]
  },
  {
   "cell_type": "code",
   "execution_count": 90,
   "id": "2de49968-773f-4a39-81b6-79d9c36afa85",
   "metadata": {},
   "outputs": [
    {
     "name": "stdout",
     "output_type": "stream",
     "text": [
      "features len: 57\n",
      "['neighborhood_Chacarita' 'neighborhood_Villa Luro'\n",
      " 'neighborhood_Caballito' 'neighborhood_Constitución' 'neighborhood_Once']\n"
     ]
    }
   ],
   "source": [
    "#get your features name from onehotencder\n",
    "\n",
    "\n",
    "feature_names = model.named_steps[\"onehotencoder\"].get_feature_names()\n",
    "print(\"features len:\", len(feature_names))\n",
    "print(feature_names[:5])  # First five feature names"
   ]
  },
  {
   "cell_type": "code",
   "execution_count": 91,
   "id": "b633ce42-a84e-4cdb-bf88-6c2f65887669",
   "metadata": {},
   "outputs": [
    {
     "data": {
      "text/plain": [
       "neighborhood_Chacarita       -2898.959335\n",
       "neighborhood_Villa Luro         -6.295553\n",
       "neighborhood_Caballito        9252.890876\n",
       "neighborhood_Constitución   -41748.733031\n",
       "neighborhood_Once            -3230.374461\n",
       "dtype: float64"
      ]
     },
     "execution_count": 91,
     "metadata": {},
     "output_type": "execute_result"
    }
   ],
   "source": [
    "#let put our name and coefficinet together now.\n",
    "\n",
    "#Create a pandas Series named feat_imp where the index is your features and the values are your coefficients.\n",
    "\n",
    "feat_imp = pd.Series(coefficients, index= feature_names)\n",
    "feat_imp.head()\n",
    "\n",
    "\n"
   ]
  },
  {
   "cell_type": "code",
   "execution_count": 92,
   "id": "34a80c94-4e52-409b-ba59-2ef2c8b8f32b",
   "metadata": {},
   "outputs": [
    {
     "name": "stdout",
     "output_type": "stream",
     "text": [
      "price = 118524.65\n",
      "+ (-2898.96 * neighborhood_Chacarita)\n",
      "+ (-6.3 * neighborhood_Villa Luro)\n",
      "+ (9252.89 * neighborhood_Caballito)\n",
      "+ (-41748.73 * neighborhood_Constitución)\n",
      "+ (-3230.37 * neighborhood_Once)\n",
      "+ (2903.34 * neighborhood_Almagro)\n",
      "+ (45934.41 * neighborhood_Palermo)\n",
      "+ (-8662.28 * neighborhood_Flores)\n",
      "+ (46954.21 * neighborhood_Belgrano)\n",
      "+ (-13729.1 * neighborhood_Liniers)\n",
      "+ (6277.05 * neighborhood_Villa Crespo)\n",
      "+ (-10678.63 * neighborhood_San Cristobal)\n",
      "+ (-7974.66 * neighborhood_Congreso)\n",
      "+ (14701.16 * neighborhood_Saavedra)\n",
      "+ (-11172.55 * neighborhood_Balvanera)\n",
      "+ (-29585.61 * neighborhood_Parque Avellaneda)\n",
      "+ (72740.78 * neighborhood_Recoleta)\n",
      "+ (5638.47 * neighborhood_San Telmo)\n",
      "+ (42831.32 * neighborhood_Nuñez)\n",
      "+ (55590.93 * neighborhood_Barrio Norte)\n",
      "+ (-6323.68 * neighborhood_Parque Centenario)\n",
      "+ (4330.55 * neighborhood_Abasto)\n",
      "+ (-7905.29 * neighborhood_Centro / Microcentro)\n",
      "+ (-19370.74 * neighborhood_)\n",
      "+ (-7108.23 * neighborhood_Paternal)\n",
      "+ (-21078.78 * neighborhood_Mataderos)\n",
      "+ (-48669.35 * neighborhood_Villa Lugano)\n",
      "+ (12223.11 * neighborhood_Coghlan)\n",
      "+ (72270.21 * neighborhood_Las Cañitas)\n",
      "+ (12671.71 * neighborhood_Villa Urquiza)\n",
      "+ (-20292.6 * neighborhood_Monserrat)\n",
      "+ (-8093.45 * neighborhood_Villa Pueyrredón)\n",
      "+ (-15807.01 * neighborhood_Parque Patricios)\n",
      "+ (-10734.35 * neighborhood_San Nicolás)\n",
      "+ (-12595.5 * neighborhood_Villa del Parque)\n",
      "+ (-6837.4 * neighborhood_Boedo)\n",
      "+ (-7678.62 * neighborhood_Parque Chacabuco)\n",
      "+ (-4618.66 * neighborhood_Barracas)\n",
      "+ (-32439.87 * neighborhood_Parque Chas)\n",
      "+ (38436.33 * neighborhood_Colegiales)\n",
      "+ (7714.62 * neighborhood_Villa General Mitre)\n",
      "+ (-11208.9 * neighborhood_Villa Ortuzar)\n",
      "+ (3860.58 * neighborhood_Villa Devoto)\n",
      "+ (-14088.02 * neighborhood_Floresta)\n",
      "+ (27042.61 * neighborhood_Retiro)\n",
      "+ (-4937.21 * neighborhood_Versalles)\n",
      "+ (-28353.36 * neighborhood_Boca)\n",
      "+ (128100.05 * neighborhood_Puerto Madero)\n",
      "+ (-772.7 * neighborhood_Agronomía)\n",
      "+ (-3427.44 * neighborhood_Monte Castro)\n",
      "+ (-7818.09 * neighborhood_Tribunales)\n",
      "+ (-19843.92 * neighborhood_Villa Santa Rita)\n",
      "+ (-27219.72 * neighborhood_Velez Sarsfield)\n",
      "+ (-59248.81 * neighborhood_Villa Soldati)\n",
      "+ (-7393.49 * neighborhood_Villa Real)\n",
      "+ (-43909.59 * neighborhood_Pompeya)\n",
      "+ (-22012.32 * neighborhood_Catalinas)\n"
     ]
    }
   ],
   "source": [
    "#print equation\n",
    "\n",
    "\n",
    "\n",
    "\n",
    "print(f\"price = {intercept.round(2)}\")\n",
    "for f, c in feat_imp.items():\n",
    "    print(f\"+ ({round(c, 2)} * {f})\")"
   ]
  },
  {
   "cell_type": "code",
   "execution_count": 93,
   "id": "7f60164a-e65b-4b97-9e16-875adfaecfde",
   "metadata": {},
   "outputs": [],
   "source": [
    "#our model is not really doing well due to dimensionality problem so we find solution\n",
    "#we do regularization bring it back to normal. an example is rigde regression\n",
    "#a) will be our initial code\n",
    "#b) will be our new code\n",
    "\n",
    "#note: dont do these i.e put ridge in real world, i am just doing it to show you the difference\n",
    "\n",
    "\n",
    "#scroll up, change the predictor in your model to Ridge, and retrain it. \n",
    "#Then evaluate the model's training and test performance. Do you still have an overfitting problem? \n",
    "#If not, extract the intercept and coefficients again (you'll need to change your code a little bit) and regenerate the model's equation.\n",
    "#Does it look different than before?"
   ]
  },
  {
   "cell_type": "code",
   "execution_count": 94,
   "id": "7b298b68-2f32-43f9-84a5-7a6965211e85",
   "metadata": {},
   "outputs": [
    {
     "data": {
      "image/png": "[encoded data removed]",
      "text/plain": [
       "<Figure size 640x480 with 1 Axes>"
      ]
     },
     "metadata": {},
     "output_type": "display_data"
    }
   ],
   "source": [
    "feat_imp.sort_values(key=abs).tail(15).plot(kind=\"barh\")\n",
    "plt.xlabel(\"Importance [USD]\")\n",
    "plt.ylabel(\"Feature\")\n",
    "plt.title(\"Feature Importance for Apartment price\");\n",
    "\n",
    "\n",
    "#abs= absolute value i.e smallest to largest\n",
    "\n",
    "we can actually use this to get some code\n",
    "feat_imp.sort_values(key=abs).tail(15)"
   ]
  },
  {
   "cell_type": "code",
   "execution_count": 95,
   "id": "aa97bc6d-cb32-4408-8c78-8f9133a6e819",
   "metadata": {},
   "outputs": [
    {
     "data": {
      "text/plain": [
       "neighborhood_Boca                 -28353.364910\n",
       "neighborhood_Parque Avellaneda    -29585.606863\n",
       "neighborhood_Parque Chas          -32439.870833\n",
       "neighborhood_Colegiales            38436.327903\n",
       "neighborhood_Constitución         -41748.733031\n",
       "neighborhood_Nuñez                 42831.321413\n",
       "neighborhood_Pompeya              -43909.591101\n",
       "neighborhood_Palermo               45934.410585\n",
       "neighborhood_Belgrano              46954.208009\n",
       "neighborhood_Villa Lugano         -48669.354978\n",
       "neighborhood_Barrio Norte          55590.928973\n",
       "neighborhood_Villa Soldati        -59248.813857\n",
       "neighborhood_Las Cañitas           72270.212270\n",
       "neighborhood_Recoleta              72740.780756\n",
       "neighborhood_Puerto Madero        128100.047303\n",
       "dtype: float64"
      ]
     },
     "execution_count": 95,
     "metadata": {},
     "output_type": "execute_result"
    }
   ],
   "source": [
    "feat_imp.sort_values(key=abs).tail(15)"
   ]
  },
  {
   "cell_type": "code",
   "execution_count": null,
   "id": "1c0aa62b-3a58-46b7-932f-1155b22d6cbe",
   "metadata": {},
   "outputs": [],
   "source": []
  }
 ],
 "metadata": {
  "kernelspec": {
   "display_name": "Python 3 (ipykernel)",
   "language": "python",
   "name": "python3"
  },
  "language_info": {
   "codemirror_mode": {
    "name": "ipython",
    "version": 3
   },
   "file_extension": ".py",
   "mimetype": "text/x-python",
   "name": "python",
   "nbconvert_exporter": "python",
   "pygments_lexer": "ipython3",
   "version": "3.10.9"
  }
 },
 "nbformat": 4,
 "nbformat_minor": 5
}
