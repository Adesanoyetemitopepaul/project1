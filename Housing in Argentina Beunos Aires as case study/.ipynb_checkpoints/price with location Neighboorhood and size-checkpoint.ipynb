{
 "cells": [
  {
   "cell_type": "code",
   "execution_count": 64,
   "id": "3a2b53b1-5fd5-426b-aa79-63fa194db454",
   "metadata": {},
   "outputs": [],
   "source": [
    "#price and Everything\n",
    "\n",
    "import warnings\n",
    "from glob import glob\n",
    "\n",
    "import pandas as pd\n",
    "import seaborn as sns\n",
    "from category_encoders import OneHotEncoder\n",
    "from IPython.display import VimeoVideo\n",
    "from ipywidgets import Dropdown, FloatSlider, IntSlider, interact\n",
    "from sklearn.impute import SimpleImputer\n",
    "from sklearn.linear_model import LinearRegression, Ridge  # noqa F401\n",
    "from sklearn.metrics import mean_absolute_error\n",
    "from sklearn.pipeline import make_pipeline\n",
    "from sklearn.utils.validation import check_is_fitted\n",
    "\n",
    "warnings.simplefilter(action=\"ignore\", category=FutureWarning)\n"
   ]
  },
  {
   "cell_type": "code",
   "execution_count": 65,
   "id": "45e565c5-126e-4615-a1ae-f2f931f8c0d1",
   "metadata": {},
   "outputs": [],
   "source": [
    "def wrangle(filepath):\n",
    "    # Read CSV file\n",
    "    df=pd.read_excel(filepath)\n",
    "\n",
    "    # Subset data: Apartments in \"Capital Federal\", less than 400,000\n",
    "    mask_ba = df[\"place_with_parent_names\"].str.contains(\"Capital Federal\")\n",
    "    mask_apt = df[\"property_type\"] == \"apartment\"\n",
    "    mask_price = df[\"price_aprox_usd\"] < 400_000\n",
    "    df = df[mask_ba & mask_apt & mask_price]\n",
    "\n",
    "    # Subset data: Remove outliers for \"surface_covered_in_m2\"\n",
    "    low, high = df[\"surface_covered_in_m2\"].quantile([0.1, 0.9])\n",
    "    mask_area = df[\"surface_covered_in_m2\"].between(low, high)\n",
    "    df = df[mask_area]\n",
    "\n",
    "    # Split \"lat-lon\" column\n",
    "    df[[\"lat\", \"lon\"]] = df[\"lat-lon\"].str.split(\",\", expand=True).astype(float)\n",
    "    df.drop(columns=\"lat-lon\", inplace=True)\n",
    "    \n",
    "    df[\"neighborhood\"]= df[\"place_with_parent_names\"].str.split(\"|\", expand=True)[3]\n",
    "    df.drop(columns=\"place_with_parent_names\",inplace=True)\n",
    "    \n",
    "    #drop features with high non count\n",
    "    df.drop(columns=[\"floor\",\"expenses\"], inplace=True)\n",
    "    \n",
    "    \n",
    "    #drop features with low and high cardinality\n",
    "    df.drop(columns=[\"operation\",\"property_type\",\"currency\",\"properati_url\"],  inplace=True)\n",
    "    \n",
    "    \n",
    "    \n",
    "    # drop leakaage\n",
    "    df.drop(columns=[\n",
    "    'price',\n",
    "    'price_aprox_local_currency',\n",
    "    'price_per_m2',\n",
    "    'price_usd_per_m2',\n",
    "     ], \n",
    "        \n",
    "     inplace= True)\n",
    "    \n",
    "    \n",
    "    #drop colums with multicollinearity\n",
    "    df.drop(columns=[\"surface_total_in_m2\",\"rooms\"], inplace=True )\n",
    "\n",
    "    \n",
    "    \n",
    "    \n",
    "    \n",
    "    \n",
    "\n",
    "    \n",
    "\n",
    "    return df"
   ]
  },
  {
   "cell_type": "code",
   "execution_count": 66,
   "id": "4f466b48-a220-4ea7-8723-965c72154eed",
   "metadata": {},
   "outputs": [
    {
     "data": {
      "text/plain": [
       "['C:\\\\Users\\\\User\\\\anaconda3\\\\Lib\\\\site-packages\\\\sklearn\\\\datasets\\\\data\\\\mexico folder\\\\housing-in-buenos-aires1.xlsx',\n",
       " 'C:\\\\Users\\\\User\\\\anaconda3\\\\Lib\\\\site-packages\\\\sklearn\\\\datasets\\\\data\\\\mexico folder\\\\housing-in-buenos-aires2.xlsx',\n",
       " 'C:\\\\Users\\\\User\\\\anaconda3\\\\Lib\\\\site-packages\\\\sklearn\\\\datasets\\\\data\\\\mexico folder\\\\housing-in-buenos-aires3.xlsx',\n",
       " 'C:\\\\Users\\\\User\\\\anaconda3\\\\Lib\\\\site-packages\\\\sklearn\\\\datasets\\\\data\\\\mexico folder\\\\housing-in-buenos-aires4.xlsx',\n",
       " 'C:\\\\Users\\\\User\\\\anaconda3\\\\Lib\\\\site-packages\\\\sklearn\\\\datasets\\\\data\\\\mexico folder\\\\housing-in-buenos-aires5.xlsx']"
      ]
     },
     "execution_count": 66,
     "metadata": {},
     "output_type": "execute_result"
    }
   ],
   "source": [
    "files = glob(r\"C:\\Users\\User\\anaconda3\\Lib\\site-packages\\sklearn\\datasets\\data\\mexico folder\\housing-in-buenos-aires*.xlsx\")\n",
    "files\n"
   ]
  },
  {
   "cell_type": "code",
   "execution_count": 4,
   "id": "cb5fcede-ba54-46c4-a091-6e412e6ca150",
   "metadata": {},
   "outputs": [],
   "source": [
    "#The last time we put all our DataFrames into a list, we used a for loop. \n",
    "#This time, we're going to use a more compact coding technique called a list comprehension."
   ]
  },
  {
   "cell_type": "code",
   "execution_count": 67,
   "id": "0a8483e5-98cd-4654-8ac7-b02a4609e999",
   "metadata": {},
   "outputs": [],
   "source": [
    "frames =[wrangle(file)for file in files]"
   ]
  },
  {
   "cell_type": "code",
   "execution_count": 68,
   "id": "0b62e117-3fe1-4bb7-883b-6aebe5f67ee5",
   "metadata": {},
   "outputs": [
    {
     "name": "stdout",
     "output_type": "stream",
     "text": [
      "<class 'pandas.core.frame.DataFrame'>\n",
      "RangeIndex: 6582 entries, 0 to 6581\n",
      "Data columns (total 7 columns):\n",
      " #   Column                 Non-Null Count  Dtype  \n",
      "---  ------                 --------------  -----  \n",
      " 0   z                      0 non-null      float64\n",
      " 1   price_aprox_usd        6582 non-null   float64\n",
      " 2   surface_covered_in_m2  6582 non-null   float64\n",
      " 3   lat                    6316 non-null   float64\n",
      " 4   lon                    6316 non-null   float64\n",
      " 5   neighborhood           6582 non-null   object \n",
      " 6   Unnamed: 0             5239 non-null   float64\n",
      "dtypes: float64(6), object(1)\n",
      "memory usage: 360.1+ KB\n"
     ]
    }
   ],
   "source": [
    "df =pd.concat(frames, ignore_index=True)\n",
    "df.head()\n",
    "df.info()"
   ]
  },
  {
   "cell_type": "code",
   "execution_count": 70,
   "id": "e88862b2-3a5c-4b1a-9466-4eb888b47445",
   "metadata": {},
   "outputs": [
    {
     "data": {
      "text/plain": [
       "z                        6582\n",
       "price_aprox_usd             0\n",
       "surface_covered_in_m2       0\n",
       "lat                       266\n",
       "lon                       266\n",
       "neighborhood                0\n",
       "Unnamed: 0               1343\n",
       "dtype: int64"
      ]
     },
     "execution_count": 70,
     "metadata": {},
     "output_type": "execute_result"
    }
   ],
   "source": [
    "df.isnull().sum()\n",
    "\n",
    "#df.isnull().sum() / len(df)\n",
    "\n",
    "#floor and expenses has  4682 and 4843 we drop them in the wrangle\n",
    "#if the column has more than fifty percent non value drop them"
   ]
  },
  {
   "cell_type": "code",
   "execution_count": 71,
   "id": "100d7cb0-46f0-47f2-b1de-886bb4cd3e48",
   "metadata": {},
   "outputs": [
    {
     "data": {
      "text/plain": [
       "neighborhood    57\n",
       "dtype: int64"
      ]
     },
     "execution_count": 71,
     "metadata": {},
     "output_type": "execute_result"
    }
   ],
   "source": [
    "#df.select_dtypes(\"object\").head()\n",
    "df.select_dtypes(\"object\").nunique() # for categorical variable\n",
    "#those with high and low categorically cadinality  we drop them\n",
    "#df.select_dtypes(\"object\").nunique()\n",
    "\n",
    "#e.g\n",
    "#A 1\n",
    "#B 2\n",
    "#C 34567\n",
    "#D 234\n",
    "#WE DROP ANS AND B BECAUAE THEY HAVE LOW CARSINALITY\n",
    "#WE DROP C BECAUSE ITS HAS HIGH CARDINALITY AND IT WILL HARM MODEL PERFORMANCE\n",
    "#HIGH CARDINALITY GIVES TOO MUCH INFO\n",
    "#LOW CARDINALITY GIVES TOO LOW INFORMATION"
   ]
  },
  {
   "cell_type": "code",
   "execution_count": 72,
   "id": "b00abae9-5ee1-4fe4-a7bc-db98fa3e06cc",
   "metadata": {},
   "outputs": [
    {
     "data": {
      "text/plain": [
       "['Unnamed: 0',\n",
       " 'lat',\n",
       " 'lon',\n",
       " 'neighborhood',\n",
       " 'price_aprox_usd',\n",
       " 'surface_covered_in_m2',\n",
       " 'z']"
      ]
     },
     "execution_count": 72,
     "metadata": {},
     "output_type": "execute_result"
    }
   ],
   "source": [
    "#those with leakage we drop them\n",
    "#leakage give information to our model that is not suppose to give, which it will not have aceess to in real world. are there info in the column that is not suppose to be there if its was a real world\n",
    "\n",
    "sorted(df.columns)"
   ]
  },
  {
   "cell_type": "code",
   "execution_count": 1,
   "id": "4c43af1c-c780-4b09-80e1-c2a413ea1bac",
   "metadata": {},
   "outputs": [
    {
     "ename": "NameError",
     "evalue": "name 'df' is not defined",
     "output_type": "error",
     "traceback": [
      "\u001b[1;31m---------------------------------------------------------------------------\u001b[0m",
      "\u001b[1;31mNameError\u001b[0m                                 Traceback (most recent call last)",
      "Cell \u001b[1;32mIn[1], line 8\u001b[0m\n\u001b[0;32m      1\u001b[0m \u001b[38;5;66;03m#Finally, the last issue we need to keep an eye out for is **multicollinearity**, that is, features in our feature matrix that are highly correlated with each other. \u001b[39;00m\n\u001b[0;32m      2\u001b[0m \u001b[38;5;66;03m#A good way to detect this is to use a heatmap. Let's make one!\u001b[39;00m\n\u001b[0;32m      3\u001b[0m \n\u001b[0;32m      4\u001b[0m \n\u001b[0;32m      5\u001b[0m \u001b[38;5;66;03m#we solve the problem of muticollinearty using heat map. multi is not a problem if we are only concern with performance matrics such as MEA  or other matricesbut if we are concer with model interpretability or \u001b[39;00m\n\u001b[0;32m      6\u001b[0m \u001b[38;5;66;03m#explanability it becomes a problem. when model are correlated we dont know if our cofficient  is from this or that or from the correlation of the two, its becomes a problem.\u001b[39;00m\n\u001b[1;32m----> 8\u001b[0m corr \u001b[38;5;241m=\u001b[39m \u001b[43mdf\u001b[49m\u001b[38;5;241m.\u001b[39mselect_dtypes(\u001b[38;5;124m\"\u001b[39m\u001b[38;5;124mnumber\u001b[39m\u001b[38;5;124m\"\u001b[39m)\u001b[38;5;241m.\u001b[39mdrop(columns\u001b[38;5;241m=\u001b[39m\u001b[38;5;124m\"\u001b[39m\u001b[38;5;124mprice_aprox_usd\u001b[39m\u001b[38;5;124m\"\u001b[39m)\u001b[38;5;241m.\u001b[39mcorr()\n\u001b[0;32m      9\u001b[0m sns\u001b[38;5;241m.\u001b[39mheatmap(corr)\n",
      "\u001b[1;31mNameError\u001b[0m: name 'df' is not defined"
     ]
    }
   ],
   "source": [
    "\n",
    "#Finally, the last issue we need to keep an eye out for is **multicollinearity**, that is, features in our feature matrix that are highly correlated with each other. \n",
    "#A good way to detect this is to use a heatmap. Let's make one!\n",
    "\n",
    "\n",
    "#we solve the problem of muticollinearty using heat map. multi is not a problem if we are only concern with performance matrics such as MEA  or other matricesbut if we are concer with model interpretability or \n",
    "#explanability it becomes a problem. when model are correlated we dont know if our cofficient  is from this or that or from the correlation of the two, its becomes a problem.\n",
    "\n",
    "corr = df.select_dtypes(\"number\").drop(columns=\"price_aprox_usd\").corr()\n",
    "sns.heatmap(corr)\n",
    "\n",
    "# we have to drop our prce since is our target\n",
    "\n",
    "\n",
    "# we can use this code for check corr = df.select_dtypes(\"number\").drop(columns=\"price_aprox_usd\").corr()"
   ]
  },
  {
   "cell_type": "code",
   "execution_count": 74,
   "id": "552dd825-6f6e-44d6-9997-15990adc0e6d",
   "metadata": {},
   "outputs": [],
   "source": [
    "#\"surface_total_in_m2\",\"rooms\"surface_covered_in_m2 are all correlated but because surface_covered_in_m2 has less missing number we drop the remaing two"
   ]
  },
  {
   "cell_type": "code",
   "execution_count": 75,
   "id": "db307b1b-8562-42fc-8b58-cf7ae8e0ac01",
   "metadata": {},
   "outputs": [
    {
     "data": {
      "text/plain": [
       "(6582,)"
      ]
     },
     "execution_count": 75,
     "metadata": {},
     "output_type": "execute_result"
    }
   ],
   "source": [
    "#train\n",
    "\n",
    "\n",
    "features = [\"surface_covered_in_m2\", \"lat\", \"lon\",\"neighborhood\",]\n",
    "X_train = df[features]\n",
    "X_train.shape\n",
    "\n",
    "\n",
    "\n",
    "\n",
    "target = \"price_aprox_usd\"\n",
    "y_train = df[target]\n",
    "y_train.shape\n"
   ]
  },
  {
   "cell_type": "code",
   "execution_count": 76,
   "id": "9132e112-732d-4a49-97ba-22e58d7cc786",
   "metadata": {},
   "outputs": [
    {
     "name": "stdout",
     "output_type": "stream",
     "text": [
      "Mean apt price: 132383.84\n",
      "Baseline MAE: 44860.10834274133\n"
     ]
    }
   ],
   "source": [
    "#build baseline\n",
    "Task 2.4.12: Create a pipeline named model that contains a OneHotEncoder, SimpleImputer, and Ridge predictor.\n",
    "\n",
    "y_mean= y_train.mean()\n",
    "y_pred_baseline=[y_mean]*len(y_train)\n",
    "print(\"Mean apt price:\", round(y_mean,2))\n",
    "\n",
    "print(\"Baseline MAE:\",mean_absolute_error(y_train, y_pred_baseline))"
   ]
  },
  {
   "cell_type": "code",
   "execution_count": 77,
   "id": "2d8e8acb-305a-4ee3-9a64-6e29ae872c50",
   "metadata": {},
   "outputs": [
    {
     "data": {
      "text/html": [
       "<style>#sk-container-id-1 {color: black;background-color: white;}#sk-container-id-1 pre{padding: 0;}#sk-container-id-1 div.sk-toggleable {background-color: white;}#sk-container-id-1 label.sk-toggleable__label {cursor: pointer;display: block;width: 100%;margin-bottom: 0;padding: 0.3em;box-sizing: border-box;text-align: center;}#sk-container-id-1 label.sk-toggleable__label-arrow:before {content: \"▸\";float: left;margin-right: 0.25em;color: #696969;}#sk-container-id-1 label.sk-toggleable__label-arrow:hover:before {color: black;}#sk-container-id-1 div.sk-estimator:hover label.sk-toggleable__label-arrow:before {color: black;}#sk-container-id-1 div.sk-toggleable__content {max-height: 0;max-width: 0;overflow: hidden;text-align: left;background-color: #f0f8ff;}#sk-container-id-1 div.sk-toggleable__content pre {margin: 0.2em;color: black;border-radius: 0.25em;background-color: #f0f8ff;}#sk-container-id-1 input.sk-toggleable__control:checked~div.sk-toggleable__content {max-height: 200px;max-width: 100%;overflow: auto;}#sk-container-id-1 input.sk-toggleable__control:checked~label.sk-toggleable__label-arrow:before {content: \"▾\";}#sk-container-id-1 div.sk-estimator input.sk-toggleable__control:checked~label.sk-toggleable__label {background-color: #d4ebff;}#sk-container-id-1 div.sk-label input.sk-toggleable__control:checked~label.sk-toggleable__label {background-color: #d4ebff;}#sk-container-id-1 input.sk-hidden--visually {border: 0;clip: rect(1px 1px 1px 1px);clip: rect(1px, 1px, 1px, 1px);height: 1px;margin: -1px;overflow: hidden;padding: 0;position: absolute;width: 1px;}#sk-container-id-1 div.sk-estimator {font-family: monospace;background-color: #f0f8ff;border: 1px dotted black;border-radius: 0.25em;box-sizing: border-box;margin-bottom: 0.5em;}#sk-container-id-1 div.sk-estimator:hover {background-color: #d4ebff;}#sk-container-id-1 div.sk-parallel-item::after {content: \"\";width: 100%;border-bottom: 1px solid gray;flex-grow: 1;}#sk-container-id-1 div.sk-label:hover label.sk-toggleable__label {background-color: #d4ebff;}#sk-container-id-1 div.sk-serial::before {content: \"\";position: absolute;border-left: 1px solid gray;box-sizing: border-box;top: 0;bottom: 0;left: 50%;z-index: 0;}#sk-container-id-1 div.sk-serial {display: flex;flex-direction: column;align-items: center;background-color: white;padding-right: 0.2em;padding-left: 0.2em;position: relative;}#sk-container-id-1 div.sk-item {position: relative;z-index: 1;}#sk-container-id-1 div.sk-parallel {display: flex;align-items: stretch;justify-content: center;background-color: white;position: relative;}#sk-container-id-1 div.sk-item::before, #sk-container-id-1 div.sk-parallel-item::before {content: \"\";position: absolute;border-left: 1px solid gray;box-sizing: border-box;top: 0;bottom: 0;left: 50%;z-index: -1;}#sk-container-id-1 div.sk-parallel-item {display: flex;flex-direction: column;z-index: 1;position: relative;background-color: white;}#sk-container-id-1 div.sk-parallel-item:first-child::after {align-self: flex-end;width: 50%;}#sk-container-id-1 div.sk-parallel-item:last-child::after {align-self: flex-start;width: 50%;}#sk-container-id-1 div.sk-parallel-item:only-child::after {width: 0;}#sk-container-id-1 div.sk-dashed-wrapped {border: 1px dashed gray;margin: 0 0.4em 0.5em 0.4em;box-sizing: border-box;padding-bottom: 0.4em;background-color: white;}#sk-container-id-1 div.sk-label label {font-family: monospace;font-weight: bold;display: inline-block;line-height: 1.2em;}#sk-container-id-1 div.sk-label-container {text-align: center;}#sk-container-id-1 div.sk-container {/* jupyter's `normalize.less` sets `[hidden] { display: none; }` but bootstrap.min.css set `[hidden] { display: none !important; }` so we also need the `!important` here to be able to override the default hidden behavior on the sphinx rendered scikit-learn.org. See: https://github.com/scikit-learn/scikit-learn/issues/21755 */display: inline-block !important;position: relative;}#sk-container-id-1 div.sk-text-repr-fallback {display: none;}</style><div id=\"sk-container-id-1\" class=\"sk-top-container\"><div class=\"sk-text-repr-fallback\"><pre>Pipeline(steps=[(&#x27;onehotencoder&#x27;,\n",
       "                 OneHotEncoder(cols=[&#x27;neighborhood&#x27;], use_cat_names=True)),\n",
       "                (&#x27;simpleimputer&#x27;, SimpleImputer()), (&#x27;ridge&#x27;, Ridge())])</pre><b>In a Jupyter environment, please rerun this cell to show the HTML representation or trust the notebook. <br />On GitHub, the HTML representation is unable to render, please try loading this page with nbviewer.org.</b></div><div class=\"sk-container\" hidden><div class=\"sk-item sk-dashed-wrapped\"><div class=\"sk-label-container\"><div class=\"sk-label sk-toggleable\"><input class=\"sk-toggleable__control sk-hidden--visually\" id=\"sk-estimator-id-1\" type=\"checkbox\" ><label for=\"sk-estimator-id-1\" class=\"sk-toggleable__label sk-toggleable__label-arrow\">Pipeline</label><div class=\"sk-toggleable__content\"><pre>Pipeline(steps=[(&#x27;onehotencoder&#x27;,\n",
       "                 OneHotEncoder(cols=[&#x27;neighborhood&#x27;], use_cat_names=True)),\n",
       "                (&#x27;simpleimputer&#x27;, SimpleImputer()), (&#x27;ridge&#x27;, Ridge())])</pre></div></div></div><div class=\"sk-serial\"><div class=\"sk-item\"><div class=\"sk-estimator sk-toggleable\"><input class=\"sk-toggleable__control sk-hidden--visually\" id=\"sk-estimator-id-2\" type=\"checkbox\" ><label for=\"sk-estimator-id-2\" class=\"sk-toggleable__label sk-toggleable__label-arrow\">OneHotEncoder</label><div class=\"sk-toggleable__content\"><pre>OneHotEncoder(cols=[&#x27;neighborhood&#x27;], use_cat_names=True)</pre></div></div></div><div class=\"sk-item\"><div class=\"sk-estimator sk-toggleable\"><input class=\"sk-toggleable__control sk-hidden--visually\" id=\"sk-estimator-id-3\" type=\"checkbox\" ><label for=\"sk-estimator-id-3\" class=\"sk-toggleable__label sk-toggleable__label-arrow\">SimpleImputer</label><div class=\"sk-toggleable__content\"><pre>SimpleImputer()</pre></div></div></div><div class=\"sk-item\"><div class=\"sk-estimator sk-toggleable\"><input class=\"sk-toggleable__control sk-hidden--visually\" id=\"sk-estimator-id-4\" type=\"checkbox\" ><label for=\"sk-estimator-id-4\" class=\"sk-toggleable__label sk-toggleable__label-arrow\">Ridge</label><div class=\"sk-toggleable__content\"><pre>Ridge()</pre></div></div></div></div></div></div></div>"
      ],
      "text/plain": [
       "Pipeline(steps=[('onehotencoder',\n",
       "                 OneHotEncoder(cols=['neighborhood'], use_cat_names=True)),\n",
       "                ('simpleimputer', SimpleImputer()), ('ridge', Ridge())])"
      ]
     },
     "execution_count": 77,
     "metadata": {},
     "output_type": "execute_result"
    }
   ],
   "source": [
    "#Task 2.4.12: Create a pipeline named model that contains a OneHotEncoder, SimpleImputer, and Ridge predictor\n",
    "\n",
    "\n",
    "model = make_pipeline(\n",
    "      OneHotEncoder(use_cat_names= True),\n",
    "    SimpleImputer(),\n",
    "      Ridge()\n",
    "    \n",
    ")\n",
    "model.fit(X_train, y_train)"
   ]
  },
  {
   "cell_type": "code",
   "execution_count": 78,
   "id": "f095bbab-7137-41f6-8e6a-c4820a1c08c0",
   "metadata": {},
   "outputs": [
    {
     "name": "stdout",
     "output_type": "stream",
     "text": [
      "Training MAE: 24207.10719033024\n"
     ]
    }
   ],
   "source": [
    "y_pred_training= model.predict(X_train)\n",
    "print(\"Training MAE:\", mean_absolute_error(y_train, y_pred_training))"
   ]
  },
  {
   "cell_type": "code",
   "execution_count": 79,
   "id": "dc986e78-70da-469f-8386-1c6f5c9509f5",
   "metadata": {},
   "outputs": [
    {
     "data": {
      "text/plain": [
       "0    231122.403569\n",
       "1    162572.942392\n",
       "2     68477.949626\n",
       "3     63521.438989\n",
       "4    105694.463885\n",
       "dtype: float64"
      ]
     },
     "execution_count": 79,
     "metadata": {},
     "output_type": "execute_result"
    }
   ],
   "source": [
    "# generalized\n",
    "X_test = X_test = pd.read_excel(r\"C:\\Users\\User\\anaconda3\\Lib\\site-packages\\sklearn\\datasets\\data\\mexico folder\\housing-in-buenos-irestestfeautures.xlsx\")[features]\n",
    "y_pred_test = pd.Series(model.predict(X_test))\n",
    "y_pred_test.head()"
   ]
  },
  {
   "cell_type": "code",
   "execution_count": 80,
   "id": "9b82dbd8-4c5a-49c1-a6f0-0c4fde8bd69f",
   "metadata": {},
   "outputs": [],
   "source": [
    "#Task 2.4.15: Create a function make_prediction that takes four arguments (area, lat, lon, and neighborhood) and returns your model's prediction for an apartment price.\n",
    "\n",
    "\n",
    "def make_prediction(area, lat, lon, neighborhood):\n",
    "    data={\"surface_covered_in_m2\": area,\n",
    "          \"lat\": lat,\n",
    "          \"lon\" :lon,\n",
    "          \"neighborhood\":neighborhood\n",
    "    }\n",
    "    df=pd.DataFrame(data, index=[0])\n",
    "    prediction = model.predict(df). round(2)[0]\n",
    "    return f\"Predicted apartment price: ${prediction}\""
   ]
  },
  {
   "cell_type": "code",
   "execution_count": 81,
   "id": "e5e0f098-69f6-474d-ba6b-ec5ccc04b474",
   "metadata": {},
   "outputs": [
    {
     "data": {
      "text/plain": [
       "'Predicted apartment price: $250775.11'"
      ]
     },
     "execution_count": 81,
     "metadata": {},
     "output_type": "execute_result"
    }
   ],
   "source": [
    "make_prediction(110, -34.60, -58.46, \"Villa Crespo\")"
   ]
  },
  {
   "cell_type": "code",
   "execution_count": 83,
   "id": "44c8a2d4-3e44-4bd3-bf8b-44b5e03fd162",
   "metadata": {},
   "outputs": [
    {
     "data": {
      "application/vnd.jupyter.widget-view+json": {
       "model_id": "dfafd56928bc4cbdbf16748bfe92fd36",
       "version_major": 2,
       "version_minor": 0
      },
      "text/plain": [
       "interactive(children=(IntSlider(value=53, description='area', max=101, min=30), FloatSlider(value=-34.59890626…"
      ]
     },
     "metadata": {},
     "output_type": "display_data"
    }
   ],
   "source": [
    "interact(\n",
    "    make_prediction,\n",
    "    area=IntSlider(\n",
    "        min=X_train[\"surface_covered_in_m2\"].min(),\n",
    "        max=X_train[\"surface_covered_in_m2\"].max(),\n",
    "        value=X_train[\"surface_covered_in_m2\"].mean(),\n",
    "    ),\n",
    "    lat=FloatSlider(\n",
    "        min=X_train[\"lat\"].min(),\n",
    "        max=X_train[\"lat\"].max(),\n",
    "        step=0.01,\n",
    "        value=X_train[\"lat\"].mean(),\n",
    "    ),\n",
    "    lon=FloatSlider(\n",
    "        min=X_train[\"lon\"].min(),\n",
    "        max=X_train[\"lon\"].max(),\n",
    "        step=0.01,\n",
    "        value=X_train[\"lon\"].mean(),\n",
    "    ),\n",
    "    neighborhood=Dropdown(options=sorted(X_train[\"neighborhood\"].unique())),\n",
    ");"
   ]
  },
  {
   "cell_type": "code",
   "execution_count": null,
   "id": "ed85f8ee-6501-4659-b37a-6c63b3331a3a",
   "metadata": {},
   "outputs": [],
   "source": []
  }
 ],
 "metadata": {
  "kernelspec": {
   "display_name": "Python 3 (ipykernel)",
   "language": "python",
   "name": "python3"
  },
  "language_info": {
   "codemirror_mode": {
    "name": "ipython",
    "version": 3
   },
   "file_extension": ".py",
   "mimetype": "text/x-python",
   "name": "python",
   "nbconvert_exporter": "python",
   "pygments_lexer": "ipython3",
   "version": "3.10.9"
  }
 },
 "nbformat": 4,
 "nbformat_minor": 5
}
