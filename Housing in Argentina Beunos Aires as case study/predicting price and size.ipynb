{
 "cells": [
  {
   "cell_type": "code",
   "execution_count": 23,
   "id": "cfffe038-897e-40ee-ba6e-21aeed70be26",
   "metadata": {},
   "outputs": [],
   "source": [
    "# price and size\n",
    "\n",
    "\n",
    "import warnings\n",
    "\n",
    "import matplotlib.pyplot as plt\n",
    "import pandas as pd\n",
    "from sklearn.linear_model import LinearRegression\n",
    "from sklearn.metrics import mean_absolute_error\n",
    "from sklearn.utils.validation import check_is_fitted\n",
    "\n",
    "warnings.simplefilter(action=\"ignore\", category=FutureWarning)"
   ]
  },
  {
   "cell_type": "code",
   "execution_count": 2,
   "id": "2b97f235-d680-46da-b602-6d1d918ec2b3",
   "metadata": {},
   "outputs": [],
   "source": [
    "#In the previous project, we cleaned our data files one-by-one. \n",
    "#This isn't an issue when you're working with just three files, \n",
    "#but imagine if you had several hundred! One way to automate the data importing and cleaning process is by writing a **function**. \n",
    "#This will make sure that all our data undergoes the same process, \n",
    "#and that our analysis is easily reproducible — something that's very important in science in general and data science in particular. "
   ]
  },
  {
   "cell_type": "code",
   "execution_count": 9,
   "id": "cd498c29-6bdb-43fa-9335-f8c24f21524c",
   "metadata": {},
   "outputs": [],
   "source": [
    "#Write a function named wrangle that takes a file path as an argument and returns a DataFrame."
   ]
  },
  {
   "cell_type": "code",
   "execution_count": null,
   "id": "c8836255-c2a2-4a6e-bbec-3f1bc820be57",
   "metadata": {},
   "outputs": [],
   "source": [
    "#For this project, we want to build a model for apartments in Buenos Aires proper (\"Capital Federal\") that cost less than $400,000. \n",
    "#Looking at the first five rows of our DataFrame, we can already see that there properties that fall outside those parameters. \n",
    "#So our first cleaning task is to remove those observations from our dataset.\n",
    "#Since we're using a function to import and clean our data, we'll need to make changes there."
   ]
  },
  {
   "cell_type": "code",
   "execution_count": 24,
   "id": "b338255d-c702-4cfd-9a45-1c6c9bd7a558",
   "metadata": {},
   "outputs": [],
   "source": [
    "def wrangle(filepath):\n",
    "           df=pd.read_excel(filepath)\n",
    "           return df"
   ]
  },
  {
   "cell_type": "code",
   "execution_count": 25,
   "id": "c9d2b1ed-faad-4e27-9234-e21254b72271",
   "metadata": {},
   "outputs": [
    {
     "data": {
      "text/html": [
       "<div>\n",
       "<style scoped>\n",
       "    .dataframe tbody tr th:only-of-type {\n",
       "        vertical-align: middle;\n",
       "    }\n",
       "\n",
       "    .dataframe tbody tr th {\n",
       "        vertical-align: top;\n",
       "    }\n",
       "\n",
       "    .dataframe thead th {\n",
       "        text-align: right;\n",
       "    }\n",
       "</style>\n",
       "<table border=\"1\" class=\"dataframe\">\n",
       "  <thead>\n",
       "    <tr style=\"text-align: right;\">\n",
       "      <th></th>\n",
       "      <th>z</th>\n",
       "      <th>operation</th>\n",
       "      <th>property_type</th>\n",
       "      <th>place_with_parent_names</th>\n",
       "      <th>lat-lon</th>\n",
       "      <th>price</th>\n",
       "      <th>currency</th>\n",
       "      <th>price_aprox_local_currency</th>\n",
       "      <th>price_aprox_usd</th>\n",
       "      <th>surface_total_in_m2</th>\n",
       "      <th>surface_covered_in_m2</th>\n",
       "      <th>price_usd_per_m2</th>\n",
       "      <th>price_per_m2</th>\n",
       "      <th>floor</th>\n",
       "      <th>rooms</th>\n",
       "      <th>expenses</th>\n",
       "      <th>properati_url</th>\n",
       "    </tr>\n",
       "  </thead>\n",
       "  <tbody>\n",
       "    <tr>\n",
       "      <th>4</th>\n",
       "      <td>NaN</td>\n",
       "      <td>sell</td>\n",
       "      <td>apartment</td>\n",
       "      <td>|Argentina|Capital Federal|Chacarita|</td>\n",
       "      <td>-34.5846508988,-58.4546932614</td>\n",
       "      <td>129000.0</td>\n",
       "      <td>USD</td>\n",
       "      <td>1955949.6</td>\n",
       "      <td>129000.0</td>\n",
       "      <td>76.0</td>\n",
       "      <td>70.0</td>\n",
       "      <td>1697.368421</td>\n",
       "      <td>1842.857143</td>\n",
       "      <td>NaN</td>\n",
       "      <td>NaN</td>\n",
       "      <td>NaN</td>\n",
       "      <td>http://chacarita.properati.com.ar/10qlv_venta_...</td>\n",
       "    </tr>\n",
       "    <tr>\n",
       "      <th>9</th>\n",
       "      <td>NaN</td>\n",
       "      <td>sell</td>\n",
       "      <td>apartment</td>\n",
       "      <td>|Argentina|Capital Federal|Villa Luro|</td>\n",
       "      <td>-34.6389789,-58.500115</td>\n",
       "      <td>87000.0</td>\n",
       "      <td>USD</td>\n",
       "      <td>1319128.8</td>\n",
       "      <td>87000.0</td>\n",
       "      <td>48.0</td>\n",
       "      <td>42.0</td>\n",
       "      <td>1812.500000</td>\n",
       "      <td>2071.428571</td>\n",
       "      <td>NaN</td>\n",
       "      <td>NaN</td>\n",
       "      <td>NaN</td>\n",
       "      <td>http://villa-luro.properati.com.ar/12m82_venta...</td>\n",
       "    </tr>\n",
       "    <tr>\n",
       "      <th>29</th>\n",
       "      <td>NaN</td>\n",
       "      <td>sell</td>\n",
       "      <td>apartment</td>\n",
       "      <td>|Argentina|Capital Federal|Caballito|</td>\n",
       "      <td>-34.615847,-58.459957</td>\n",
       "      <td>118000.0</td>\n",
       "      <td>USD</td>\n",
       "      <td>1789163.2</td>\n",
       "      <td>118000.0</td>\n",
       "      <td>NaN</td>\n",
       "      <td>54.0</td>\n",
       "      <td>NaN</td>\n",
       "      <td>2185.185185</td>\n",
       "      <td>NaN</td>\n",
       "      <td>2.0</td>\n",
       "      <td>NaN</td>\n",
       "      <td>http://caballito.properati.com.ar/11wqh_venta_...</td>\n",
       "    </tr>\n",
       "    <tr>\n",
       "      <th>40</th>\n",
       "      <td>NaN</td>\n",
       "      <td>sell</td>\n",
       "      <td>apartment</td>\n",
       "      <td>|Argentina|Capital Federal|Constitución|</td>\n",
       "      <td>-34.6252219,-58.3823825</td>\n",
       "      <td>57000.0</td>\n",
       "      <td>USD</td>\n",
       "      <td>864256.8</td>\n",
       "      <td>57000.0</td>\n",
       "      <td>42.0</td>\n",
       "      <td>42.0</td>\n",
       "      <td>1357.142857</td>\n",
       "      <td>1357.142857</td>\n",
       "      <td>5.0</td>\n",
       "      <td>2.0</td>\n",
       "      <td>364.0</td>\n",
       "      <td>http://constitucion.properati.com.ar/k2f0_vent...</td>\n",
       "    </tr>\n",
       "    <tr>\n",
       "      <th>41</th>\n",
       "      <td>NaN</td>\n",
       "      <td>sell</td>\n",
       "      <td>apartment</td>\n",
       "      <td>|Argentina|Capital Federal|Once|</td>\n",
       "      <td>-34.6106102,-58.4125107</td>\n",
       "      <td>90000.0</td>\n",
       "      <td>USD</td>\n",
       "      <td>1364616.0</td>\n",
       "      <td>90000.0</td>\n",
       "      <td>57.0</td>\n",
       "      <td>50.0</td>\n",
       "      <td>1578.947368</td>\n",
       "      <td>1800.000000</td>\n",
       "      <td>NaN</td>\n",
       "      <td>3.0</td>\n",
       "      <td>450.0</td>\n",
       "      <td>http://once.properati.com.ar/suwa_venta_depart...</td>\n",
       "    </tr>\n",
       "    <tr>\n",
       "      <th>48</th>\n",
       "      <td>NaN</td>\n",
       "      <td>sell</td>\n",
       "      <td>apartment</td>\n",
       "      <td>|Argentina|Capital Federal|Almagro|</td>\n",
       "      <td>-34.6038236,-58.4272911</td>\n",
       "      <td>138000.0</td>\n",
       "      <td>USD</td>\n",
       "      <td>2092411.2</td>\n",
       "      <td>138000.0</td>\n",
       "      <td>74.0</td>\n",
       "      <td>74.0</td>\n",
       "      <td>1864.864865</td>\n",
       "      <td>1864.864865</td>\n",
       "      <td>1.0</td>\n",
       "      <td>3.0</td>\n",
       "      <td>300.0</td>\n",
       "      <td>http://almagro.properati.com.ar/11w6t_venta_de...</td>\n",
       "    </tr>\n",
       "    <tr>\n",
       "      <th>58</th>\n",
       "      <td>NaN</td>\n",
       "      <td>sell</td>\n",
       "      <td>apartment</td>\n",
       "      <td>|Argentina|Capital Federal|Palermo|</td>\n",
       "      <td>-34.586103,-58.423963</td>\n",
       "      <td>114000.0</td>\n",
       "      <td>USD</td>\n",
       "      <td>1728513.6</td>\n",
       "      <td>114000.0</td>\n",
       "      <td>NaN</td>\n",
       "      <td>32.0</td>\n",
       "      <td>NaN</td>\n",
       "      <td>3562.500000</td>\n",
       "      <td>NaN</td>\n",
       "      <td>2.0</td>\n",
       "      <td>NaN</td>\n",
       "      <td>http://palermo.properati.com.ar/11vtx_venta_de...</td>\n",
       "    </tr>\n",
       "    <tr>\n",
       "      <th>62</th>\n",
       "      <td>NaN</td>\n",
       "      <td>sell</td>\n",
       "      <td>apartment</td>\n",
       "      <td>|Argentina|Capital Federal|Flores|</td>\n",
       "      <td>-34.6265182557,-58.4724630529</td>\n",
       "      <td>82000.0</td>\n",
       "      <td>USD</td>\n",
       "      <td>1243316.8</td>\n",
       "      <td>82000.0</td>\n",
       "      <td>50.0</td>\n",
       "      <td>50.0</td>\n",
       "      <td>1640.000000</td>\n",
       "      <td>1640.000000</td>\n",
       "      <td>NaN</td>\n",
       "      <td>2.0</td>\n",
       "      <td>NaN</td>\n",
       "      <td>http://flores.properati.com.ar/12w4k_venta_dep...</td>\n",
       "    </tr>\n",
       "    <tr>\n",
       "      <th>70</th>\n",
       "      <td>NaN</td>\n",
       "      <td>sell</td>\n",
       "      <td>apartment</td>\n",
       "      <td>|Argentina|Capital Federal|Belgrano|</td>\n",
       "      <td>-34.5620844,-58.4566864</td>\n",
       "      <td>166000.0</td>\n",
       "      <td>USD</td>\n",
       "      <td>2516958.4</td>\n",
       "      <td>166000.0</td>\n",
       "      <td>58.0</td>\n",
       "      <td>52.0</td>\n",
       "      <td>2862.068966</td>\n",
       "      <td>3192.307692</td>\n",
       "      <td>NaN</td>\n",
       "      <td>2.0</td>\n",
       "      <td>NaN</td>\n",
       "      <td>http://belgrano.properati.com.ar/12tu6_venta_d...</td>\n",
       "    </tr>\n",
       "    <tr>\n",
       "      <th>72</th>\n",
       "      <td>NaN</td>\n",
       "      <td>sell</td>\n",
       "      <td>apartment</td>\n",
       "      <td>|Argentina|Capital Federal|Liniers|</td>\n",
       "      <td>-34.648143,-58.524277</td>\n",
       "      <td>136500.0</td>\n",
       "      <td>USD</td>\n",
       "      <td>2069667.6</td>\n",
       "      <td>136500.0</td>\n",
       "      <td>NaN</td>\n",
       "      <td>71.0</td>\n",
       "      <td>NaN</td>\n",
       "      <td>1922.535211</td>\n",
       "      <td>NaN</td>\n",
       "      <td>3.0</td>\n",
       "      <td>NaN</td>\n",
       "      <td>http://liniers.properati.com.ar/11xwz_venta_de...</td>\n",
       "    </tr>\n",
       "    <tr>\n",
       "      <th>79</th>\n",
       "      <td>NaN</td>\n",
       "      <td>sell</td>\n",
       "      <td>apartment</td>\n",
       "      <td>|Argentina|Capital Federal|Villa Crespo|</td>\n",
       "      <td>-34.596715,-58.444045</td>\n",
       "      <td>75000.0</td>\n",
       "      <td>USD</td>\n",
       "      <td>1137180.0</td>\n",
       "      <td>75000.0</td>\n",
       "      <td>40.0</td>\n",
       "      <td>36.0</td>\n",
       "      <td>1875.000000</td>\n",
       "      <td>2083.333333</td>\n",
       "      <td>NaN</td>\n",
       "      <td>2.0</td>\n",
       "      <td>NaN</td>\n",
       "      <td>http://villa-crespo.properati.com.ar/10auc_ven...</td>\n",
       "    </tr>\n",
       "    <tr>\n",
       "      <th>88</th>\n",
       "      <td>NaN</td>\n",
       "      <td>sell</td>\n",
       "      <td>apartment</td>\n",
       "      <td>|Argentina|Capital Federal|Villa Crespo|</td>\n",
       "      <td>-34.599722,-58.430668</td>\n",
       "      <td>68000.0</td>\n",
       "      <td>USD</td>\n",
       "      <td>1031043.2</td>\n",
       "      <td>68000.0</td>\n",
       "      <td>NaN</td>\n",
       "      <td>37.0</td>\n",
       "      <td>NaN</td>\n",
       "      <td>1837.837838</td>\n",
       "      <td>NaN</td>\n",
       "      <td>2.0</td>\n",
       "      <td>NaN</td>\n",
       "      <td>http://villa-crespo.properati.com.ar/yzjo_vent...</td>\n",
       "    </tr>\n",
       "    <tr>\n",
       "      <th>104</th>\n",
       "      <td>NaN</td>\n",
       "      <td>sell</td>\n",
       "      <td>apartment</td>\n",
       "      <td>|Argentina|Capital Federal|San Cristobal|</td>\n",
       "      <td>-34.616182,-58.3926968</td>\n",
       "      <td>80000.0</td>\n",
       "      <td>USD</td>\n",
       "      <td>1212992.0</td>\n",
       "      <td>80000.0</td>\n",
       "      <td>55.0</td>\n",
       "      <td>55.0</td>\n",
       "      <td>1454.545455</td>\n",
       "      <td>1454.545455</td>\n",
       "      <td>NaN</td>\n",
       "      <td>3.0</td>\n",
       "      <td>NaN</td>\n",
       "      <td>http://san-cristobal.properati.com.ar/11de1_ve...</td>\n",
       "    </tr>\n",
       "    <tr>\n",
       "      <th>131</th>\n",
       "      <td>NaN</td>\n",
       "      <td>sell</td>\n",
       "      <td>apartment</td>\n",
       "      <td>|Argentina|Capital Federal|Almagro|</td>\n",
       "      <td>-34.6034659,-58.4159718</td>\n",
       "      <td>125000.0</td>\n",
       "      <td>USD</td>\n",
       "      <td>1895300.0</td>\n",
       "      <td>125000.0</td>\n",
       "      <td>74.0</td>\n",
       "      <td>74.0</td>\n",
       "      <td>1689.189189</td>\n",
       "      <td>1689.189189</td>\n",
       "      <td>NaN</td>\n",
       "      <td>4.0</td>\n",
       "      <td>NaN</td>\n",
       "      <td>http://almagro.properati.com.ar/10b76_venta_de...</td>\n",
       "    </tr>\n",
       "    <tr>\n",
       "      <th>140</th>\n",
       "      <td>NaN</td>\n",
       "      <td>sell</td>\n",
       "      <td>apartment</td>\n",
       "      <td>|Argentina|Capital Federal|Congreso|</td>\n",
       "      <td>-34.6136992,-58.3897597</td>\n",
       "      <td>120000.0</td>\n",
       "      <td>USD</td>\n",
       "      <td>1819488.0</td>\n",
       "      <td>120000.0</td>\n",
       "      <td>74.0</td>\n",
       "      <td>60.0</td>\n",
       "      <td>1621.621622</td>\n",
       "      <td>2000.000000</td>\n",
       "      <td>12.0</td>\n",
       "      <td>2.0</td>\n",
       "      <td>850.0</td>\n",
       "      <td>http://congreso.properati.com.ar/y2s7_venta_de...</td>\n",
       "    </tr>\n",
       "    <tr>\n",
       "      <th>142</th>\n",
       "      <td>NaN</td>\n",
       "      <td>sell</td>\n",
       "      <td>apartment</td>\n",
       "      <td>|Argentina|Capital Federal|Saavedra|</td>\n",
       "      <td>-34.5475074,-58.4842066</td>\n",
       "      <td>145000.0</td>\n",
       "      <td>USD</td>\n",
       "      <td>2198548.0</td>\n",
       "      <td>145000.0</td>\n",
       "      <td>68.0</td>\n",
       "      <td>52.0</td>\n",
       "      <td>2132.352941</td>\n",
       "      <td>2788.461538</td>\n",
       "      <td>NaN</td>\n",
       "      <td>2.0</td>\n",
       "      <td>NaN</td>\n",
       "      <td>http://saavedra.properati.com.ar/102lz_venta_d...</td>\n",
       "    </tr>\n",
       "    <tr>\n",
       "      <th>149</th>\n",
       "      <td>NaN</td>\n",
       "      <td>sell</td>\n",
       "      <td>apartment</td>\n",
       "      <td>|Argentina|Capital Federal|Balvanera|</td>\n",
       "      <td>-34.6087015,-58.4039197</td>\n",
       "      <td>95000.0</td>\n",
       "      <td>USD</td>\n",
       "      <td>1440428.0</td>\n",
       "      <td>95000.0</td>\n",
       "      <td>57.0</td>\n",
       "      <td>57.0</td>\n",
       "      <td>1666.666667</td>\n",
       "      <td>1666.666667</td>\n",
       "      <td>NaN</td>\n",
       "      <td>2.0</td>\n",
       "      <td>1230.0</td>\n",
       "      <td>http://balvanera.properati.com.ar/1049g_venta_...</td>\n",
       "    </tr>\n",
       "    <tr>\n",
       "      <th>170</th>\n",
       "      <td>NaN</td>\n",
       "      <td>sell</td>\n",
       "      <td>apartment</td>\n",
       "      <td>|Argentina|Capital Federal|Villa Crespo|</td>\n",
       "      <td>-34.5975665,-58.4410115</td>\n",
       "      <td>155000.0</td>\n",
       "      <td>USD</td>\n",
       "      <td>2350172.0</td>\n",
       "      <td>155000.0</td>\n",
       "      <td>190.0</td>\n",
       "      <td>55.0</td>\n",
       "      <td>815.789474</td>\n",
       "      <td>2818.181818</td>\n",
       "      <td>NaN</td>\n",
       "      <td>2.0</td>\n",
       "      <td>NaN</td>\n",
       "      <td>http://villa-crespo.properati.com.ar/10b1o_ven...</td>\n",
       "    </tr>\n",
       "    <tr>\n",
       "      <th>176</th>\n",
       "      <td>NaN</td>\n",
       "      <td>sell</td>\n",
       "      <td>apartment</td>\n",
       "      <td>|Argentina|Capital Federal|Belgrano|</td>\n",
       "      <td>-34.5670929999,-58.4470949374</td>\n",
       "      <td>300000.0</td>\n",
       "      <td>USD</td>\n",
       "      <td>4548720.0</td>\n",
       "      <td>300000.0</td>\n",
       "      <td>95.0</td>\n",
       "      <td>90.0</td>\n",
       "      <td>3157.894737</td>\n",
       "      <td>3333.333333</td>\n",
       "      <td>NaN</td>\n",
       "      <td>NaN</td>\n",
       "      <td>NaN</td>\n",
       "      <td>http://belgrano.properati.com.ar/10k1c_venta_d...</td>\n",
       "    </tr>\n",
       "    <tr>\n",
       "      <th>178</th>\n",
       "      <td>NaN</td>\n",
       "      <td>sell</td>\n",
       "      <td>apartment</td>\n",
       "      <td>|Argentina|Capital Federal|Parque Avellaneda|</td>\n",
       "      <td>-34.645401,-58.4931185</td>\n",
       "      <td>95000.0</td>\n",
       "      <td>USD</td>\n",
       "      <td>1440428.0</td>\n",
       "      <td>95000.0</td>\n",
       "      <td>44.0</td>\n",
       "      <td>44.0</td>\n",
       "      <td>2159.090909</td>\n",
       "      <td>2159.090909</td>\n",
       "      <td>NaN</td>\n",
       "      <td>2.0</td>\n",
       "      <td>NaN</td>\n",
       "      <td>http://parque-avellaneda.properati.com.ar/oda7...</td>\n",
       "    </tr>\n",
       "  </tbody>\n",
       "</table>\n",
       "</div>"
      ],
      "text/plain": [
       "      z operation property_type  \\\n",
       "4   NaN      sell     apartment   \n",
       "9   NaN      sell     apartment   \n",
       "29  NaN      sell     apartment   \n",
       "40  NaN      sell     apartment   \n",
       "41  NaN      sell     apartment   \n",
       "48  NaN      sell     apartment   \n",
       "58  NaN      sell     apartment   \n",
       "62  NaN      sell     apartment   \n",
       "70  NaN      sell     apartment   \n",
       "72  NaN      sell     apartment   \n",
       "79  NaN      sell     apartment   \n",
       "88  NaN      sell     apartment   \n",
       "104 NaN      sell     apartment   \n",
       "131 NaN      sell     apartment   \n",
       "140 NaN      sell     apartment   \n",
       "142 NaN      sell     apartment   \n",
       "149 NaN      sell     apartment   \n",
       "170 NaN      sell     apartment   \n",
       "176 NaN      sell     apartment   \n",
       "178 NaN      sell     apartment   \n",
       "\n",
       "                           place_with_parent_names  \\\n",
       "4            |Argentina|Capital Federal|Chacarita|   \n",
       "9           |Argentina|Capital Federal|Villa Luro|   \n",
       "29           |Argentina|Capital Federal|Caballito|   \n",
       "40        |Argentina|Capital Federal|Constitución|   \n",
       "41                |Argentina|Capital Federal|Once|   \n",
       "48             |Argentina|Capital Federal|Almagro|   \n",
       "58             |Argentina|Capital Federal|Palermo|   \n",
       "62              |Argentina|Capital Federal|Flores|   \n",
       "70            |Argentina|Capital Federal|Belgrano|   \n",
       "72             |Argentina|Capital Federal|Liniers|   \n",
       "79        |Argentina|Capital Federal|Villa Crespo|   \n",
       "88        |Argentina|Capital Federal|Villa Crespo|   \n",
       "104      |Argentina|Capital Federal|San Cristobal|   \n",
       "131            |Argentina|Capital Federal|Almagro|   \n",
       "140           |Argentina|Capital Federal|Congreso|   \n",
       "142           |Argentina|Capital Federal|Saavedra|   \n",
       "149          |Argentina|Capital Federal|Balvanera|   \n",
       "170       |Argentina|Capital Federal|Villa Crespo|   \n",
       "176           |Argentina|Capital Federal|Belgrano|   \n",
       "178  |Argentina|Capital Federal|Parque Avellaneda|   \n",
       "\n",
       "                           lat-lon     price currency  \\\n",
       "4    -34.5846508988,-58.4546932614  129000.0      USD   \n",
       "9           -34.6389789,-58.500115   87000.0      USD   \n",
       "29           -34.615847,-58.459957  118000.0      USD   \n",
       "40         -34.6252219,-58.3823825   57000.0      USD   \n",
       "41         -34.6106102,-58.4125107   90000.0      USD   \n",
       "48         -34.6038236,-58.4272911  138000.0      USD   \n",
       "58           -34.586103,-58.423963  114000.0      USD   \n",
       "62   -34.6265182557,-58.4724630529   82000.0      USD   \n",
       "70         -34.5620844,-58.4566864  166000.0      USD   \n",
       "72           -34.648143,-58.524277  136500.0      USD   \n",
       "79           -34.596715,-58.444045   75000.0      USD   \n",
       "88           -34.599722,-58.430668   68000.0      USD   \n",
       "104         -34.616182,-58.3926968   80000.0      USD   \n",
       "131        -34.6034659,-58.4159718  125000.0      USD   \n",
       "140        -34.6136992,-58.3897597  120000.0      USD   \n",
       "142        -34.5475074,-58.4842066  145000.0      USD   \n",
       "149        -34.6087015,-58.4039197   95000.0      USD   \n",
       "170        -34.5975665,-58.4410115  155000.0      USD   \n",
       "176  -34.5670929999,-58.4470949374  300000.0      USD   \n",
       "178         -34.645401,-58.4931185   95000.0      USD   \n",
       "\n",
       "     price_aprox_local_currency  price_aprox_usd  surface_total_in_m2  \\\n",
       "4                     1955949.6         129000.0                 76.0   \n",
       "9                     1319128.8          87000.0                 48.0   \n",
       "29                    1789163.2         118000.0                  NaN   \n",
       "40                     864256.8          57000.0                 42.0   \n",
       "41                    1364616.0          90000.0                 57.0   \n",
       "48                    2092411.2         138000.0                 74.0   \n",
       "58                    1728513.6         114000.0                  NaN   \n",
       "62                    1243316.8          82000.0                 50.0   \n",
       "70                    2516958.4         166000.0                 58.0   \n",
       "72                    2069667.6         136500.0                  NaN   \n",
       "79                    1137180.0          75000.0                 40.0   \n",
       "88                    1031043.2          68000.0                  NaN   \n",
       "104                   1212992.0          80000.0                 55.0   \n",
       "131                   1895300.0         125000.0                 74.0   \n",
       "140                   1819488.0         120000.0                 74.0   \n",
       "142                   2198548.0         145000.0                 68.0   \n",
       "149                   1440428.0          95000.0                 57.0   \n",
       "170                   2350172.0         155000.0                190.0   \n",
       "176                   4548720.0         300000.0                 95.0   \n",
       "178                   1440428.0          95000.0                 44.0   \n",
       "\n",
       "     surface_covered_in_m2  price_usd_per_m2  price_per_m2  floor  rooms  \\\n",
       "4                     70.0       1697.368421   1842.857143    NaN    NaN   \n",
       "9                     42.0       1812.500000   2071.428571    NaN    NaN   \n",
       "29                    54.0               NaN   2185.185185    NaN    2.0   \n",
       "40                    42.0       1357.142857   1357.142857    5.0    2.0   \n",
       "41                    50.0       1578.947368   1800.000000    NaN    3.0   \n",
       "48                    74.0       1864.864865   1864.864865    1.0    3.0   \n",
       "58                    32.0               NaN   3562.500000    NaN    2.0   \n",
       "62                    50.0       1640.000000   1640.000000    NaN    2.0   \n",
       "70                    52.0       2862.068966   3192.307692    NaN    2.0   \n",
       "72                    71.0               NaN   1922.535211    NaN    3.0   \n",
       "79                    36.0       1875.000000   2083.333333    NaN    2.0   \n",
       "88                    37.0               NaN   1837.837838    NaN    2.0   \n",
       "104                   55.0       1454.545455   1454.545455    NaN    3.0   \n",
       "131                   74.0       1689.189189   1689.189189    NaN    4.0   \n",
       "140                   60.0       1621.621622   2000.000000   12.0    2.0   \n",
       "142                   52.0       2132.352941   2788.461538    NaN    2.0   \n",
       "149                   57.0       1666.666667   1666.666667    NaN    2.0   \n",
       "170                   55.0        815.789474   2818.181818    NaN    2.0   \n",
       "176                   90.0       3157.894737   3333.333333    NaN    NaN   \n",
       "178                   44.0       2159.090909   2159.090909    NaN    2.0   \n",
       "\n",
       "     expenses                                      properati_url  \n",
       "4         NaN  http://chacarita.properati.com.ar/10qlv_venta_...  \n",
       "9         NaN  http://villa-luro.properati.com.ar/12m82_venta...  \n",
       "29        NaN  http://caballito.properati.com.ar/11wqh_venta_...  \n",
       "40      364.0  http://constitucion.properati.com.ar/k2f0_vent...  \n",
       "41      450.0  http://once.properati.com.ar/suwa_venta_depart...  \n",
       "48      300.0  http://almagro.properati.com.ar/11w6t_venta_de...  \n",
       "58        NaN  http://palermo.properati.com.ar/11vtx_venta_de...  \n",
       "62        NaN  http://flores.properati.com.ar/12w4k_venta_dep...  \n",
       "70        NaN  http://belgrano.properati.com.ar/12tu6_venta_d...  \n",
       "72        NaN  http://liniers.properati.com.ar/11xwz_venta_de...  \n",
       "79        NaN  http://villa-crespo.properati.com.ar/10auc_ven...  \n",
       "88        NaN  http://villa-crespo.properati.com.ar/yzjo_vent...  \n",
       "104       NaN  http://san-cristobal.properati.com.ar/11de1_ve...  \n",
       "131       NaN  http://almagro.properati.com.ar/10b76_venta_de...  \n",
       "140     850.0  http://congreso.properati.com.ar/y2s7_venta_de...  \n",
       "142       NaN  http://saavedra.properati.com.ar/102lz_venta_d...  \n",
       "149    1230.0  http://balvanera.properati.com.ar/1049g_venta_...  \n",
       "170       NaN  http://villa-crespo.properati.com.ar/10b1o_ven...  \n",
       "176       NaN  http://belgrano.properati.com.ar/10k1c_venta_d...  \n",
       "178       NaN  http://parque-avellaneda.properati.com.ar/oda7...  "
      ]
     },
     "execution_count": 25,
     "metadata": {},
     "output_type": "execute_result"
    }
   ],
   "source": [
    "df = wrangle(r\"C:\\Users\\User\\anaconda3\\Lib\\site-packages\\sklearn\\datasets\\data\\mexico folder\\housing-in-buenos-aires1.xlsx\")\n",
    "mask_ba= df[\"place_with_parent_names\"].str.contains(\"Capital Federal\")\n",
    "mask_apt= df[\"property_type\"]==\"apartment\"\n",
    "mask_price=df[\"price_aprox_usd\"]<400_000\n",
    "df=df[mask_ba & mask_apt & mask_price]\n",
    "low,high=df[\"surface_covered_in_m2\"].quantile([0.1, 0.9])\n",
    "mask_area=df[\"surface_covered_in_m2\"].between(low,high)\n",
    "df=df[mask_area]   \n",
    "df.head(20)"
   ]
  },
  {
   "cell_type": "code",
   "execution_count": 45,
   "id": "8dfa07cf-be77-486d-a788-29265383de3b",
   "metadata": {},
   "outputs": [
    {
     "data": {
      "image/png": "[encoded data removed]",
      "text/plain": [
       "<Figure size 640x480 with 1 Axes>"
      ]
     },
     "metadata": {},
     "output_type": "display_data"
    }
   ],
   "source": [
    "#since we are looking at area and price. we want to look at how distributed the arae is\n",
    "#ikes! When you see a histogram like the one below, \n",
    "#it suggests that there are outliers in your dataset. \n",
    "#This can affect model performance — especially in the sorts of linear models we'll learn about in this project. \n",
    "#To confirm, let's look at the summary statistics for the \"surface_covered_in_m2\" feature.\n",
    "\n",
    "#EXPLORE\n",
    "\n",
    "plt.hist(df[\"surface_covered_in_m2\"])\n",
    "plt.xlabel(\"Area [sq meters]\")\n",
    "plt.title(\"Distribution of Apartment Sizes\");"
   ]
  },
  {
   "cell_type": "code",
   "execution_count": 41,
   "id": "f20f7954-50c2-4af7-9e4f-d941c2a29329",
   "metadata": {},
   "outputs": [
    {
     "data": {
      "text/plain": [
       "count     1635.000000\n",
       "mean        97.877064\n",
       "std       1533.057610\n",
       "min          0.000000\n",
       "25%         38.000000\n",
       "50%         50.000000\n",
       "75%         73.000000\n",
       "max      62034.000000\n",
       "Name: surface_covered_in_m2, dtype: float64"
      ]
     },
     "execution_count": 41,
     "metadata": {},
     "output_type": "execute_result"
    }
   ],
   "source": [
    "df.describe()[\"surface_covered_in_m2\"]"
   ]
  },
  {
   "cell_type": "code",
   "execution_count": 2,
   "id": "0a855b82-5cf4-4f99-b646-45abf47adccb",
   "metadata": {},
   "outputs": [],
   "source": [
    "#Add to your wrangle function so that it removes observations that are outliers in the \"surface_covered_in_m2\" column.\n",
    "#Specifically, all observations should fall between the 0.1 and 0.9 quantiles for \"surface_covered_in_m2\". WE CHOOSE A QUARNTILE BETWEEN 10 AND 90\n",
    "#WE WANT TO ELIMINATE TOP 10 PERCENT AND 10 BOTTOM PERCENT\n",
    "#after i did that it changes.\n",
    "\n",
    "#OUR DATA IS SKEWEED( SPREAD)\n",
    "#LOOK AT THE DIFFERNCE BETWEEN MEAN AND MEDIAN\n",
    "#LOOK AT THE DIFFERENCE BETWEEN MIN AAND MAX\n",
    "#OUR MEAN IS AROUND 100 AND THE STANDARD DEVIATION(SPREAD AROUND THE 100 IS ABOUT 1533.057610)"
   ]
  },
  {
   "cell_type": "code",
   "execution_count": 47,
   "id": "98a6d0ca-e55d-4cb5-ab59-0ac0e8192408",
   "metadata": {},
   "outputs": [
    {
     "data": {
      "image/png": "[encoded data removed]",
      "text/plain": [
       "<Figure size 640x480 with 1 Axes>"
      ]
     },
     "metadata": {},
     "output_type": "display_data"
    }
   ],
   "source": [
    "plt.scatter(x=df[\"surface_covered_in_m2\"],y=df[\"price_aprox_usd\"])\n",
    "plt.xlabel(\"Area[sq meters]\")\n",
    "plt.ylabel(\"price[USD]\")\n",
    "plt.title(\"Buenos Aires: price vs. Area\");"
   ]
  },
  {
   "cell_type": "code",
   "execution_count": 48,
   "id": "31d20de7-cd93-4c9e-b271-2af1686a7dc2",
   "metadata": {},
   "outputs": [],
   "source": [
    "#This plot suggests that there's a moderate positive correlation between apartment price and size. \n",
    "#This means that if thing we want to predict is price, size will be a good feature to include."
   ]
  },
  {
   "cell_type": "code",
   "execution_count": 49,
   "id": "84962d39-24e5-4833-863c-d65802f65cec",
   "metadata": {},
   "outputs": [],
   "source": [
    "#Split\n",
    "#A key part in any model-building project is separating your target (the thing you want to predict) from your features \n",
    "#(the information your model will use to make its predictions). \n",
    "#Since this is our first model, we'll use just one feature: apartment size.\n",
    "\n",
    "\n",
    "\n",
    "#create the feature matrix named X_train, which you'll use to train your model.\n",
    "#It should contain one feature only: [\"surface_covered_in_m2\"]. Remember that your feature matrix should always be two-dimensional."
   ]
  },
  {
   "cell_type": "code",
   "execution_count": 26,
   "id": "e547db8a-da1e-4470-a04b-12793e884ee2",
   "metadata": {},
   "outputs": [
    {
     "data": {
      "text/html": [
       "<div>\n",
       "<style scoped>\n",
       "    .dataframe tbody tr th:only-of-type {\n",
       "        vertical-align: middle;\n",
       "    }\n",
       "\n",
       "    .dataframe tbody tr th {\n",
       "        vertical-align: top;\n",
       "    }\n",
       "\n",
       "    .dataframe thead th {\n",
       "        text-align: right;\n",
       "    }\n",
       "</style>\n",
       "<table border=\"1\" class=\"dataframe\">\n",
       "  <thead>\n",
       "    <tr style=\"text-align: right;\">\n",
       "      <th></th>\n",
       "      <th>surface_covered_in_m2</th>\n",
       "    </tr>\n",
       "  </thead>\n",
       "  <tbody>\n",
       "    <tr>\n",
       "      <th>4</th>\n",
       "      <td>70.0</td>\n",
       "    </tr>\n",
       "    <tr>\n",
       "      <th>9</th>\n",
       "      <td>42.0</td>\n",
       "    </tr>\n",
       "    <tr>\n",
       "      <th>29</th>\n",
       "      <td>54.0</td>\n",
       "    </tr>\n",
       "    <tr>\n",
       "      <th>40</th>\n",
       "      <td>42.0</td>\n",
       "    </tr>\n",
       "    <tr>\n",
       "      <th>41</th>\n",
       "      <td>50.0</td>\n",
       "    </tr>\n",
       "    <tr>\n",
       "      <th>48</th>\n",
       "      <td>74.0</td>\n",
       "    </tr>\n",
       "    <tr>\n",
       "      <th>58</th>\n",
       "      <td>32.0</td>\n",
       "    </tr>\n",
       "    <tr>\n",
       "      <th>62</th>\n",
       "      <td>50.0</td>\n",
       "    </tr>\n",
       "    <tr>\n",
       "      <th>70</th>\n",
       "      <td>52.0</td>\n",
       "    </tr>\n",
       "    <tr>\n",
       "      <th>72</th>\n",
       "      <td>71.0</td>\n",
       "    </tr>\n",
       "    <tr>\n",
       "      <th>79</th>\n",
       "      <td>36.0</td>\n",
       "    </tr>\n",
       "    <tr>\n",
       "      <th>88</th>\n",
       "      <td>37.0</td>\n",
       "    </tr>\n",
       "    <tr>\n",
       "      <th>104</th>\n",
       "      <td>55.0</td>\n",
       "    </tr>\n",
       "    <tr>\n",
       "      <th>131</th>\n",
       "      <td>74.0</td>\n",
       "    </tr>\n",
       "    <tr>\n",
       "      <th>140</th>\n",
       "      <td>60.0</td>\n",
       "    </tr>\n",
       "    <tr>\n",
       "      <th>142</th>\n",
       "      <td>52.0</td>\n",
       "    </tr>\n",
       "    <tr>\n",
       "      <th>149</th>\n",
       "      <td>57.0</td>\n",
       "    </tr>\n",
       "  </tbody>\n",
       "</table>\n",
       "</div>"
      ],
      "text/plain": [
       "     surface_covered_in_m2\n",
       "4                     70.0\n",
       "9                     42.0\n",
       "29                    54.0\n",
       "40                    42.0\n",
       "41                    50.0\n",
       "48                    74.0\n",
       "58                    32.0\n",
       "62                    50.0\n",
       "70                    52.0\n",
       "72                    71.0\n",
       "79                    36.0\n",
       "88                    37.0\n",
       "104                   55.0\n",
       "131                   74.0\n",
       "140                   60.0\n",
       "142                   52.0\n",
       "149                   57.0"
      ]
     },
     "execution_count": 26,
     "metadata": {},
     "output_type": "execute_result"
    }
   ],
   "source": [
    "features = [\"surface_covered_in_m2\"]\n",
    "X_train = df[features]\n",
    "X_train.head(17)"
   ]
  },
  {
   "cell_type": "code",
   "execution_count": 51,
   "id": "f9aebc48-f627-4f4c-9d77-a01689505c9c",
   "metadata": {},
   "outputs": [],
   "source": [
    "#Now that we have a features, the next step is to create a target. \n",
    "#(By the way, you may have noticed that we're adding a _train tag to the variable names for our feature matrix and target vector. \n",
    "#This is to remind us that this is the data we'll use to train our model, and not the data we'll use to test it.)\n",
    "\n",
    "\n",
    "\n",
    "#Create the target vector named y_train, which you'll use to train your model. \n",
    "#Your target should be \"price_aprox_usd\". Remember that, in most cases, your target vector should be one-dimensional."
   ]
  },
  {
   "cell_type": "code",
   "execution_count": 27,
   "id": "77f189bc-3713-4f7f-9a21-00d8c3e26f44",
   "metadata": {},
   "outputs": [
    {
     "data": {
      "text/plain": [
       "4     129000.0\n",
       "9      87000.0\n",
       "29    118000.0\n",
       "40     57000.0\n",
       "41     90000.0\n",
       "Name: price_aprox_usd, dtype: float64"
      ]
     },
     "execution_count": 27,
     "metadata": {},
     "output_type": "execute_result"
    }
   ],
   "source": [
    "target = \"price_aprox_usd\"\n",
    "y_train = df[target]\n",
    "y_train.head()"
   ]
  },
  {
   "cell_type": "code",
   "execution_count": 54,
   "id": "30490ea0-ac39-46aa-a9ce-339fc23d4f85",
   "metadata": {},
   "outputs": [],
   "source": [
    "#Build Model\n",
    "#Baseline\n",
    "#the first step in building a model is baselining. \n",
    "#To do this, ask yourself how you will know if the model you build is performing well?\" \n",
    "#One way to think about this is to see how a \"dumb\" model would perform on the same data.\n",
    "#Some people also call this a naïve or baseline model, but it's always a model makes only one prediction — in this case, \n",
    "#it predicts the same price regardless of an apartment's size. So let's start by figuring out what our baseline model's prediction should be."
   ]
  },
  {
   "cell_type": "code",
   "execution_count": 31,
   "id": "b3b45e09-7296-4d79-9790-db5f04fcb490",
   "metadata": {},
   "outputs": [
    {
     "data": {
      "text/plain": [
       "135527.83871928515"
      ]
     },
     "execution_count": 31,
     "metadata": {},
     "output_type": "execute_result"
    }
   ],
   "source": [
    "#Calculate the mean of your target vector y_train and assign it to the variable y_mean\n",
    "#DUMB MODEL\n",
    "y_mean = y_train.mean()\n",
    "y_mean"
   ]
  },
  {
   "cell_type": "code",
   "execution_count": 32,
   "id": "5fbc8762-a091-400c-b302-c6da7c06bc9c",
   "metadata": {},
   "outputs": [
    {
     "data": {
      "text/plain": [
       "True"
      ]
     },
     "execution_count": 32,
     "metadata": {},
     "output_type": "execute_result"
    }
   ],
   "source": [
    "#Now that we have the one prediction that our dumb model will always make, \n",
    "#we need to generate a list that repeats the prediction for every observation in our dataset.\n",
    "\n",
    "y_pred_baseline =[y_mean]*len(y_train)\n",
    "len(y_pred_baseline)==len(y_train)"
   ]
  },
  {
   "cell_type": "code",
   "execution_count": 57,
   "id": "92b82982-2663-47b2-85df-098c4f1b4dae",
   "metadata": {},
   "outputs": [],
   "source": [
    "#add a line to the plot below that shows the relationship between the observations X_train and our dumb model's predictions y_pred_baseline. \n",
    "#Be sure that the line color is orange, and that it has the label \"Baseline Model\""
   ]
  },
  {
   "cell_type": "code",
   "execution_count": 33,
   "id": "7ca5fae7-378f-46d3-b5f4-d35f7cb4c94d",
   "metadata": {},
   "outputs": [
    {
     "data": {
      "image/png": "[encoded data removed]",
      "text/plain": [
       "<Figure size 640x480 with 1 Axes>"
      ]
     },
     "metadata": {},
     "output_type": "display_data"
    }
   ],
   "source": [
    "plt.plot(X_train[\"surface_covered_in_m2\"],y_pred_baseline,color=\"orange\",label=\"Baseline model\")\n",
    "plt.scatter(X_train, y_train)\n",
    "plt.xlabel(\"Area [sq meters]\")\n",
    "plt.ylabel(\"Price [USD]\")\n",
    "plt.title(\"Buenos Aires: Price vs. Area\")\n",
    "plt.legend();"
   ]
  },
  {
   "cell_type": "code",
   "execution_count": 59,
   "id": "9ce56db5-45af-4b94-8523-e6d8335a0e6d",
   "metadata": {},
   "outputs": [],
   "source": [
    "# THOUGH WE HAVE SOME CORRELATION FROM OUR PREVIOUS PLOT ON CORRELATION,Looking at this visualization, it seems like our baseline model doesn't really follow the trend in the data. \n",
    "#But, as a data scientist, you can't depend only on a subjective plot to evaluate a model. You need an exact, mathematically calculate performance metric. \n",
    "#There are lots of performance metrics, but the one we'll use here is the mean absolute error.\n",
    "\n",
    "\n",
    "\n",
    "#Calculate the baseline mean absolute error for your predictions in y_pred_baseline as compared to the true targets in y."
   ]
  },
  {
   "cell_type": "code",
   "execution_count": 34,
   "id": "64ac5869-db0e-47d0-a55a-f6d3c5ddf5f0",
   "metadata": {},
   "outputs": [
    {
     "name": "stdout",
     "output_type": "stream",
     "text": [
      "Mean apt price 135527.84\n",
      "Baseline MAE: 45199.46\n"
     ]
    }
   ],
   "source": [
    "#MAE TAKES TWO ARGUEMENT TRUE VALUE( Y-RAIN) AND PREDICTIVE VALUE(Y-PREDICTIVE BASELINE)\n",
    "\n",
    "mae_baseline = mean_absolute_error(y_train, y_pred_baseline)\n",
    "\n",
    "print(\"Mean apt price\", round(y_mean, 2))\n",
    "print(\"Baseline MAE:\", round(mae_baseline, 2))"
   ]
  },
  {
   "cell_type": "code",
   "execution_count": 29,
   "id": "bf71be2f-be97-4b51-8d94-dcf185d558f9",
   "metadata": {},
   "outputs": [],
   "source": [
    "#mae_baseline = mean_absolute_error(y_train, y_pred_baseline)\n",
    "#A GOOD MEAN ABOSULUTE ERROR IS SOMEWHERE AROUND ZERO NOT ACTUALLY ZERO.( IF ITS ZERO SOMETHING IS WRONG)\n",
    "#MAE CAN BE AS BIG AS YOU WANT\n",
    "#MAE UNIT OF MEASUREMENT IS WHAT THE VALUE IS FOR OUR Y AXIS IS\n",
    "\n",
    "\n",
    "#print(\"Mean apt price\", round(y_mean, 2)) print(\"Baseline MAE:\", round(mae_baseline, 2))What does this information tell us? \n",
    "#If we  predicted(QUESS) that an apartment price is $135,527.84 PRICE FOR ALL PROPERTIES, our predictions would be off by an average of $45,199.46. SO FOR OUR MODEL TO BE USEFUL WE NEED MAE LESS THAN 45199.46\n",
    "\n",
    "#It also tells us that our model needs to have mean absolute error below $45,199.46 in order to be useful. that is if we quess 135527.8 we wii be off by 45199.46"
   ]
  },
  {
   "cell_type": "code",
   "execution_count": 62,
   "id": "6c402668-f806-401c-98ed-a2c61b8f6175",
   "metadata": {},
   "outputs": [],
   "source": [
    "#The next step in building a model is iterating. \n",
    "#This involves building a model, training it, evaluating it, and then repeating the process until you're happy with the model's performance.\n",
    "#Even though the model we're building is linear, the iteration process rarely follows a straight line. \n",
    "#Be prepared for trying new things, hitting dead-ends, and waiting around while your computer does long computations to train your model. ☕️ Let's get started!\n",
    "\n",
    "#The first thing we need to do is create our model — in this case, one that uses linear regression."
   ]
  },
  {
   "cell_type": "code",
   "execution_count": 63,
   "id": "036c4c56-d9e6-46d4-8d63-ef2e1b3fa07c",
   "metadata": {},
   "outputs": [],
   "source": [
    "#ITERATE 3 STEPS TO BUILDING MODEL\n",
    "#1) INSTANTIATE( CREATE A MODEL TO BUILD)\n",
    "#2TRAIN THE MODEL( WE USE THE FIT METHOD )\n",
    "#3 USE MODEL TO PREDICT\n",
    "model =LinearRegression()\n",
    "\n",
    "#The second thing we need to do is use our data to train our model. Another way to say this is fit our model to the training data."
   ]
  },
  {
   "cell_type": "code",
   "execution_count": 64,
   "id": "af734918-61cc-4eb9-a155-0c1d53ded498",
   "metadata": {},
   "outputs": [
    {
     "data": {
      "text/html": [
       "<style>#sk-container-id-1 {color: black;background-color: white;}#sk-container-id-1 pre{padding: 0;}#sk-container-id-1 div.sk-toggleable {background-color: white;}#sk-container-id-1 label.sk-toggleable__label {cursor: pointer;display: block;width: 100%;margin-bottom: 0;padding: 0.3em;box-sizing: border-box;text-align: center;}#sk-container-id-1 label.sk-toggleable__label-arrow:before {content: \"▸\";float: left;margin-right: 0.25em;color: #696969;}#sk-container-id-1 label.sk-toggleable__label-arrow:hover:before {color: black;}#sk-container-id-1 div.sk-estimator:hover label.sk-toggleable__label-arrow:before {color: black;}#sk-container-id-1 div.sk-toggleable__content {max-height: 0;max-width: 0;overflow: hidden;text-align: left;background-color: #f0f8ff;}#sk-container-id-1 div.sk-toggleable__content pre {margin: 0.2em;color: black;border-radius: 0.25em;background-color: #f0f8ff;}#sk-container-id-1 input.sk-toggleable__control:checked~div.sk-toggleable__content {max-height: 200px;max-width: 100%;overflow: auto;}#sk-container-id-1 input.sk-toggleable__control:checked~label.sk-toggleable__label-arrow:before {content: \"▾\";}#sk-container-id-1 div.sk-estimator input.sk-toggleable__control:checked~label.sk-toggleable__label {background-color: #d4ebff;}#sk-container-id-1 div.sk-label input.sk-toggleable__control:checked~label.sk-toggleable__label {background-color: #d4ebff;}#sk-container-id-1 input.sk-hidden--visually {border: 0;clip: rect(1px 1px 1px 1px);clip: rect(1px, 1px, 1px, 1px);height: 1px;margin: -1px;overflow: hidden;padding: 0;position: absolute;width: 1px;}#sk-container-id-1 div.sk-estimator {font-family: monospace;background-color: #f0f8ff;border: 1px dotted black;border-radius: 0.25em;box-sizing: border-box;margin-bottom: 0.5em;}#sk-container-id-1 div.sk-estimator:hover {background-color: #d4ebff;}#sk-container-id-1 div.sk-parallel-item::after {content: \"\";width: 100%;border-bottom: 1px solid gray;flex-grow: 1;}#sk-container-id-1 div.sk-label:hover label.sk-toggleable__label {background-color: #d4ebff;}#sk-container-id-1 div.sk-serial::before {content: \"\";position: absolute;border-left: 1px solid gray;box-sizing: border-box;top: 0;bottom: 0;left: 50%;z-index: 0;}#sk-container-id-1 div.sk-serial {display: flex;flex-direction: column;align-items: center;background-color: white;padding-right: 0.2em;padding-left: 0.2em;position: relative;}#sk-container-id-1 div.sk-item {position: relative;z-index: 1;}#sk-container-id-1 div.sk-parallel {display: flex;align-items: stretch;justify-content: center;background-color: white;position: relative;}#sk-container-id-1 div.sk-item::before, #sk-container-id-1 div.sk-parallel-item::before {content: \"\";position: absolute;border-left: 1px solid gray;box-sizing: border-box;top: 0;bottom: 0;left: 50%;z-index: -1;}#sk-container-id-1 div.sk-parallel-item {display: flex;flex-direction: column;z-index: 1;position: relative;background-color: white;}#sk-container-id-1 div.sk-parallel-item:first-child::after {align-self: flex-end;width: 50%;}#sk-container-id-1 div.sk-parallel-item:last-child::after {align-self: flex-start;width: 50%;}#sk-container-id-1 div.sk-parallel-item:only-child::after {width: 0;}#sk-container-id-1 div.sk-dashed-wrapped {border: 1px dashed gray;margin: 0 0.4em 0.5em 0.4em;box-sizing: border-box;padding-bottom: 0.4em;background-color: white;}#sk-container-id-1 div.sk-label label {font-family: monospace;font-weight: bold;display: inline-block;line-height: 1.2em;}#sk-container-id-1 div.sk-label-container {text-align: center;}#sk-container-id-1 div.sk-container {/* jupyter's `normalize.less` sets `[hidden] { display: none; }` but bootstrap.min.css set `[hidden] { display: none !important; }` so we also need the `!important` here to be able to override the default hidden behavior on the sphinx rendered scikit-learn.org. See: https://github.com/scikit-learn/scikit-learn/issues/21755 */display: inline-block !important;position: relative;}#sk-container-id-1 div.sk-text-repr-fallback {display: none;}</style><div id=\"sk-container-id-1\" class=\"sk-top-container\"><div class=\"sk-text-repr-fallback\"><pre>LinearRegression()</pre><b>In a Jupyter environment, please rerun this cell to show the HTML representation or trust the notebook. <br />On GitHub, the HTML representation is unable to render, please try loading this page with nbviewer.org.</b></div><div class=\"sk-container\" hidden><div class=\"sk-item\"><div class=\"sk-estimator sk-toggleable\"><input class=\"sk-toggleable__control sk-hidden--visually\" id=\"sk-estimator-id-1\" type=\"checkbox\" checked><label for=\"sk-estimator-id-1\" class=\"sk-toggleable__label sk-toggleable__label-arrow\">LinearRegression</label><div class=\"sk-toggleable__content\"><pre>LinearRegression()</pre></div></div></div></div></div>"
      ],
      "text/plain": [
       "LinearRegression()"
      ]
     },
     "execution_count": 64,
     "metadata": {},
     "output_type": "execute_result"
    }
   ],
   "source": [
    "model.fit(X_train, y_train)"
   ]
  },
  {
   "cell_type": "code",
   "execution_count": 65,
   "id": "4192afcd-5191-4b1e-a790-3ca7b198fd61",
   "metadata": {},
   "outputs": [],
   "source": [
    "#Evaluate\n",
    "#The final step is to evaluate our model. \n",
    "#In order to do that, we'll start by seeing how well it performs when making predictions for data that it saw during training.\n",
    "#So let's have it predict the price for the houses in our training set."
   ]
  },
  {
   "cell_type": "code",
   "execution_count": 66,
   "id": "d9adaac6-5467-43d0-8f5e-684f1efd558d",
   "metadata": {},
   "outputs": [],
   "source": [
    "#Using your model's predict method, \n",
    "#create a list of predictions for the observations in your feature matrix X_train.\n",
    "#Name this array y_pred_training."
   ]
  },
  {
   "cell_type": "code",
   "execution_count": 67,
   "id": "35b8a821-1034-43c9-b15c-a6f363836336",
   "metadata": {},
   "outputs": [],
   "source": [
    "#Using your model's predict method, create a list of predictions for the observations in your feature matrix X_train. \n",
    "#Name this array y_pred_training.\n",
    "# WE SEE HOW OUR MODEL PERFORM O"
   ]
  },
  {
   "cell_type": "code",
   "execution_count": 68,
   "id": "ba7746bd-16cc-428f-94a4-3c7efdd64228",
   "metadata": {},
   "outputs": [
    {
     "data": {
      "text/plain": [
       "array([169151.87330223, 106064.44707446, 133101.91545779, 106064.44707446,\n",
       "       124089.42599668])"
      ]
     },
     "execution_count": 68,
     "metadata": {},
     "output_type": "execute_result"
    }
   ],
   "source": [
    "y_pred_training = model.predict(X_train)\n",
    "y_pred_training[:5]"
   ]
  },
  {
   "cell_type": "code",
   "execution_count": 69,
   "id": "591ee468-14f9-485a-8829-3e16f977815f",
   "metadata": {},
   "outputs": [],
   "source": [
    "#Now that we have predictions, we'll use them to assess our model's performance with the training data.\n",
    "#We'll use the same metric we used to evaluate our baseline model: mean absolute error. "
   ]
  },
  {
   "cell_type": "code",
   "execution_count": 70,
   "id": "64cad14b-4820-46a2-b8b4-0037c8491773",
   "metadata": {},
   "outputs": [
    {
     "name": "stdout",
     "output_type": "stream",
     "text": [
      "Training MAE: 31248.26\n"
     ]
    }
   ],
   "source": [
    "mae_training = mean_absolute_error(y_train, y_pred_training)\n",
    "print(\"Training MAE:\", round(mae_training, 2))"
   ]
  },
  {
   "cell_type": "code",
   "execution_count": 72,
   "id": "ee8155d2-247a-45a0-b05a-25f6fe295940",
   "metadata": {},
   "outputs": [],
   "source": [
    "#Good news: Our model beat the baseline by over $10,000! That's a good indicator that it will be helpful in predicting apartment prices.\n",
    "#But the real test is how the model performs on data that it hasn't seen before, data that we call the test set. In the future, \n",
    "#you'll create your own test set before you train your model, but here we'll use one that's pre-made, and we'll evaluate the model using the WQU auto-grader."
   ]
  },
  {
   "cell_type": "code",
   "execution_count": 73,
   "id": "f20ecba6-f081-4d16-9aa6-3be99c3824d3",
   "metadata": {},
   "outputs": [],
   "source": [
    "#Run the code below to import your test data buenos-aires-test-features.csv into a DataFrame and generate a Series of predictions using your model. \n",
    "#Then run the following cell to submit your predictions to the grader"
   ]
  },
  {
   "cell_type": "code",
   "execution_count": 80,
   "id": "a6bdcf5b-1188-4174-af0d-d1be7eae395b",
   "metadata": {},
   "outputs": [
    {
     "data": {
      "text/plain": [
       "0    259276.767913\n",
       "1    281807.991566\n",
       "2    507120.228094\n",
       "3    315604.827045\n",
       "4    169151.873302\n",
       "dtype: float64"
      ]
     },
     "execution_count": 80,
     "metadata": {},
     "output_type": "execute_result"
    }
   ],
   "source": [
    "X_test = pd.read_excel(r\"C:\\Users\\User\\anaconda3\\Lib\\site-packages\\sklearn\\datasets\\data\\mexico folder\\housing-in-buenos-aires1.xlsx\")[features]\n",
    "X_test.dropna(inplace=True)\n",
    "y_pred_test = pd.Series(model.predict(X_test))\n",
    "y_pred_test.head()"
   ]
  },
  {
   "cell_type": "code",
   "execution_count": 81,
   "id": "f0dcea26-28c5-4b55-9ece-fe8cfbe8dbff",
   "metadata": {},
   "outputs": [],
   "source": [
    "#Communicate Results\n",
    "#Once your model is built and tested,\n",
    "#it's time to share it with others. If you're presenting to simple linear model to a technical audience, they might appreciate an equation.\n",
    "#When we created our baseline model, we represented it as a line. The equation for a line like this is usually written as:\n",
    "\n",
    "#Equation: y = m*x + b\n",
    "#Since data scientists often work with more complicated linear models, they prefer to write the equation as:\n",
    "\n",
    "#Equation: y = beta 0 + beta 1 * x\n",
    "#Regardless of how we write the equation, we need to find the values that our model has determined for the intercept and and coefficient. Fortunately, all trained models in scikit-learn store this information in the model itself. Let's start with the intercept"
   ]
  },
  {
   "cell_type": "code",
   "execution_count": 82,
   "id": "a5916fcf-9aca-46e4-b2ff-cdb321595ae9",
   "metadata": {},
   "outputs": [
    {
     "name": "stdout",
     "output_type": "stream",
     "text": [
      "Model Intercept: 11433\n"
     ]
    }
   ],
   "source": [
    "#Extract the intercept from your model, and assign it to the variable intercept#\n",
    "intercept = round(model.intercept_)\n",
    "print(\"Model Intercept:\", intercept)\n",
    "assert any([isinstance(intercept, int), isinstance(intercept, float)])"
   ]
  },
  {
   "cell_type": "code",
   "execution_count": 83,
   "id": "9f1e6f94-a125-4274-8c4e-23984482a18e",
   "metadata": {},
   "outputs": [
    {
     "name": "stdout",
     "output_type": "stream",
     "text": [
      "Model coefficient for \"surface_covered_in_m2\": 2253.12\n"
     ]
    }
   ],
   "source": [
    "#Extract the coefficient associated \"surface_covered_in_m2\" in your model, and assign it to the variable coefficient.\n",
    "coefficient =round(model.coef_[0], 2)\n",
    "print('Model coefficient for \"surface_covered_in_m2\":', coefficient)\n",
    "assert any([isinstance(coefficient, int), isinstance(coefficient, float)])"
   ]
  },
  {
   "cell_type": "code",
   "execution_count": 84,
   "id": "67f0e67c-7d2d-4773-848d-f9ee36e376d5",
   "metadata": {},
   "outputs": [
    {
     "name": "stdout",
     "output_type": "stream",
     "text": [
      "apt_Price=11433 +2253.12 + surface_covered\n"
     ]
    }
   ],
   "source": [
    "#Complete the code below and run the cell to print the equation that your model has determined for predicting apartment price based on size\n",
    "print(f\"apt_Price={intercept} +{coefficient} + surface_covered\")"
   ]
  },
  {
   "cell_type": "code",
   "execution_count": 85,
   "id": "2d929ddb-e9ec-487c-ada9-1a21f677377b",
   "metadata": {},
   "outputs": [],
   "source": [
    "#Equation might work for some technical audiences, but visualization or generally much more effective communication tool — especially for non-technical audiences.\n",
    "#So let's use the scatter plot we made at the beginning of this lesson and plot the line that that are equation would make."
   ]
  },
  {
   "cell_type": "code",
   "execution_count": 86,
   "id": "7019864f-1910-4f2c-89dc-3e49841cf733",
   "metadata": {},
   "outputs": [
    {
     "data": {
      "image/png": "[encoded data removed]",
      "text/plain": [
       "<Figure size 640x480 with 1 Axes>"
      ]
     },
     "metadata": {},
     "output_type": "display_data"
    }
   ],
   "source": [
    "#Add a line to the plot below that shows the relationship between the observations in X_train and your model's predictions y_pred_training.\n",
    "#Be sure that the line color is red, and that it has the label \"Linear Model\".\n",
    "\n",
    "#What's a line plot?\n",
    "\n",
    "\n",
    "\n",
    "plt.plot(X_train, model.predict (X_train), color=\"r\", label=\"Linear Model\")\n",
    "plt.scatter(X_train, y_train)\n",
    "plt.xlabel(\"surface covered [sq meters]\")\n",
    "plt.ylabel(\"price [usd]\")\n",
    "plt.legend();"
   ]
  },
  {
   "cell_type": "code",
   "execution_count": null,
   "id": "7d0f9742-dbd3-48ee-85ed-1c6f766ae9da",
   "metadata": {},
   "outputs": [],
   "source": [
    "\n",
    "#This is  our simple model as a line imposed on a 2D scatter plot."
   ]
  }
 ],
 "metadata": {
  "kernelspec": {
   "display_name": "Python 3 (ipykernel)",
   "language": "python",
   "name": "python3"
  },
  "language_info": {
   "codemirror_mode": {
    "name": "ipython",
    "version": 3
   },
   "file_extension": ".py",
   "mimetype": "text/x-python",
   "name": "python",
   "nbconvert_exporter": "python",
   "pygments_lexer": "ipython3",
   "version": "3.10.9"
  }
 },
 "nbformat": 4,
 "nbformat_minor": 5
}
